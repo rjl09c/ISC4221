{
 "cells": [
  {
   "cell_type": "markdown",
   "metadata": {},
   "source": [
    "# Lab 0: Jupyter and Algorithms Introduction\n",
    "The purpose of the first section of this lab is to get you set up and acquainted with the Jupyter notebook format that you'll (ideally) be using to complete you laboratory and homework assignments. The second section is meant as a primer on our discussion on comparing algorithms and will get you aquainted with writing up labs in the required format. \n",
    "\n",
    "\n",
    "## Jupyter notebooks\n",
    "\n",
    "Go ahead and install Jupyter by following the instructions here:\n",
    "\n",
    "http://jupyter.readthedocs.io/en/latest/install.html\n",
    "\n",
    "\n",
    "I'd recommend going with the Anaconda install route, but as long as you get it working, you are be good to go. \n"
   ]
  },
  {
   "cell_type": "markdown",
   "metadata": {
    "collapsed": true
   },
   "source": [
    "Each of these different sections is an example of a cell. You use cells to seperate different blocks of the notebook. They only two cell types you really need worry about for now are Markdown and Code type cells. This is a markdown cell, as evident by the fact that it appears as formatted text. "
   ]
  },
  {
   "cell_type": "code",
   "execution_count": 3,
   "metadata": {
    "collapsed": false
   },
   "outputs": [
    {
     "name": "stdout",
     "output_type": "stream",
     "text": [
      "This is a functioning python cell\n",
      "As is evident by the fact that it is functional, syntatically highlighted python code\n",
      "which produces output\n"
     ]
    }
   ],
   "source": [
    "print \"This is a functioning python cell\"\n",
    "print \"As is evident by the fact that it is functional, syntatically highlighted python code\"\n",
    "print \"which produces output\""
   ]
  },
  {
   "cell_type": "markdown",
   "metadata": {},
   "source": [
    "Because I'll be using markdown to write questions, and you'll be using markdown to answer them, you'd do well to familiarize yourself with it as described here:\n",
    "\n",
    "http://jupyter-notebook.readthedocs.io/en/latest/examples/Notebook/Working%20With%20Markdown%20Cells.html"
   ]
  },
  {
   "cell_type": "markdown",
   "metadata": {},
   "source": [
    "### Task 1\n",
    "In the empty cell bellow, use Markdown to outline an Algorithm you learned in Algorithms I below. Be specific, clear, and unambiguous. Differentiate different blocks (loops, if statements) by varying levels of headers/indentation, and use LaTex to write your equations. \n"
   ]
  },
  {
   "cell_type": "code",
   "execution_count": null,
   "metadata": {
    "collapsed": true
   },
   "outputs": [],
   "source": []
  },
  {
   "cell_type": "markdown",
   "metadata": {},
   "source": [
    "### Task 2\n",
    "\n",
    "Great. Now that you've outlined your algorithm above, go ahead and use the empty code cell below to code up the same algorithm in python. Note that in order to produce results, an algorithm isn't enough; you also need a problem. Pick an appropriate problem for your algorithm, initialize it, and pass the appropriate parameters to your algorithm in order to generate a solution. "
   ]
  },
  {
   "cell_type": "code",
   "execution_count": null,
   "metadata": {
    "collapsed": false
   },
   "outputs": [],
   "source": []
  },
  {
   "cell_type": "markdown",
   "metadata": {},
   "source": [
    "### Task 3\n",
    "Now that you've got your solution, in the cell below, have a go at plotting in. See here for details: \n",
    "http://stackoverflow.com/questions/19410042/how-to-make-ipython-notebook-matplotlib-plot-inline\n",
    "If your solution is a scalar, condisder plotting the intermediate results of the algorithm up until it's final solution. If you're algorithm doesn't lend itself to an X/Y plot, look up a function for a suitable plot code it up below. "
   ]
  },
  {
   "cell_type": "code",
   "execution_count": null,
   "metadata": {
    "collapsed": false
   },
   "outputs": [],
   "source": []
  },
  {
   "cell_type": "markdown",
   "metadata": {},
   "source": [
    "## Sorting and searching algorithms.\n",
    "\n",
    "Now we're going to do some python coding. Consider the problem of searching a database of numbers for a specific value. Because the database is so large, we're not keen to search through it manually, so are interested in searching through it algorithmically. I'll go ahead and read the database in below. "
   ]
  },
  {
   "cell_type": "code",
   "execution_count": 10,
   "metadata": {
    "collapsed": false
   },
   "outputs": [],
   "source": [
    "f = open('database.dat', 'r')\n",
    "database = f.readlines()"
   ]
  },
  {
   "cell_type": "markdown",
   "metadata": {},
   "source": [
    "### Task 1\n",
    "You'll find 6 list files in the same directory, list1.dat, list2.dat and so on. In the cell below, read these lists in, and then search the database for the variables in the list. The lists are of different lengths. Calculate the time it takes to search the database for all of the entries in each list, as well as the average search time per entry for each list. Produce a plot of the length of the list vs the total time it takes search for all the entries in the list. I've gone ahead and imported a helpful module and demonstrated a command in it. "
   ]
  },
  {
   "cell_type": "code",
   "execution_count": 11,
   "metadata": {
    "collapsed": true
   },
   "outputs": [],
   "source": [
    "import time\n",
    "currenttime = time.clock"
   ]
  },
  {
   "cell_type": "markdown",
   "metadata": {},
   "source": [
    "### Task 2\n",
    "In the cell below, you're going to use the  <a href=\"https://en.wikipedia.org/wiki/Binary_search_algorithm\">binary search algorithm</a> to search for the entries in each of the lists. You may need to do some preprocessing of the database in order to make this work properly. For this algorithm, Calculate the time it takes to search the database for all of the entries in each list, as well as the average source time per entry for each list. *Be sure to include the time it took to prepocess the database in the times for each list (even if you only preprocess it once, include the time for each list)*. Produce the same plots as you did above for this algorithm.  \n",
    "\n",
    "**Bonus *(:**  Implement a sort algorithm for preproccessing the array and use it instead of one from a module. "
   ]
  },
  {
   "cell_type": "code",
   "execution_count": null,
   "metadata": {
    "collapsed": true
   },
   "outputs": [],
   "source": []
  },
  {
   "cell_type": "markdown",
   "metadata": {},
   "source": [
    "### Task 3\n",
    "In a paragraph or so, describe your results. Which algorithm is better. Is it always better? Are there differences in the amount of memerory required to store the variables in each algorithm? "
   ]
  },
  {
   "cell_type": "code",
   "execution_count": null,
   "metadata": {
    "collapsed": true
   },
   "outputs": [],
   "source": []
  },
  {
   "cell_type": "markdown",
   "metadata": {},
   "source": [
    "### Task 4\n",
    "All that's left to do is to save your notebook, Download it as a PDF (into the same directory as the notebook). Zip it back up, and submit it to the course Blackboard. This will be due on May 18th at 11:59pm EDT. "
   ]
  },
  {
   "cell_type": "code",
   "execution_count": null,
   "metadata": {
    "collapsed": true
   },
   "outputs": [],
   "source": []
  }
 ],
 "metadata": {
  "kernelspec": {
   "display_name": "Python 2",
   "language": "python",
   "name": "python2"
  },
  "language_info": {
   "codemirror_mode": {
    "name": "ipython",
    "version": 2
   },
   "file_extension": ".py",
   "mimetype": "text/x-python",
   "name": "python",
   "nbconvert_exporter": "python",
   "pygments_lexer": "ipython2",
   "version": "2.7.11"
  }
 },
 "nbformat": 4,
 "nbformat_minor": 0
}
