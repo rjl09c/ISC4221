{
 "cells": [
  {
   "cell_type": "markdown",
   "metadata": {
    "slideshow": {
     "slide_type": "slide"
    }
   },
   "source": [
    "# Data Mining\n",
    "\n",
    "Originally a statistical term of art for overusing data to draw invalid inferences\n",
    "\n",
    "*\"Bonferroni's theorem tells us that if there are many possible conclusions to draw, some of them will be true statistical reasons with no physical validity\"*"
   ]
  },
  {
   "cell_type": "markdown",
   "metadata": {
    "slideshow": {
     "slide_type": "subslide"
    }
   },
   "source": [
    "## Thoughts on the need for data-mining\n",
    "\n",
    "*\"Drowning in Data yet Starving for Knowledge\"* - unknown \n",
    "\n",
    "*\"Computers have promised us a fountain of wisdom but delivered a flood of data\"* - William J. Frawley, Gregory Piatetsky-Shapiro, and Christopher J. Matheus\n",
    "\n",
    "*\"Where is the wisdom we have lost in knowledge? Where is the knowledge we\n",
    "have lost in information?\"* - T.S Eliot\n",
    "<img src=\"http://www.ncbi.nlm.nih.gov/core/assets/genbank/images/genbankgrowth.jpg\" width=\"250\" height=\"250\" />\n"
   ]
  },
  {
   "cell_type": "markdown",
   "metadata": {
    "slideshow": {
     "slide_type": "subslide"
    }
   },
   "source": [
    "## What Data Mining isn't: \n",
    "\n",
    "<s> *Data Mining, noun: “Torturing data until it confesses ... and if you torture it\n",
    "enough, it will confess to anything”* </s>\n",
    "\n",
    "<s> *\"An Unethical Econometric practice of massaging and manipulating the data to\n",
    "obtain the desired results*\" </s>\n",
    "\n",
    "Times change and words change with the times. (*Tempora mutantur, nos et mutamur in illis*, more or less)\n"
   ]
  },
  {
   "cell_type": "markdown",
   "metadata": {
    "slideshow": {
     "slide_type": "subslide"
    }
   },
   "source": [
    "## Current Day Examples of Data Mining\n",
    "\n",
    "* Traveler patterns studied/analysed to manage the sale of discounted seats/hotel rooms rooms. \n",
    "\n",
    "* The connection between diapers and beer. From the user of data mining it was observed that customers who buy diapers are more likely to by beer than average. Supermarkets then placed beer and diapers nearby, knowing many customers would walk between them. Placing potato chips between diapers and beer increased sales of all three items.\n",
    "\n",
    "* Skycat and Sloan Digital Sky Survey - clustering sky objects by their radiation levels in different bands allowed astromomers to distinguish between galaxies, nearby stars,and many other kinds of celestial objects.\n",
    "\n",
    "* Comparison of the genotype of people with/without a condition allowed the discovery of a set of genes that together account for many cases of diabetes. This sort of mining will become much more important as the human genome is constructed."
   ]
  },
  {
   "cell_type": "markdown",
   "metadata": {
    "slideshow": {
     "slide_type": "subslide"
    }
   },
   "source": [
    "## Big data tolls for thee\n",
    "\n",
    "<img src=\"http://i.imgur.com/gGs5f1d.png\" width=\"300\" height=\"400\" />\n"
   ]
  },
  {
   "cell_type": "markdown",
   "metadata": {},
   "source": [
    "## The Component Fields of data mining\n",
    "\n",
    "* Statistics\n",
    "* Mathematics\n",
    "* Artifical Intelligence (*machine learning*)\n",
    "* Visualization\n",
    "* Information/Database sciences\n"
   ]
  },
  {
   "cell_type": "markdown",
   "metadata": {},
   "source": [
    "## Stages of data mining\n",
    "* <s>Denial</s> Data gathering (data warehousing, web crawling, semi-legal metadata collection)\n",
    "* Data cleansing (elimating errors, corrupted data, unphysical outliers)\n",
    "* Feature extraction (obtaining only the interesting attributes of the data; i.e. timestamp for data that has no reason to be time-dependent)\n",
    "* Pattern extraction/discovery (the classical \"data-mining\" step)\n",
    "* Visualization\n",
    "* Evaluation of the results (not every discovered fact is useful or true.)\n",
    "  * Use you judgement\n",
    "  \n",
    "<img src=\"http://sparrowism.soc.srcf.net/home/piratesarecool4.gif\" width=\"400\" height=\"300\" />\n",
    "  "
   ]
  },
  {
   "cell_type": "markdown",
   "metadata": {
    "slideshow": {
     "slide_type": "slide"
    }
   },
   "source": [
    "# Clustering\n",
    "* Clustering strives to indetify groups/clusters of objects that behave similarly/or have similar characteristics. \n",
    "\n",
    "*Similarity is ofter quantified via some sort of distance function. \n",
    "\n",
    "* Has different names in different contexts \n",
    "  * Segmentation method (market studies)\n",
    "  * Unsupervised learning (neural network studies)\n",
    "\n",
    "* Cluster is a technique which attempts to find order in apparently unordered data. \n",
    "  * Data may be discrete or continuous. \n",
    "  \n",
    "We'll look at three types of clustering\n",
    " * Hierachical clustering\n",
    " * K-means clustering\n",
    " * geometric clustering\n",
    "  "
   ]
  },
  {
   "cell_type": "code",
   "execution_count": null,
   "metadata": {
    "collapsed": true
   },
   "outputs": [],
   "source": []
  }
 ],
 "metadata": {
  "celltoolbar": "Slideshow",
  "kernelspec": {
   "display_name": "Python 2",
   "language": "python",
   "name": "python2"
  },
  "language_info": {
   "codemirror_mode": {
    "name": "ipython",
    "version": 2
   },
   "file_extension": ".py",
   "mimetype": "text/x-python",
   "name": "python",
   "nbconvert_exporter": "python",
   "pygments_lexer": "ipython2",
   "version": "2.7.11"
  }
 },
 "nbformat": 4,
 "nbformat_minor": 0
}
