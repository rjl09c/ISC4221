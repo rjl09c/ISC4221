{
 "cells": [
  {
   "cell_type": "markdown",
   "metadata": {
    "slideshow": {
     "slide_type": "slide"
    }
   },
   "source": [
    "# Data Mining\n",
    "\n",
    "Originally a statistical term of art for overusing data to draw invalid inferences\n",
    "\n",
    "*\"Bonferroni's theorem tells us that if there are many possible conclusions to draw, some of them will be true statistical reasons with no physical validity\"*"
   ]
  },
  {
   "cell_type": "markdown",
   "metadata": {
    "slideshow": {
     "slide_type": "subslide"
    }
   },
   "source": [
    "## Data mining, the original meaning\n",
    "<img src=\"https://imgs.xkcd.com/comics/significant.png\" width=\"250\" height=\"250\" />\n"
   ]
  },
  {
   "cell_type": "markdown",
   "metadata": {
    "slideshow": {
     "slide_type": "subslide"
    }
   },
   "source": [
    "## Thoughts on the need for data-mining\n",
    "\n",
    "*\"Drowning in Data yet Starving for Knowledge\"* - unknown \n",
    "\n",
    "*\"Computers have promised us a fountain of wisdom but delivered a flood of data\"* - William J. Frawley, Gregory Piatetsky-Shapiro, and Christopher J. Matheus\n",
    "\n",
    "*\"Where is the wisdom we have lost in knowledge? Where is the knowledge we\n",
    "have lost in information?\"* - T.S Eliot\n",
    "<img src=\"http://www.ncbi.nlm.nih.gov/core/assets/genbank/images/genbankgrowth.jpg\" width=\"250\" height=\"250\" />\n"
   ]
  },
  {
   "cell_type": "markdown",
   "metadata": {
    "slideshow": {
     "slide_type": "subslide"
    }
   },
   "source": [
    "## What Data Mining isn't: \n",
    "\n",
    "<s> *Data Mining, noun: “Torturing data until it confesses ... and if you torture it\n",
    "enough, it will confess to anything”* </s>\n",
    "\n",
    "<s> *\"An Unethical Econometric practice of massaging and manipulating the data to\n",
    "obtain the desired results*\" </s>\n",
    "\n",
    "Times change and words change with the times. (*Tempora mutantur, nos et mutamur in illis*, more or less)\n"
   ]
  },
  {
   "cell_type": "markdown",
   "metadata": {
    "slideshow": {
     "slide_type": "subslide"
    }
   },
   "source": [
    "## Current Day Examples of Data Mining\n",
    "\n",
    "* Traveler patterns studied/analysed to manage the sale of discounted seats/hotel rooms rooms. \n",
    "\n",
    "* The connection between diapers and beer. From the user of data mining it was observed that customers who buy diapers are more likely to by beer than average. Supermarkets then placed beer and diapers nearby, knowing many customers would walk between them. Placing potato chips between diapers and beer increased sales of all three items.\n",
    "\n",
    "* Skycat and Sloan Digital Sky Survey - clustering sky objects by their radiation levels in different bands allowed astromomers to distinguish between galaxies, nearby stars,and many other kinds of celestial objects.\n",
    "\n",
    "* Comparison of the genotype of people with/without a condition allowed the discovery of a set of genes that together account for many cases of diabetes. This sort of mining will become much more important as the human genome is constructed."
   ]
  },
  {
   "cell_type": "markdown",
   "metadata": {
    "slideshow": {
     "slide_type": "subslide"
    }
   },
   "source": [
    "## Big data tolls for thee\n",
    "\n",
    "<img src=\"http://i.imgur.com/gGs5f1d.png\" width=\"300\" height=\"400\" />\n"
   ]
  },
  {
   "cell_type": "markdown",
   "metadata": {
    "slideshow": {
     "slide_type": "subslide"
    }
   },
   "source": [
    "## The Component Fields of data mining\n",
    "\n",
    "* Statistics\n",
    "* Mathematics\n",
    "* Artifical Intelligence (*machine learning*)\n",
    "* Visualization\n",
    "* Information/Database sciences\n"
   ]
  },
  {
   "cell_type": "markdown",
   "metadata": {
    "slideshow": {
     "slide_type": "subslide"
    }
   },
   "source": [
    "## Stages of data mining\n",
    "* <s>Denial</s> Data gathering (data warehousing, web crawling, semi-legal metadata collection)\n",
    "* Data cleansing (elimating errors, corrupted data, unphysical outliers)\n",
    "* Feature extraction (obtaining only the interesting attributes of the data; i.e. timestamp for data that has no reason to be time-dependent)\n",
    "* Pattern extraction/discovery (the classical \"data-mining\" step)\n",
    "* Visualization\n",
    "* Evaluation of the results (not every discovered fact is useful or true.)\n",
    "  * Use you judgement\n",
    "  \n",
    "<img src=\"http://sparrowism.soc.srcf.net/home/piratesarecool4.gif\" width=\"400\" height=\"300\" />\n",
    "  "
   ]
  },
  {
   "cell_type": "markdown",
   "metadata": {
    "slideshow": {
     "slide_type": "slide"
    }
   },
   "source": [
    "# Clustering\n",
    "* Clustering strives to indetify groups/clusters of objects that behave similarly/or have similar characteristics. \n",
    "\n",
    "*Similarity is ofter quantified via some sort of distance function. \n",
    "\n",
    "* Has different names in different contexts \n",
    "  * Segmentation method (market studies)\n",
    "  * Unsupervised learning (neural network studies)\n",
    "\n",
    "* Cluster is a technique which attempts to find order in apparently unordered data. \n",
    "  * Data may be discrete or continuous. \n",
    "  \n",
    "We'll look at three types of clustering\n",
    " * Hierarchical clustering\n",
    " * K-means clustering\n",
    " * geometric clustering\n",
    "  "
   ]
  },
  {
   "cell_type": "markdown",
   "metadata": {
    "collapsed": true,
    "slideshow": {
     "slide_type": "subslide"
    }
   },
   "source": [
    "## Hierarchical Clustering\n",
    "\n",
    "Clustering data points based on a tree-like hierarchical relationships \n",
    "\n",
    "In **agglomerative hierarchical clustering**, the data is grouped in a bottom up fashion; every data point starts out as a cluster of 1, then you begin grouping similar objects. \n",
    "\n",
    "The opposite approach is **divisive hierarchical clustering**; everything start outs in the same cluster, then you begin breaking off clusters based on differences. \n",
    "\n",
    "**The most important concept for clustering is how you quantify \"similarness\" of two different data points. Often times this will be a \"distance\" in some space.**\n",
    "\n",
    "Different clustering methods define this distance in different ways. "
   ]
  },
  {
   "cell_type": "markdown",
   "metadata": {
    "slideshow": {
     "slide_type": "subslide"
    }
   },
   "source": [
    "## Measures of Distance\n",
    "\n",
    "Natural concept for data points in physical space (x,y,z); use Euclidean distance formula. \n",
    "\n",
    "There are other ways of doing it as well (infinity norm / max norm) \n",
    "\n",
    "In stating the distance between two objects, you need to define your distance. \n",
    "\n",
    "Often, our objects are not in Euclidean space (colors in an image, amino acid codons, etc...), yet we still need to quantify the distance between them. \n"
   ]
  },
  {
   "cell_type": "markdown",
   "metadata": {
    "slideshow": {
     "slide_type": "subslide"
    }
   },
   "source": [
    "## Measures of Distance\n",
    "\n",
    "Let $A,\\ B$ and $C$ be clusters (which may consist of a single or multiple objects). WE denote the distance between $A$ and $B$ as $d(A,B)$ where $d(\\cdot,\\cdot)$ satisfies the following general properties by definiton. \n",
    "\n",
    "1. $d(A,A) = 0$\n",
    "2. $d(A,B) = d(B,A)$\n",
    "3. $d(A,B) \\ge 0$\n",
    "4. $d(A,B) + d(B,C) \\le d(A,C)$ \n",
    "\n",
    "If you decide on the Euclidean norm (or any vector norm), measuring the distance between two single objects is relatively simple; but how do define the distance between two groups of objects\n",
    "\n",
    "* Nearest neigbhor, furthest, average, centroid"
   ]
  },
  {
   "cell_type": "markdown",
   "metadata": {
    "slideshow": {
     "slide_type": "subslide"
    }
   },
   "source": [
    "### Measures of distance example:\n",
    "\n",
    "Imagine we have two words we want to quantify the distance between; You can define a path from the first word to the second word by changing one letter at a time to make another word (a legal word (scrabble legal)). \n",
    "\n",
    "Lets look at an example of the distance between GOLF and WORD\n",
    "\n",
    "GOLF $\\rightarrow$ GOLD $\\rightarrow$ COLD $\\rightarrow$ CORD $\\rightarrow$ WORD\n",
    "\n",
    "The distance in this metric is 4, for GOLF and WOLF it would be 1. \n",
    "\n",
    "This metric satisfies all of our neccesary properties of a distance. \n"
   ]
  },
  {
   "cell_type": "markdown",
   "metadata": {
    "slideshow": {
     "slide_type": "slide"
    }
   },
   "source": [
    "# Agglomerative Hierachical Clustering\n",
    "\n",
    "Bottoms up grouping of objects. \n",
    "\n",
    "Starting with N objects we want to cluster, we let each object initially be it's own cluster. This gives us N clusters. \n",
    "\n",
    "Our first step is to pick the two closest (however we define it) clusters (objects in this first step) and form a cluster with them. We now have N-1 clusters and now record that in the first step,  clusters i and j were merged. \n",
    "\n",
    "Our second step, we again merge the two closest clusters. This may involve merging our two object cluster with a third, or merging two individial objects for a new cluster. \n",
    "\n",
    "We continue until we have a single cluster, or a user specified number of clusters. \n",
    "\n",
    "How do we define distance between one object, and a cluster of multiple objectss?"
   ]
  },
  {
   "cell_type": "markdown",
   "metadata": {
    "slideshow": {
     "slide_type": "subslide"
    }
   },
   "source": [
    "## Single Linkage Hierarchial Clustering\n",
    "\n",
    "This clustering technique makes a specific choice for determining closeness between clusters; the distance between two clusters is the distance between the closest elements in the two clusters. \n",
    "\n",
    "<img src=\"http://i.imgur.com/AqylMZc.png\" width=\"300\" height=\"400\" />\n"
   ]
  },
  {
   "cell_type": "markdown",
   "metadata": {
    "slideshow": {
     "slide_type": "subslide"
    }
   },
   "source": [
    "## SLHC\n",
    "If $A$ consists of #n# objects $\\alpha_i$ and $B$ consists of $m$ objects $\\beta_j$, then the distance between $A$ and $B$ would be given as \n",
    "\n",
    "$$ d(A,B) = \\min(d(\\alpha_i,\\beta_j)) \\text{ for } i=1,n, j =1,m$$\n",
    "\n",
    "The distance between all possible object pairs is computed, and the the minimum value of these is said to be the distance between clusters A and B. "
   ]
  },
  {
   "cell_type": "markdown",
   "metadata": {
    "slideshow": {
     "slide_type": "subslide"
    }
   },
   "source": [
    "### Clustering in Python \n",
    "Lets initalize some stuff first. "
   ]
  },
  {
   "cell_type": "code",
   "execution_count": 7,
   "metadata": {
    "collapsed": false,
    "slideshow": {
     "slide_type": "fragment"
    }
   },
   "outputs": [
    {
     "data": {
      "image/png": "[encoded data removed]",
      "text/plain": [
       "<matplotlib.figure.Figure at 0x7a9bfd0>"
      ]
     },
     "metadata": {},
     "output_type": "display_data"
    }
   ],
   "source": [
    "# needed imports\n",
    "from matplotlib import pyplot as plt\n",
    "from scipy.cluster.hierarchy import dendrogram, linkage\n",
    "import numpy as np\n",
    "%matplotlib inline\n",
    "np.set_printoptions(precision=5, suppress=True) \n",
    "a = [[3,0], [0,1], [1,1], [6,1], [2,2], [4,2], [7,3], [6,5], [4,7], [7,7], [0,8], [2,8]]\n",
    "\n",
    "a = np.asarray(a)\n",
    "plt.scatter(a[:,0], a[:,1])\n",
    "plt.show()\n"
   ]
  },
  {
   "cell_type": "markdown",
   "metadata": {
    "slideshow": {
     "slide_type": "subslide"
    }
   },
   "source": [
    "### Clustering in Python\n",
    "Now lets do some clustering"
   ]
  },
  {
   "cell_type": "code",
   "execution_count": 17,
   "metadata": {
    "collapsed": false,
    "slideshow": {
     "slide_type": "fragment"
    }
   },
   "outputs": [
    {
     "data": {
      "image/png": "[encoded data removed]",
      "text/plain": [
       "<matplotlib.figure.Figure at 0x83d89e8>"
      ]
     },
     "metadata": {},
     "output_type": "display_data"
    }
   ],
   "source": [
    "Z = linkage(a, 'single', 'euclidean')\n",
    "plt.title('Hierarchical Clustering Dendrogram')\n",
    "plt.xlabel('sample index')\n",
    "plt.ylabel('distance')\n",
    "t = dendrogram(\n",
    "    Z,\n",
    "    leaf_rotation=90.,  # rotates the x axis labels\n",
    "    leaf_font_size=8.,  # font size for the x axis labels\n",
    ")\n"
   ]
  },
  {
   "cell_type": "markdown",
   "metadata": {
    "slideshow": {
     "slide_type": "subslide"
    }
   },
   "source": [
    "### Clustering in Python"
   ]
  },
  {
   "cell_type": "markdown",
   "metadata": {
    "slideshow": {
     "slide_type": "fragment"
    }
   },
   "source": [
    "<img src=\"http://i.imgur.com/pY1IX6Z.png\" width=\"500\" height=\"500\" />\n",
    "\n",
    "Single linkage clustering tends to cluster items due to one outlier in a cluster grabing vaguely close points. We can avoid this with complete linkage clustering. \n"
   ]
  },
  {
   "cell_type": "markdown",
   "metadata": {
    "slideshow": {
     "slide_type": "subslide"
    }
   },
   "source": [
    "## Completed Linkage Hierarchical Clustering \n",
    "\n",
    "The opposite of SLHC. \n",
    "Looks at the maximum distance between objects in two clusters. \n",
    "$$ d(A,B) = \\max(d(\\alpha_i,\\beta_j)) \\text{ for } i=1,n, j =1,m$$\n",
    "\n",
    "At each step, the two clusters with the minimalist maximum distance are clustered. \n",
    "\n",
    "<img src=\"http://i.imgur.com/aRDJwAC.png\" width=\"400\" height=\"400\" />\n"
   ]
  },
  {
   "cell_type": "markdown",
   "metadata": {
    "slideshow": {
     "slide_type": "subslide"
    }
   },
   "source": [
    "### CLHC in Python"
   ]
  },
  {
   "cell_type": "code",
   "execution_count": 18,
   "metadata": {
    "collapsed": false,
    "slideshow": {
     "slide_type": "fragment"
    }
   },
   "outputs": [
    {
     "data": {
      "image/png": "[encoded data removed]",
      "text/plain": [
       "<matplotlib.figure.Figure at 0x83e8208>"
      ]
     },
     "metadata": {},
     "output_type": "display_data"
    }
   ],
   "source": [
    "### CLHC in Python\n",
    "Z = linkage(a, 'complete', 'euclidean')\n",
    "plt.title('Hierarchical Clustering Dendrogram')\n",
    "plt.xlabel('sample index')\n",
    "plt.ylabel('distance')\n",
    "t = dendrogram(\n",
    "    Z,\n",
    "    leaf_rotation=90.,  # rotates the x axis labels\n",
    "    leaf_font_size=8.,  # font size for the x axis labels\n",
    ")"
   ]
  },
  {
   "cell_type": "markdown",
   "metadata": {
    "slideshow": {
     "slide_type": "subslide"
    }
   },
   "source": [
    "## Other Hierachical clusterings \n",
    "\n",
    "* Average linkage hierarchical clustering\n",
    "  * $d(A,B) = \\frac{1}{mn} \\sum_{i=1}^n\\sum_{j=1}^m d(\\alpha_i, \\beta_j)$\n",
    "  \n",
    "* Centroid linkage hierarchical clusterings\n",
    "  * $d(A,B) = ||\\bar\\alpha-\\bar\\beta||_2$\n",
    "  \n",
    "  $$\\bar\\alpha= \\frac{1}{n}\\sum_{i=1}^n \\alpha_i$$\n"
   ]
  },
  {
   "cell_type": "code",
   "execution_count": null,
   "metadata": {
    "collapsed": true
   },
   "outputs": [],
   "source": []
  }
 ],
 "metadata": {
  "celltoolbar": "Slideshow",
  "kernelspec": {
   "display_name": "Python 2",
   "language": "python",
   "name": "python2"
  },
  "language_info": {
   "codemirror_mode": {
    "name": "ipython",
    "version": 2
   },
   "file_extension": ".py",
   "mimetype": "text/x-python",
   "name": "python",
   "nbconvert_exporter": "python",
   "pygments_lexer": "ipython2",
   "version": "2.7.11"
  }
 },
 "nbformat": 4,
 "nbformat_minor": 0
}
