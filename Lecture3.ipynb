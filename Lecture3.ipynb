{
 "cells": [
  {
   "cell_type": "markdown",
   "metadata": {
    "slideshow": {
     "slide_type": "slide"
    }
   },
   "source": [
    "# Probability, Monte Carlo,  & Random Processes\n",
    "\n",
    "#### We'll cover\n",
    "\n",
    "* Discrete Probability (with connection to continuous probability)\n",
    "* Probability distributions\n",
    "* \"Random\" number generators\n",
    "* Monte Carlo as a sampling techniques\n",
    "* Applications of Monte Carlo methods. \n",
    "* Look at random walks as a signal tool. "
   ]
  },
  {
   "cell_type": "markdown",
   "metadata": {
    "slideshow": {
     "slide_type": "subslide"
    }
   },
   "source": [
    "## Continuous vs Discrete probabilities\n",
    "\n",
    "Discrete Probability: Finite set of possible outcomes (die rolls, tournament brackets, Roulette)\n",
    "\n",
    "Continuous probability: Random variable can take on any value with a range (normally distributed random numbers, weather forcasts) \n",
    "\n"
   ]
  },
  {
   "cell_type": "markdown",
   "metadata": {
    "slideshow": {
     "slide_type": "subslide"
    }
   },
   "source": [
    "## Continuous vs Discrete probabilities\n",
    "\n",
    "\n",
    "Discrete\n",
    "<img src=\"http://i.imgur.com/wP2rkX1.gif\" width=\"350\" height=\"350\" />\n"
   ]
  },
  {
   "cell_type": "markdown",
   "metadata": {
    "slideshow": {
     "slide_type": "fragment"
    }
   },
   "source": [
    "Continuous\n",
    "\n",
    "<img src=\"http://i.imgur.com/bLs01ar.gif\" width=\"350\" height=\"350\" />\n"
   ]
  },
  {
   "cell_type": "markdown",
   "metadata": {
    "slideshow": {
     "slide_type": "slide"
    }
   },
   "source": [
    "## Historical origin\n",
    "\n",
    "Major evidenec of games of chance at prehistoric dig sites has been found,showing gaming and gambling have been a major pastime for different people since before the dawn of civilization.  \n",
    "\n",
    "We've been at this a long time. \n",
    "\n",
    "Yet despite this, the mathematics of chance weren't formalized until the 1600's. "
   ]
  },
  {
   "cell_type": "markdown",
   "metadata": {
    "slideshow": {
     "slide_type": "fragment"
    }
   },
   "source": [
    "<img src=\"http://i.imgur.com/3xT7G9q.jpg\" width=\"500\" height=\"500\" />\n"
   ]
  },
  {
   "cell_type": "markdown",
   "metadata": {
    "slideshow": {
     "slide_type": "subslide"
    }
   },
   "source": [
    "## Historical Origin\n",
    "\n",
    "The problem that finally brought about the development of rigorous probability was the problem of points, which can be stated as thus. \n",
    "\n",
    "Two equally skilled players are interrupted while playing a game of chance for a certain amount of money. Given the score of the game at this point, how should the stakes be divided. \n",
    "\n",
    "* \"Equally skilled\" means that at the outset, each player had the same chance of winning in the end, as well as having an equal chance of winning each round. \n",
    "\n",
    "Imagine two players competing flipping a coin until one player has won 10 coin flips.  "
   ]
  },
  {
   "cell_type": "markdown",
   "metadata": {
    "slideshow": {
     "slide_type": "subslide"
    }
   },
   "source": [
    "## Game of Chance Example: 10 Coin flips\n",
    "\n",
    "#### Peirre de \"Too large to fit into the margin\" Fermat \n",
    "vs\n",
    "#### Blaise \"king of the wager\" Pascal\n",
    "\n",
    "If a head comes up, Fermat gets a point. If a tails comes up, Pascal gets a point. First to 10 coin flips wins. \n",
    "\n",
    "Pot is 100 francs. Winner takes all. \n",
    "\n",
    "\n",
    "\n",
    "\n"
   ]
  },
  {
   "cell_type": "markdown",
   "metadata": {
    "slideshow": {
     "slide_type": "fragment"
    }
   },
   "source": [
    "Unfortunately, while Fermat is winning 8 points to 7, he receives a message that his friend Rene Descartes is being tormented by an metaphysical demon, and is in urgent need of epistemic grounding. The messenger offers to take Fermat to Descartes, but only if they leave immediately. \n",
    "\n",
    "How should the 100 francs be divided?\n",
    "\n",
    "Leader takes all is simple division, but Pascal could reasonably come back, so it is not a fair division. \n",
    "\n",
    "Only through probability can the pot be split evenly at this point. "
   ]
  },
  {
   "cell_type": "markdown",
   "metadata": {
    "slideshow": {
     "slide_type": "slide"
    }
   },
   "source": [
    "# Probability and Events\n",
    "\n",
    "Probability measures the chance of a given event occuring.  It is a number between 0 and 1. \n",
    " * Events that are certain have probability 1: Death and taxes\n",
    " * Events that are impossible have probability 0: \n",
    " * Probabilities between 0 and when indicate an event may occur, and the bigger the number the more likely that event will occur. \n",
    " \n",
    "The compliment of an event is everything that is not that event. \n",
    " * The complement of rolling a 5 is rolling anything but a 5(1,2,3,4,6). \n",
    " \n",
    "[Rain tomorrow, crop yield, communist takeover, number of hurricanes in a season, number of times the sum of two dice throwis even] are all examples of events whose probalities are may be of interest to us. "
   ]
  },
  {
   "cell_type": "markdown",
   "metadata": {
    "slideshow": {
     "slide_type": "subslide"
    }
   },
   "source": [
    "## Probability Notation\n",
    "\n",
    "Let $X$ denote some random variable (integer, bool)\n",
    " * Coin side facing up after a toss (Heads, Tails)\n",
    " * Sum of two dice after a roll (2-12). \n",
    "\n",
    "The set of all possible outcomes is denoted $\\Omega$.\n",
    " * Rolling one die: $\\Omega = \\{1,2,3,4,5,6\\}$\n",
    " * Flipping a coin $\\Omega = \\{H,T\\}$\n",
    " \n",
    "We are interested in determining the probability of an event, and will denote probability of event $\\epsilon$ as  $\\mathcal{P}(\\epsilon)$.\n",
    "* For the event of the roll of a single die being even, $\\epsilon = \\{2,4,6\\}$"
   ]
  },
  {
   "cell_type": "markdown",
   "metadata": {
    "slideshow": {
     "slide_type": "subslide"
    }
   },
   "source": [
    "# Probability Notation\n",
    "\n",
    "\n",
    "The sum of all probabilities for all possible outcomes is 1. \n",
    " * Something in $\\Omega$ *must* happen. Even if \"something\" is nothing. \n",
    " \n",
    "The probability of an event $\\epsilon$, $\\mathcal{P}(\\epsilon)$. is the sum of of the probabilities of each outcome in $\\epsilon$ The probability of the complement of $\\epsilon$ well be $1-\\mathcal{P}(\\epsilon)$.\n",
    "* For the roll of a die being even, $\\mathcal{P}(\\epsilon)=\\mathcal{P}(2)+\\mathcal{P}(4) + \\mathcal{P}(6)$.\n",
    " \n",
    " \n",
    " "
   ]
  },
  {
   "cell_type": "markdown",
   "metadata": {
    "slideshow": {
     "slide_type": "subslide"
    }
   },
   "source": [
    "## Probability Verbiage in Action\n",
    "Suppose the weather forecast for tomorrow indicates a probability of rain of  0.25. \n",
    "\n",
    "We say the likelihood of rain is 25%. What does this mean?\n",
    "\n",
    "The complement of this even is that there is no rain tomorrow. The probability of no rain is $1-0.25=0.75$\n",
    " * There could be sleet, hail, meteors or locust plagues, but as long as there is no rain, these events are part of the complement to no rain. \n",
    " \n",
    "\n",
    "Thus there is a 75% chance of no rain tomorrow and thus it is 3 times more likely that there is no rain tomorrow than there is rain. "
   ]
  },
  {
   "cell_type": "markdown",
   "metadata": {
    "slideshow": {
     "slide_type": "subslide"
    }
   },
   "source": [
    "## Weather Forecast Aside: \n",
    "<img src=\"http://i.imgur.com/95yBVp0.png\" width=\"500\" height=\"500\" />\n",
    "\n",
    "**<font color='red'>End of lecture on 5/17/2016</font>**\n"
   ]
  },
  {
   "cell_type": "markdown",
   "metadata": {
    "slideshow": {
     "slide_type": "subslide"
    }
   },
   "source": [
    "## Unions and Intersections (not the fun kind)\n",
    "\n",
    "Consider two events that are not mutually exclusive, rain tomorrow and rain the day after that. \n",
    " * Mutually exclusive = Cannot both occur. \n",
    "\n",
    "C = {rain tomorrow}, D = {rain the day after tomorrow}\n",
    "\n",
    "Then $C \\cup D$ is rain in the next two days (Rain tomorrow, the next day, or both). This is the union of events C and D. \n",
    "\n",
    "The intersection of C and D is everything that is in C AND everything that is in D. This is $C \\cap D$ \n",
    " * What is the intersection for our rain example? "
   ]
  },
  {
   "cell_type": "markdown",
   "metadata": {
    "slideshow": {
     "slide_type": "fragment"
    }
   },
   "source": [
    " $C \\cap D$ = C and D = Rain tomorrow AND rain the day after"
   ]
  },
  {
   "cell_type": "markdown",
   "metadata": {
    "slideshow": {
     "slide_type": "subslide"
    }
   },
   "source": [
    "## Unions and Intersections\n",
    "\n",
    "What is the probability of $C \\cup D$?\n",
    "\n",
    "Probabilities don't sum directly in most circumstances. If there was a probability of 0.25 for rain tomorrow and a probability of 0.25 for rain the day after, this doesn't mean there is a 0.5 probability of rain in the next two days. \n",
    "\n",
    "In the case where events are not mutually exclusive, we have\n",
    "\n",
    "$$\\mathcal{P}(C \\cup D) = \\mathcal{P}(C) + \\mathcal{P}(D) - \\mathcal{P}(C \\cap D)$$"
   ]
  },
  {
   "cell_type": "markdown",
   "metadata": {
    "collapsed": false,
    "slideshow": {
     "slide_type": "subslide"
    }
   },
   "source": [
    "## Unions and Intersectons: Worked example\n",
    "C = {rain tomorrow}, D = {rain the day after tomorrow}\n",
    "$$ P(C) = P(D) = 1/4,\\ \\ P(!C) = P(!D) = 1-1/4 = 3/4$$\n",
    "\n",
    "We can calculate the probability of all of our events, and finally calculate $P(C \\cup D)$\n",
    "\n",
    "$$ P(C \\cap D) = P(C) \\times P(D) = 1/4\\times1/4 = 1/16$$\n",
    "$$ P(! C \\cap D) = P(!C) \\times P(D) = 3/4 \\times 1/4 = 3/16$$\n",
    "$$ P(C \\cap !D) = P(C) \\times P(!D) = 1/4 \\times 3/4 = 3/16$$\n",
    "$$ P(! C \\cap !D) = P(!C) \\times P(!D) = 3/4 \\times 3/4 = 9/16$$\n",
    "\n",
    "Thus,\n",
    "\n",
    "$$P(C \\cup D) = P(C \\cap D) + P(! C \\cap D) +  P(C \\cap !D) = 7/16$$\n",
    "\n",
    "Is there an easier way of doing the last step?\n"
   ]
  },
  {
   "cell_type": "markdown",
   "metadata": {
    "slideshow": {
     "slide_type": "subslide"
    }
   },
   "source": [
    "## Conditional Probability\n",
    "\n",
    "So far we have looked at independent probabilities. The occurence of one event does not effect the probability of another event. \n",
    "* In previous example, rain tomorrow doesn't effect probability of rain the day after. \n",
    "\n",
    "Is this right? \n",
    "\n",
    "Let A = {rain today}, B = {rain tomorrow} and C = {rain on Christmas}\n",
    "\n",
    "If we know it is raining today, this will likely effect our probability estimate for B (not independent), but will not effect our probability estimate for C (independent). \n",
    "\n",
    "We write $P(B|A)$to denote the probability of B given that we know A. \n",
    "\n",
    "In the above exapmle $P(C|A)=P(C)$ but $P(B|A) \\neq P(B)$\n",
    "\n",
    "For independent events A and C, $P(A \\cap C) = P(A)P(C)$\n",
    "\n"
   ]
  },
  {
   "cell_type": "markdown",
   "metadata": {
    "slideshow": {
     "slide_type": "subslide"
    }
   },
   "source": [
    "## Conditional Probability Example\n",
    "\n",
    "### Independent Events\n",
    "If I roll two dice in a row, and the first dice comes up a 4, what is the probability the second comes up a 4? That they both come up 4.\n",
    " * Fair, 6-sided dice\n",
    " \n",
    " The die rolls are independent; the first roll does not effect the probabilities of the second. \n",
    " \n",
    "So the probabilities are.\n",
    "* P(roll both being a 4 before the first roll) = 1/6 * 1/6 = 1/36\n",
    "* P(roll being a 4 given first roll was a 4) = 1/6\n",
    "* P(roll both being a 4 given first roll was a 4) = 1/6\n"
   ]
  },
  {
   "cell_type": "markdown",
   "metadata": {
    "slideshow": {
     "slide_type": "subslide"
    }
   },
   "source": [
    "## Probability Example: A return to the coin-flip game\n",
    "\n",
    "Returning to the Fermat/Pascal game. Fermat is up 8 to 7 but must leave the game. The are 100 francs a stake, going to the first player to 10 points. How do we divide the pot? \n",
    "\n",
    "Lets enumerate all of the possible outcomes of the game. \n",
    "\n",
    "First we must determine the maximum number of flips for the game to end. Fermat needs 2 points, and Pascal needs 3. So the longest remaining path for the game is for Fermat to get 1 more point a Pascal to get 3, meaning we are guaranteed a winner after 4 flips. "
   ]
  },
  {
   "cell_type": "markdown",
   "metadata": {
    "slideshow": {
     "slide_type": "subslide"
    }
   },
   "source": [
    "## Probability Example: A return to the coin-flip game\n",
    "\n",
    "If we determine the possible outcomes in these 4 flips, then we can assign a winner to each. The probablity of each player winning would then be the number of outcomes they win over the total number of outcomes. \n",
    "\n",
    "Having this probability, we can determine the fair split of the stakes. \n"
   ]
  },
  {
   "cell_type": "code",
   "execution_count": 5,
   "metadata": {
    "collapsed": false,
    "slideshow": {
     "slide_type": "fragment"
    }
   },
   "outputs": [
    {
     "name": "stdout",
     "output_type": "stream",
     "text": [
      "[('H', 'H', 'H', 'H'), ('H', 'H', 'H', 'T'), ('H', 'H', 'T', 'H'), ('H', 'H', 'T', 'T'), ('H', 'T', 'H', 'H'), ('H', 'T', 'H', 'T'), ('H', 'T', 'T', 'H'), ('H', 'T', 'T', 'T'), ('T', 'H', 'H', 'H'), ('T', 'H', 'H', 'T'), ('T', 'H', 'T', 'H'), ('T', 'H', 'T', 'T'), ('T', 'T', 'H', 'H'), ('T', 'T', 'H', 'T'), ('T', 'T', 'T', 'H'), ('T', 'T', 'T', 'T')]\n"
     ]
    }
   ],
   "source": [
    "import itertools as it\n",
    "combinations = it.product('HT',repeat = 4)\n",
    "print list(combinations)\n"
   ]
  },
  {
   "cell_type": "markdown",
   "metadata": {
    "slideshow": {
     "slide_type": "subslide"
    }
   },
   "source": [
    "### Coin Game Possible Outcomes.\n",
    "Fermat wins in bold. \n",
    "\n",
    "[**('H', 'H', 'H', 'H')**, **('H', 'H', 'H', 'T')**, **('H', 'H', 'T', 'H')**, **('H', 'H', 'T', 'T')**, **('H', 'T', 'H', 'H')**, **('H', 'T', 'H', 'T')**, **('H', 'T', 'T', 'H')**, ('H', 'T', 'T', 'T'), **('T', 'H', 'H', 'H')**, **('T', 'H', 'H', 'T')**, **('T', 'H', 'T', 'H')**, ('T', 'H', 'T', 'T'), **('T', 'T', 'H', 'H')**, ('T', 'T', 'H', 'T'), ('T', 'T', 'T', 'H'), ('T', 'T', 'T', 'T')]\n",
    "\n",
    "Fermat can win 11 of the 16 possible remaining combinations. Pascal can win 5. \n",
    "So the money should be split 68 to 31 (change goes to the waitstaff). \n",
    "\n",
    "Is this right?"
   ]
  },
  {
   "cell_type": "markdown",
   "metadata": {
    "slideshow": {
     "slide_type": "subslide"
    }
   },
   "source": [
    "### Coin Game Actual Possible Outcomes\n",
    "\n",
    "Lets look at the very first possible outcome in our list. \n",
    " * ('H', 'H', 'H', 'H')\n",
    " \n",
    "Four heads come up so Fermat wins. \n",
    "\n",
    "But Fermat only needed 2 more heads to win. Why would they flip two extra times? \n",
    "\n",
    "All possibilities where Fermat wins the first flips collapse into one possibility; the probabilities change. Lets cull our possibilities list down to remove all of these 'duplicate' games. Once again, Fermat wins in **bold**. \n",
    "\n",
    "[**('H', 'H')**, **('H', 'T', 'H')**, **('H', 'T', 'T', 'H')**, ('H', 'T', 'T', 'T'), **('T', 'H', 'H')**, **('T', 'H', 'T', 'H')**, ('T', 'H', 'T', 'T'), **('T', 'T', 'H', 'H')**, ('T', 'T', 'H', 'T'), ('T', 'T', 'T')]\n",
    "\n",
    "Fermat wins 6/10, Pascal 4/10. "
   ]
  },
  {
   "cell_type": "markdown",
   "metadata": {
    "slideshow": {
     "slide_type": "slide"
    }
   },
   "source": [
    "# Random Numbers \n",
    "\n",
    "#### Physical Random number generators:\n",
    "* Atmospheric noise\n",
    "* Lava lamps\n",
    "* Geiger counters\n",
    "* Bubble chambers\n",
    "* Devices that combine multiple independent events. \n"
   ]
  },
  {
   "cell_type": "markdown",
   "metadata": {
    "slideshow": {
     "slide_type": "fragment"
    }
   },
   "source": [
    "<img src=\"http://i.imgur.com/If7Jb1P.png\" width=\"600\" height=\"200\" />\n"
   ]
  },
  {
   "cell_type": "markdown",
   "metadata": {
    "slideshow": {
     "slide_type": "subslide"
    }
   },
   "source": [
    "## Von Neumann and Random Numbers \n",
    "Invented Monte-Carlo methods while working on 'The Bomb'. Well known for lots of things. \n",
    "\n",
    "Proposed one of the first random number generators: \n",
    " * If you want an 8 digit random number, start with an 8 digit seed, $X_0$, and then calculate $X_0^2$. Your first random number, $X_1$, is taken to be the middle 8 digits of $X_0^2$"
   ]
  },
  {
   "cell_type": "code",
   "execution_count": 17,
   "metadata": {
    "collapsed": false,
    "slideshow": {
     "slide_type": "fragment"
    }
   },
   "outputs": [
    {
     "data": {
      "text/plain": [
       "10018610"
      ]
     },
     "execution_count": 17,
     "metadata": {},
     "output_type": "execute_result"
    }
   ],
   "source": [
    "def vonNeumannRand (seed):\n",
    "    seedsqd = seed ** 2\n",
    "    strseedsqd = str(seedsqd)\n",
    "    midpos = len(strseedsqd)/2\n",
    "    strrandnum = strseedsqd[midpos-4:midpos+4]\n",
    "    randnum = int(strrandnum)\n",
    "    return randnum\n",
    "    \n",
    "\n",
    "seed = 86753099\n",
    "vonNeumannRand(seed)\n"
   ]
  },
  {
   "cell_type": "markdown",
   "metadata": {
    "slideshow": {
     "slide_type": "subslide"
    }
   },
   "source": [
    "## 100 Pairs of Random Numbers"
   ]
  },
  {
   "cell_type": "code",
   "execution_count": 25,
   "metadata": {
    "collapsed": false,
    "slideshow": {
     "slide_type": "fragment"
    }
   },
   "outputs": [
    {
     "data": {
      "text/plain": [
       "[<matplotlib.lines.Line2D at 0x7f6c0b8>]"
      ]
     },
     "execution_count": 25,
     "metadata": {},
     "output_type": "execute_result"
    },
    {
     "data": {
      "image/png": "[encoded data removed]",
      "text/plain": [
       "<matplotlib.figure.Figure at 0x79abbe0>"
      ]
     },
     "metadata": {},
     "output_type": "display_data"
    }
   ],
   "source": [
    "%matplotlib inline\n",
    "\n",
    "import matplotlib\n",
    "import numpy as np\n",
    "import matplotlib.pyplot as plt\n",
    "import scipy\n",
    "xrand = []\n",
    "yrand = []\n",
    "for i in range (0,100):\n",
    "    xrand.append(vonNeumannRand(seed))\n",
    "    yrand.append(vonNeumannRand(xrand[i]))\n",
    "    seed = yrand[i]\n",
    "\n",
    "plt.plot(xrand, yrand, 'r+')\n",
    "\n"
   ]
  },
  {
   "cell_type": "code",
   "execution_count": null,
   "metadata": {
    "collapsed": true
   },
   "outputs": [],
   "source": []
  }
 ],
 "metadata": {
  "celltoolbar": "Slideshow",
  "kernelspec": {
   "display_name": "Python 2",
   "language": "python",
   "name": "python2"
  },
  "language_info": {
   "codemirror_mode": {
    "name": "ipython",
    "version": 2
   },
   "file_extension": ".py",
   "mimetype": "text/x-python",
   "name": "python",
   "nbconvert_exporter": "python",
   "pygments_lexer": "ipython2",
   "version": "2.7.11"
  }
 },
 "nbformat": 4,
 "nbformat_minor": 0
}
