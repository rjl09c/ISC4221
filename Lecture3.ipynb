{
 "cells": [
  {
   "cell_type": "markdown",
   "metadata": {
    "slideshow": {
     "slide_type": "slide"
    }
   },
   "source": [
    "# Probability, Monte Carlo,  & Random Processes\n",
    "\n",
    "#### We'll cover\n",
    "\n",
    "* Discrete Probability (with connection to continuous probability)\n",
    "* Probability distributions\n",
    "* \"Random\" number generators\n",
    "* Monte Carlo as a sampling techniques\n",
    "* Applications of Monte Carlo methods. \n",
    "* Look at random walks as a signal tool. "
   ]
  },
  {
   "cell_type": "markdown",
   "metadata": {
    "slideshow": {
     "slide_type": "subslide"
    }
   },
   "source": [
    "## Continuous vs Discrete probabilities\n",
    "\n",
    "Discrete Probability: Finite set of possible outcomes (die rolls, tournament brackets, Roulette)\n",
    "\n",
    "Continuous probability: Random variable can take on any value with a range (normally distributed random numbers, weather forcasts) \n",
    "\n"
   ]
  },
  {
   "cell_type": "markdown",
   "metadata": {
    "slideshow": {
     "slide_type": "subslide"
    }
   },
   "source": [
    "## Continuous vs Discrete probabilities\n",
    "\n",
    "\n",
    "Discrete\n",
    "<img src=\"http://i.imgur.com/wP2rkX1.gif\" width=\"350\" height=\"350\" />\n"
   ]
  },
  {
   "cell_type": "markdown",
   "metadata": {
    "slideshow": {
     "slide_type": "fragment"
    }
   },
   "source": [
    "Continuous\n",
    "\n",
    "<img src=\"http://i.imgur.com/bLs01ar.gif\" width=\"350\" height=\"350\" />\n"
   ]
  },
  {
   "cell_type": "markdown",
   "metadata": {
    "slideshow": {
     "slide_type": "slide"
    }
   },
   "source": [
    "## Historical origin\n",
    "\n",
    "Major evidenec of games of chance at prehistoric dig sites has been found,showing gaming and gambling have been a major pastime for different people since before the dawn of civilization.  \n",
    "\n",
    "We've been at this a long time. \n",
    "\n",
    "Yet despite this, the mathematics of chance weren't formalized until the 1600's. "
   ]
  },
  {
   "cell_type": "markdown",
   "metadata": {
    "slideshow": {
     "slide_type": "fragment"
    }
   },
   "source": [
    "<img src=\"http://i.imgur.com/3xT7G9q.jpg\" width=\"500\" height=\"500\" />\n"
   ]
  },
  {
   "cell_type": "markdown",
   "metadata": {
    "slideshow": {
     "slide_type": "subslide"
    }
   },
   "source": [
    "## Historical Origin\n",
    "\n",
    "The problem that finally brought about the development of rigorous probability was the problem of points, which can be stated as thus. \n",
    "\n",
    "Two equally skilled players are interrupted while playing a game of chance for a certain amount of money. Given the score of the game at this point, how should the stakes be divided. \n",
    "\n",
    "* \"Equally skilled\" means that at the outset, each player had the same chance of winning in the end, as well as having an equal chance of winning each round. \n",
    "\n",
    "Imagine two players competing flipping a coin until one player has won 10 coin flips.  "
   ]
  },
  {
   "cell_type": "markdown",
   "metadata": {
    "slideshow": {
     "slide_type": "subslide"
    }
   },
   "source": [
    "## Game of Chance Example: 10 Coin flips\n",
    "\n",
    "#### Peirre de \"Too large to fit into the margin\" Fermat \n",
    "vs\n",
    "#### Blaise \"king of the wager\" Pascal\n",
    "\n",
    "If a head comes up, Fermat gets a point. If a tails comes up, Pascal gets a point. First to 10 coin flips wins. \n",
    "\n",
    "Pot is 100 francs. Winner takes all. \n",
    "\n",
    "\n",
    "\n",
    "\n"
   ]
  },
  {
   "cell_type": "markdown",
   "metadata": {
    "slideshow": {
     "slide_type": "fragment"
    }
   },
   "source": [
    "Unfortunately, while Fermat is winning 8 points to 7, he receives a message that his friend Rene Descartes is being tormented by an metaphysical demon, and is in urgent need of epistemic grounding. The messenger offers to take Fermat to Descartes, but only if they leave immediately. \n",
    "\n",
    "How should the 100 francs be divided?\n",
    "\n",
    "Leader takes all is simple division, but Pascal could reasonably come back, so it is not a fair division. \n",
    "\n",
    "Only through probability can the pot be split evenly at this point. "
   ]
  },
  {
   "cell_type": "markdown",
   "metadata": {
    "slideshow": {
     "slide_type": "slide"
    }
   },
   "source": [
    "# Probability and Events\n",
    "\n",
    "Probability measures the chance of a given event occuring.  It is a number between 0 and 1. \n",
    " * Events that are certain have probability 1: Death and taxes\n",
    " * Events that are impossible have probability 0: \n",
    " * Probabilities between 0 and when indicate an event may occur, and the bigger the number the more likely that event will occur. \n",
    " \n",
    "The compliment of an event is everything that is not that event. \n",
    " * The complement of rolling a 5 is rolling anything but a 5(1,2,3,4,6). \n",
    " \n",
    "[Rain tomorrow, crop yield, communist takeover, number of hurricanes in a season, number of times the sum of two dice throwis even] are all examples of events whose probalities are may be of interest to us. "
   ]
  },
  {
   "cell_type": "markdown",
   "metadata": {
    "slideshow": {
     "slide_type": "subslide"
    }
   },
   "source": [
    "## Probability Notation\n",
    "\n",
    "Let $X$ denote some random variable (integer, bool)\n",
    " * Coin side facing up after a toss (Heads, Tails)\n",
    " * Sum of two dice after a roll (2-12). \n",
    "\n",
    "The set of all possible outcomes is denoted $\\Omega$.\n",
    " * Rolling one die: $\\Omega = \\{1,2,3,4,5,6\\}$\n",
    " * Flipping a coin $\\Omega = \\{H,T\\}$\n",
    " \n",
    "We are interested in determining the probability of an event, and will denote probability of event $\\epsilon$ as  $\\mathcal{P}(\\epsilon)$.\n",
    "* For the event of the roll of a single die being even, $\\epsilon = \\{2,4,6\\}$"
   ]
  },
  {
   "cell_type": "markdown",
   "metadata": {
    "slideshow": {
     "slide_type": "subslide"
    }
   },
   "source": [
    "# Probability Notation\n",
    "\n",
    "\n",
    "The sum of all probabilities for all possible outcomes is 1. \n",
    " * Something in $\\Omega$ *must* happen. Even if \"something\" is nothing. \n",
    " \n",
    "The probability of an event $\\epsilon$, $\\mathcal{P}(\\epsilon)$. is the sum of of the probabilities of each outcome in $\\epsilon$ The probability of the complement of $\\epsilon$ well be $1-\\mathcal{P}(\\epsilon)$.\n",
    "* For the roll of a die being even, $\\mathcal{P}(\\epsilon)=\\mathcal{P}(2)+\\mathcal{P}(4) + \\mathcal{P}(6)$.\n",
    " \n",
    " \n",
    " "
   ]
  },
  {
   "cell_type": "markdown",
   "metadata": {
    "slideshow": {
     "slide_type": "subslide"
    }
   },
   "source": [
    "## Probability Verbiage in Action\n",
    "Suppose the weather forecast for tomorrow indicates a probability of rain of  0.25. \n",
    "\n",
    "We say the likelihood of rain is 25%. What does this mean?\n",
    "\n",
    "The complement of this even is that there is no rain tomorrow. The probability of no rain is $1-0.25=0.75$\n",
    " * There could be sleet, hail, meteors or locust plagues, but as long as there is no rain, these events are part of the complement to no rain. \n",
    " \n",
    "\n",
    "Thus there is a 75% chance of no rain tomorrow and thus it is 3 times more likely that there is no rain tomorrow than there is rain. "
   ]
  },
  {
   "cell_type": "markdown",
   "metadata": {
    "slideshow": {
     "slide_type": "subslide"
    }
   },
   "source": [
    "## Weather Forecast Aside: \n",
    "<img src=\"http://i.imgur.com/95yBVp0.png\" width=\"500\" height=\"500\" />\n",
    "\n",
    "**<font color='red'>End of lecture on 5/17/2016</font>**\n"
   ]
  },
  {
   "cell_type": "markdown",
   "metadata": {
    "slideshow": {
     "slide_type": "subslide"
    }
   },
   "source": [
    "## Unions and Intersections (not the fun kind)\n",
    "\n",
    "Consider two events that are not mutually exclusive, rain tomorrow and rain the day after that. \n",
    " * Mutually exclusive = Cannot both occur. \n",
    "\n",
    "C = {rain tomorrow}, D = {rain the day after tomorrow}\n",
    "\n",
    "Then $C \\cup D$ is rain in the next two days (Rain tomorrow, the next day, or both). This is the union of events C and D. \n",
    "\n",
    "The intersection of C and D is everything that is in C AND everything that is in D. This is $C \\cap D$ \n",
    " * What is the intersection for our rain example? "
   ]
  },
  {
   "cell_type": "markdown",
   "metadata": {
    "slideshow": {
     "slide_type": "fragment"
    }
   },
   "source": [
    " $C \\cap D$ = C and D = Rain tomorrow AND rain the day after"
   ]
  },
  {
   "cell_type": "markdown",
   "metadata": {
    "slideshow": {
     "slide_type": "subslide"
    }
   },
   "source": [
    "## Unions and Intersections\n",
    "\n",
    "What is the probability of $C \\cup D$?\n",
    "\n",
    "Probabilities don't sum directly in most circumstances. If there was a probability of 0.25 for rain tomorrow and a probability of 0.25 for rain the day after, this doesn't mean there is a 0.5 probability of rain in the next two days. \n",
    "\n",
    "In the case where events are not mutually exclusive, we have\n",
    "\n",
    "$$\\mathcal{P}(C \\cup D) = \\mathcal{P}(C) + \\mathcal{P}(D) - \\mathcal{P}(C \\cap D)$$"
   ]
  },
  {
   "cell_type": "markdown",
   "metadata": {
    "collapsed": false,
    "slideshow": {
     "slide_type": "subslide"
    }
   },
   "source": [
    "## Unions and Intersectons: Worked example\n",
    "C = {rain tomorrow}, D = {rain the day after tomorrow}\n",
    "$$ P(C) = P(D) = 1/4,\\ \\ P(!C) = P(!D) = 1-1/4 = 3/4$$\n",
    "\n",
    "We can calculate the probability of all of our events, and finally calculate $P(C \\cup D)$\n",
    "\n",
    "$$ P(C \\cap D) = P(C) \\times P(D) = 1/4\\times1/4 = 1/16$$\n",
    "$$ P(! C \\cap D) = P(!C) \\times P(D) = 3/4 \\times 1/4 = 3/16$$\n",
    "$$ P(C \\cap !D) = P(C) \\times P(!D) = 1/4 \\times 3/4 = 3/16$$\n",
    "$$ P(! C \\cap !D) = P(!C) \\times P(!D) = 3/4 \\times 3/4 = 9/16$$\n",
    "\n",
    "Thus,\n",
    "\n",
    "$$P(C \\cup D) = P(C \\cap D) + P(! C \\cap D) +  P(C \\cap !D) = 7/16$$\n",
    "\n",
    "Is there an easier way of doing the last step?\n"
   ]
  },
  {
   "cell_type": "markdown",
   "metadata": {
    "slideshow": {
     "slide_type": "subslide"
    }
   },
   "source": [
    "## Conditional Probability\n",
    "\n",
    "So far we have looked at independent probabilities. The occurence of one event does not effect the probability of another event. \n",
    "* In previous example, rain tomorrow doesn't effect probability of rain the day after. \n",
    "\n",
    "Is this right? \n",
    "\n",
    "Let A = {rain today}, B = {rain tomorrow} and C = {rain on Christmas}\n",
    "\n",
    "If we know it is raining today, this will likely effect our probability estimate for B (not independent), but will not effect our probability estimate for C (independent). \n",
    "\n",
    "We write $P(B|A)$to denote the probability of B given that we know A. \n",
    "\n",
    "In the above exapmle $P(C|A)=P(C)$ but $P(B|A) \\neq P(B)$\n",
    "\n",
    "For independent events A and C, $P(A \\cap C) = P(A)P(C)$\n",
    "\n"
   ]
  },
  {
   "cell_type": "markdown",
   "metadata": {
    "slideshow": {
     "slide_type": "subslide"
    }
   },
   "source": [
    "## Conditional Probability Example\n",
    "\n",
    "### Independent Events\n",
    "If I roll two dice in a row, and the first dice comes up a 4, what is the probability the second comes up a 4? That they both come up 4.\n",
    " * Fair, 6-sided dice\n",
    " \n",
    " The die rolls are independent; the first roll does not effect the probabilities of the second. \n",
    " \n",
    "So the probabilities are.\n",
    "* P(roll both being a 4 before the first roll) = 1/6 * 1/6 = 1/36\n",
    "* P(roll being a 4 given first roll was a 4) = 1/6\n",
    "* P(roll both being a 4 given first roll was a 4) = 1/6\n"
   ]
  },
  {
   "cell_type": "markdown",
   "metadata": {
    "slideshow": {
     "slide_type": "subslide"
    }
   },
   "source": [
    "## Probability Example: A return to the coin-flip game\n",
    "\n",
    "Returning to the Fermat/Pascal game. Fermat is up 8 to 7 but must leave the game. The are 100 francs a stake, going to the first player to 10 points. How do we divide the pot? \n",
    "\n",
    "Lets enumerate all of the possible outcomes of the game. \n",
    "\n",
    "First we must determine the maximum number of flips for the game to end. Fermat needs 2 points, and Pascal needs 3. So the longest remaining path for the game is for Fermat to get 1 more point a Pascal to get 3, meaning we are guaranteed a winner after 4 flips. "
   ]
  },
  {
   "cell_type": "markdown",
   "metadata": {
    "slideshow": {
     "slide_type": "subslide"
    }
   },
   "source": [
    "## Probability Example: A return to the coin-flip game\n",
    "\n",
    "If we determine the possible outcomes in these 4 flips, then we can assign a winner to each. The probablity of each player winning would then be the number of outcomes they win over the total number of outcomes. \n",
    "\n",
    "Having this probability, we can determine the fair split of the stakes. \n"
   ]
  },
  {
   "cell_type": "code",
   "execution_count": 1,
   "metadata": {
    "collapsed": false,
    "slideshow": {
     "slide_type": "fragment"
    }
   },
   "outputs": [
    {
     "name": "stdout",
     "output_type": "stream",
     "text": [
      "[('H', 'H', 'H', 'H'), ('H', 'H', 'H', 'T'), ('H', 'H', 'T', 'H'), ('H', 'H', 'T', 'T'), ('H', 'T', 'H', 'H'), ('H', 'T', 'H', 'T'), ('H', 'T', 'T', 'H'), ('H', 'T', 'T', 'T'), ('T', 'H', 'H', 'H'), ('T', 'H', 'H', 'T'), ('T', 'H', 'T', 'H'), ('T', 'H', 'T', 'T'), ('T', 'T', 'H', 'H'), ('T', 'T', 'H', 'T'), ('T', 'T', 'T', 'H'), ('T', 'T', 'T', 'T')]\n"
     ]
    }
   ],
   "source": [
    "import itertools as it\n",
    "combinations = it.product('HT',repeat = 4)\n",
    "print list(combinations)\n"
   ]
  },
  {
   "cell_type": "markdown",
   "metadata": {
    "slideshow": {
     "slide_type": "subslide"
    }
   },
   "source": [
    "### Coin Game Possible Outcomes.\n",
    "Fermat wins in bold. \n",
    "\n",
    "[**('H', 'H', 'H', 'H')**, **('H', 'H', 'H', 'T')**, **('H', 'H', 'T', 'H')**, **('H', 'H', 'T', 'T')**, **('H', 'T', 'H', 'H')**, **('H', 'T', 'H', 'T')**, **('H', 'T', 'T', 'H')**, ('H', 'T', 'T', 'T'), **('T', 'H', 'H', 'H')**, **('T', 'H', 'H', 'T')**, **('T', 'H', 'T', 'H')**, ('T', 'H', 'T', 'T'), **('T', 'T', 'H', 'H')**, ('T', 'T', 'H', 'T'), ('T', 'T', 'T', 'H'), ('T', 'T', 'T', 'T')]\n",
    "\n",
    "Fermat can win 11 of the 16 possible remaining combinations. Pascal can win 5. \n",
    "So the money should be split 68 to 31 (change goes to the waitstaff). \n",
    "\n",
    "Is this right?"
   ]
  },
  {
   "cell_type": "markdown",
   "metadata": {
    "slideshow": {
     "slide_type": "subslide"
    }
   },
   "source": [
    "### Coin Game Actual Possible Outcomes\n",
    "\n",
    "Lets look at the very first possible outcome in our list. \n",
    " * ('H', 'H', 'H', 'H')\n",
    " \n",
    "Four heads come up so Fermat wins. \n",
    "\n",
    "But Fermat only needed 2 more heads to win. Why would they flip two extra times? \n",
    "\n",
    "All possibilities where Fermat wins the first flips collapse into one possibility; the probabilities change. Lets cull our possibilities list down to remove all of these 'duplicate' games. Once again, Fermat wins in **bold**. \n",
    "\n",
    "[**('H', 'H')**, **('H', 'T', 'H')**, **('H', 'T', 'T', 'H')**, ('H', 'T', 'T', 'T'), **('T', 'H', 'H')**, **('T', 'H', 'T', 'H')**, ('T', 'H', 'T', 'T'), **('T', 'T', 'H', 'H')**, ('T', 'T', 'H', 'T'), ('T', 'T', 'T')]\n",
    "\n",
    "Fermat wins 6/10, Pascal 4/10. "
   ]
  },
  {
   "cell_type": "markdown",
   "metadata": {
    "slideshow": {
     "slide_type": "slide"
    }
   },
   "source": [
    "# Random Numbers \n",
    "\n",
    "#### Physical Random number generators:\n",
    "* Atmospheric noise\n",
    "* Lava lamps\n",
    "* Geiger counters\n",
    "* Bubble chambers\n",
    "* Devices that combine multiple independent events. \n"
   ]
  },
  {
   "cell_type": "markdown",
   "metadata": {
    "slideshow": {
     "slide_type": "fragment"
    }
   },
   "source": [
    "<img src=\"http://i.imgur.com/If7Jb1P.png\" width=\"600\" height=\"200\" />\n"
   ]
  },
  {
   "cell_type": "markdown",
   "metadata": {
    "slideshow": {
     "slide_type": "subslide"
    }
   },
   "source": [
    "## Von Neumann and Random Numbers \n",
    "Invented Monte-Carlo methods while working on 'The Bomb'. Well known for lots of things. \n",
    "\n",
    "Proposed one of the first random number generators: \n",
    " * If you want an 8 digit random number, start with an 8 digit seed, $X_0$, and then calculate $X_0^2$. Your first random number, $X_1$, is taken to be the middle 8 digits of $X_0^2$"
   ]
  },
  {
   "cell_type": "code",
   "execution_count": 2,
   "metadata": {
    "collapsed": false,
    "slideshow": {
     "slide_type": "fragment"
    }
   },
   "outputs": [
    {
     "data": {
      "text/plain": [
       "10018610"
      ]
     },
     "execution_count": 2,
     "metadata": {},
     "output_type": "execute_result"
    }
   ],
   "source": [
    "def vonNeumannRand (seed):\n",
    "    seedsqd = seed ** 2\n",
    "    strseedsqd = str(seedsqd)\n",
    "    midpos = len(strseedsqd)/2\n",
    "    strrandnum = strseedsqd[midpos-4:midpos+4]\n",
    "    randnum = int(strrandnum)\n",
    "    return randnum\n",
    "    \n",
    "\n",
    "seed = 86753099\n",
    "vonNeumannRand(seed)\n"
   ]
  },
  {
   "cell_type": "markdown",
   "metadata": {
    "slideshow": {
     "slide_type": "subslide"
    }
   },
   "source": [
    "## 100 Pairs of Random Numbers"
   ]
  },
  {
   "cell_type": "code",
   "execution_count": 3,
   "metadata": {
    "collapsed": false,
    "slideshow": {
     "slide_type": "fragment"
    }
   },
   "outputs": [
    {
     "data": {
      "text/plain": [
       "[<matplotlib.lines.Line2D at 0x79fa6a0>]"
      ]
     },
     "execution_count": 3,
     "metadata": {},
     "output_type": "execute_result"
    },
    {
     "data": {
      "image/png": "[encoded data removed]",
      "text/plain": [
       "<matplotlib.figure.Figure at 0x3fd6550>"
      ]
     },
     "metadata": {},
     "output_type": "display_data"
    }
   ],
   "source": [
    "%matplotlib inline\n",
    "\n",
    "import matplotlib\n",
    "import numpy as np\n",
    "import matplotlib.pyplot as plt\n",
    "import scipy\n",
    "xrand = []\n",
    "yrand = []\n",
    "for i in range (0,100):\n",
    "    xrand.append(vonNeumannRand(seed))\n",
    "    yrand.append(vonNeumannRand(xrand[i]))\n",
    "    seed = yrand[i]\n",
    "\n",
    "plt.plot(xrand, yrand, 'r+')\n",
    "\n"
   ]
  },
  {
   "cell_type": "markdown",
   "metadata": {
    "collapsed": true,
    "slideshow": {
     "slide_type": "fragment"
    }
   },
   "source": [
    "**<font color='red'>End of lecture on 5/18/2016</font>**\n"
   ]
  },
  {
   "cell_type": "markdown",
   "metadata": {
    "slideshow": {
     "slide_type": "subslide"
    }
   },
   "source": [
    "## Generating Random Numbers in python\n",
    "\n",
    "Lots of different modules exist with random number generators.\n",
    "\n",
    "Some designed for specific purposes. For general purposes, numpy's random number generator will suffice. \n"
   ]
  },
  {
   "cell_type": "code",
   "execution_count": 4,
   "metadata": {
    "collapsed": false
   },
   "outputs": [
    {
     "name": "stdout",
     "output_type": "stream",
     "text": [
      "0.213682995895\n",
      "[[ 0.11092283]\n",
      " [ 0.62548511]\n",
      " [ 0.12985399]\n",
      " [ 0.39436176]\n",
      " [ 0.04826255]\n",
      " [ 0.92615429]\n",
      " [ 0.19494526]\n",
      " [ 0.85995383]\n",
      " [ 0.27036402]\n",
      " [ 0.53072292]]\n",
      "[[ 0.2250894   0.38142893  0.84310274  0.76728468  0.43097612  0.59339269\n",
      "   0.8661049   0.52744317  0.38179184  0.63219625]]\n",
      "[[ 0.70233155  0.33506626]\n",
      " [ 0.03367778  0.73281271]\n",
      " [ 0.05765412  0.63380313]\n",
      " [ 0.77200158  0.44985032]\n",
      " [ 0.17375643  0.58235023]\n",
      " [ 0.62145374  0.29196665]\n",
      " [ 0.8499987   0.73962475]\n",
      " [ 0.45888546  0.01089301]\n",
      " [ 0.5529984   0.82766443]\n",
      " [ 0.88853255  0.42984409]]\n"
     ]
    }
   ],
   "source": [
    "randnumber = np.random.rand() # Random float between 0 and 1\n",
    "randcolvector = np.random.rand(10,1) # Random column vector\n",
    "randrowvector = np.random.rand(1,10) # Random row vector\n",
    "randarray = np.random.rand(10,2)# Random 10x2 matrix\n",
    "print randnumber\n",
    "print randcolvector\n",
    "print randrowvector\n",
    "print randarray"
   ]
  },
  {
   "cell_type": "markdown",
   "metadata": {
    "slideshow": {
     "slide_type": "fragment"
    }
   },
   "source": [
    "But what if we want integers, or random numbers on a specific range?"
   ]
  },
  {
   "cell_type": "markdown",
   "metadata": {
    "slideshow": {
     "slide_type": "subslide"
    }
   },
   "source": [
    "## The quintessential transform. \n",
    "\n",
    "Given an array x ofnumbers on in the range between 0 and 1 (inclusive), how can we map them to a new range, $a$ to $b$. \n",
    "\n",
    "$$ (b-a)x+a $$\n",
    "\n",
    "You will use this more than anything else I teach"
   ]
  },
  {
   "cell_type": "code",
   "execution_count": 5,
   "metadata": {
    "collapsed": false,
    "slideshow": {
     "slide_type": "fragment"
    }
   },
   "outputs": [
    {
     "name": "stdout",
     "output_type": "stream",
     "text": [
      "[ 0.          0.11111111  0.22222222  0.33333333  0.44444444  0.55555556\n",
      "  0.66666667  0.77777778  0.88888889  1.        ]\n",
      "[  0.           1.11111111   2.22222222   3.33333333   4.44444444\n",
      "   5.55555556   6.66666667   7.77777778   8.88888889  10.        ]\n"
     ]
    }
   ],
   "source": [
    "#Example that transforms 10 evenly space numbers between 0 and 1 to 0 to 10\n",
    "a = 0\n",
    "b = 10\n",
    "x = np.linspace(0,1,10)\n",
    "print x\n",
    "newx = (b-a)*x+a\n",
    "print newx"
   ]
  },
  {
   "cell_type": "markdown",
   "metadata": {
    "slideshow": {
     "slide_type": "subslide"
    }
   },
   "source": [
    "## The quintessential transform. \n",
    "\n",
    "Given an array x ofnumbers on in the range between 0 and 1 (inclusive), how can we map them to a new range, $a$ to $b$. \n",
    "\n",
    "$$ (b-a)x+a $$\n",
    "\n"
   ]
  },
  {
   "cell_type": "code",
   "execution_count": 6,
   "metadata": {
    "collapsed": false,
    "slideshow": {
     "slide_type": "fragment"
    }
   },
   "outputs": [
    {
     "name": "stdout",
     "output_type": "stream",
     "text": [
      "[-40.         -34.88888889 -29.77777778 -24.66666667 -19.55555556\n",
      " -14.44444444  -9.33333333  -4.22222222   0.88888889   6.        ]\n"
     ]
    }
   ],
   "source": [
    "a = -40\n",
    "b = 6\n",
    "newerx = (b-a)*x+a\n",
    "print newerx"
   ]
  },
  {
   "cell_type": "markdown",
   "metadata": {
    "slideshow": {
     "slide_type": "subslide"
    }
   },
   "source": [
    "## The quintessential transform. \n",
    "\n",
    "The numbers don't have to be evenly spaced, or in order. They are still transformed to this new domain\n",
    "\n",
    "\n"
   ]
  },
  {
   "cell_type": "code",
   "execution_count": 7,
   "metadata": {
    "collapsed": false,
    "slideshow": {
     "slide_type": "fragment"
    }
   },
   "outputs": [
    {
     "data": {
      "text/plain": [
       "[<matplotlib.lines.Line2D at 0x7ef6828>]"
      ]
     },
     "execution_count": 7,
     "metadata": {},
     "output_type": "execute_result"
    },
    {
     "data": {
      "image/png": "[encoded data removed]",
      "text/plain": [
       "<matplotlib.figure.Figure at 0x3fc68d0>"
      ]
     },
     "metadata": {},
     "output_type": "display_data"
    }
   ],
   "source": [
    "randarray = np.random.rand(100,2)# Random 10x2 matrix\n",
    "plt.plot(randarray[:,0], randarray[:,1], 'r+')\n",
    "\n"
   ]
  },
  {
   "cell_type": "code",
   "execution_count": 8,
   "metadata": {
    "collapsed": false,
    "slideshow": {
     "slide_type": "fragment"
    }
   },
   "outputs": [
    {
     "data": {
      "text/plain": [
       "[<matplotlib.lines.Line2D at 0x80b8978>]"
      ]
     },
     "execution_count": 8,
     "metadata": {},
     "output_type": "execute_result"
    },
    {
     "data": {
      "image/png": "[encoded data removed]",
      "text/plain": [
       "<matplotlib.figure.Figure at 0x7be0668>"
      ]
     },
     "metadata": {},
     "output_type": "display_data"
    }
   ],
   "source": [
    "a = -10\n",
    "b = 53\n",
    "randarraytransformed = (b-a)*randarray+a\n",
    "plt.plot(randarraytransformed[:,0], randarraytransformed[:,1], 'b+')"
   ]
  },
  {
   "cell_type": "markdown",
   "metadata": {
    "slideshow": {
     "slide_type": "subslide"
    }
   },
   "source": [
    "## Now to make them integers\n"
   ]
  },
  {
   "cell_type": "code",
   "execution_count": 9,
   "metadata": {
    "collapsed": false,
    "slideshow": {
     "slide_type": "fragment"
    }
   },
   "outputs": [
    {
     "data": {
      "image/png": "[encoded data removed]",
      "text/plain": [
       "<matplotlib.figure.Figure at 0x8024ef0>"
      ]
     },
     "metadata": {},
     "output_type": "display_data"
    }
   ],
   "source": [
    "randarraytransformedceil = np.ceil(randarraytransformed)\n",
    "randarraytransformedfloor = np.floor(randarraytransformed)\n",
    "\n",
    "plt.figure(1)\n",
    "plt.subplot(121)\n",
    "plt.plot(randarraytransformedceil[:,0], randarraytransformedceil[:,1], 'b+')\n",
    "plt.subplot(122)\n",
    "plt.plot(randarraytransformedceil[:,0], randarraytransformedceil[:,1], 'r.')\n",
    "plt.show()"
   ]
  },
  {
   "cell_type": "markdown",
   "metadata": {
    "slideshow": {
     "slide_type": "subslide"
    }
   },
   "source": [
    "## Numpy Alternative"
   ]
  },
  {
   "cell_type": "code",
   "execution_count": 10,
   "metadata": {
    "collapsed": false,
    "slideshow": {
     "slide_type": "fragment"
    }
   },
   "outputs": [
    {
     "data": {
      "text/plain": [
       "[<matplotlib.lines.Line2D at 0x8668f28>]"
      ]
     },
     "execution_count": 10,
     "metadata": {},
     "output_type": "execute_result"
    },
    {
     "data": {
      "image/png": "[encoded data removed]",
      "text/plain": [
       "<matplotlib.figure.Figure at 0x816abe0>"
      ]
     },
     "metadata": {},
     "output_type": "display_data"
    }
   ],
   "source": [
    "numpyrandom = np.random.randint(-10,53,[100,2])\n",
    "plt.plot(numpyrandom[:,0], numpyrandom[:,1], 'b+')"
   ]
  },
  {
   "cell_type": "markdown",
   "metadata": {
    "slideshow": {
     "slide_type": "subslide"
    }
   },
   "source": [
    "## Generating the same sequence of random numbers.\n",
    "\n",
    "For some purpososes (Debugging), we'll want to run code that generates random numbers multiple times, but have it generate the same random numbers every time.\n",
    "\n",
    "If left to it's own devices, this typically doesn't happen.\n",
    "\n",
    "Recall the Von Neumann random number generator"
   ]
  },
  {
   "cell_type": "markdown",
   "metadata": {
    "slideshow": {
     "slide_type": "fragment"
    }
   },
   "source": [
    " * If you want an 8 digit random number, start with an 8 digit seed, $X_0$, and then calculate $X_0^2$. Your first random number, $X_1$, is taken to be the middle 8 digits of $X_0^2$\n",
    " \n",
    " The entire sequence of random numbers is based deterministically on your seed, $X_0$"
   ]
  },
  {
   "cell_type": "markdown",
   "metadata": {
    "slideshow": {
     "slide_type": "subslide"
    }
   },
   "source": [
    "## Generating the same sequence of random numbers: Example"
   ]
  },
  {
   "cell_type": "code",
   "execution_count": 11,
   "metadata": {
    "collapsed": false,
    "slideshow": {
     "slide_type": "fragment"
    }
   },
   "outputs": [
    {
     "name": "stdout",
     "output_type": "stream",
     "text": [
      "0.543404941791\n",
      "0.278369385094\n",
      "0.543404941791\n",
      "0.278369385094\n"
     ]
    }
   ],
   "source": [
    "np.random.seed(100)\n",
    "print np.random.rand()\n",
    "print np.random.rand()\n",
    "np.random.seed(100)\n",
    "print np.random.rand()\n",
    "print np.random.rand()"
   ]
  },
  {
   "cell_type": "markdown",
   "metadata": {
    "slideshow": {
     "slide_type": "fragment"
    }
   },
   "source": [
    "If you want to be sure you're getting different random numbers every time, set your seed to be some changing value, like the current system clock time. "
   ]
  },
  {
   "cell_type": "markdown",
   "metadata": {
    "slideshow": {
     "slide_type": "slide"
    }
   },
   "source": [
    "# Probability Density Functions. \n",
    "\n",
    "Random variables are drawn from probability density functions. \n",
    "\n",
    "If we measure a random variable a (very) large number of times, we can build a distribution of the values it takes on.\n",
    "\n",
    "This distribution of values will have some sort of underlying structure that determines how likely a specific value is to appear. This is called the **Probability Density Function (PDF)**\n",
    "\n",
    "For discrete probability, these are peice-wise point functions. "
   ]
  },
  {
   "cell_type": "markdown",
   "metadata": {
    "slideshow": {
     "slide_type": "subslide"
    }
   },
   "source": [
    "## Probabilty Density Function: Die Example\n",
    "\n",
    "Suppose we want to measure the probability density function of a fair d6. We roll it a certain number of times and plot the frequency each face appears. \n",
    "\n"
   ]
  },
  {
   "cell_type": "code",
   "execution_count": 12,
   "metadata": {
    "collapsed": false,
    "slideshow": {
     "slide_type": "fragment"
    }
   },
   "outputs": [
    {
     "data": {
      "text/plain": [
       "(array([ 1648.,  1637.,  1738.,  1660.,  1662.,  1655.]),\n",
       " array([1, 2, 3, 4, 5, 6, 7]),\n",
       " <a list of 6 Patch objects>)"
      ]
     },
     "execution_count": 12,
     "metadata": {},
     "output_type": "execute_result"
    },
    {
     "data": {
      "text/plain": [
       "<matplotlib.figure.Figure at 0x8746cf8>"
      ]
     },
     "metadata": {},
     "output_type": "display_data"
    },
    {
     "data": {
      "image/png": "[encoded data removed]",
      "text/plain": [
       "<matplotlib.figure.Figure at 0x7bec278>"
      ]
     },
     "metadata": {},
     "output_type": "display_data"
    }
   ],
   "source": [
    "trial10 = np.random.randint(1,7, [10])\n",
    "trial100 = np.random.randint(1,7,[100])\n",
    "trial10000 = np.random.randint(1,7,[10000])\n",
    "plt.figure(2)\n",
    "plt.figure(figsize=(15, 5))\n",
    "plt.subplot(131)\n",
    "plt.hist(trial10, bins=[1,2,3,4,5,6,7],align='left')\n",
    "plt.subplot(132)\n",
    "plt.hist(trial100,bins=[1,2,3,4,5,6,7],align='left')\n",
    "plt.subplot(133)\n",
    "plt.hist(trial10000,bins=[1,2,3,4,5,6,7],align='left')\n"
   ]
  },
  {
   "cell_type": "markdown",
   "metadata": {
    "slideshow": {
     "slide_type": "subslide"
    }
   },
   "source": [
    "## Probabilty Density Function: Die Example\n",
    "\n",
    "Each value is equally likely, but for small samples sizes, this didn't appear to be the case. \n",
    "\n",
    "With a large enough same size, the frequency of event $\\epsilon$, $F(\\epsilon)$ is proportional to it's probability. \n",
    "\n",
    "$$ F(\\epsilon) \\propto P(\\epsilon)$$\n"
   ]
  },
  {
   "cell_type": "markdown",
   "metadata": {
    "slideshow": {
     "slide_type": "fragment"
    }
   },
   "source": [
    "If every possible value is equally likely (their probabilities are the same), then the probability distribution function is said to be a ** uniform PDF**"
   ]
  },
  {
   "cell_type": "markdown",
   "metadata": {
    "slideshow": {
     "slide_type": "fragment"
    }
   },
   "source": [
    "Run this same expiriment, but insead of the value of 1, plot the frequency of the sum of values for 10000 rolls of 2 dice, of 5 dice, and of 20 dice.\n",
    "\n",
    "Is every sum equally likely? What sort of distribution does this suggest?"
   ]
  },
  {
   "cell_type": "markdown",
   "metadata": {
    "slideshow": {
     "slide_type": "subslide"
    }
   },
   "source": [
    "## PDF Example: Dice "
   ]
  },
  {
   "cell_type": "code",
   "execution_count": 13,
   "metadata": {
    "collapsed": false
   },
   "outputs": [
    {
     "data": {
      "text/plain": [
       "<matplotlib.figure.Figure at 0x7be0eb8>"
      ]
     },
     "metadata": {},
     "output_type": "display_data"
    },
    {
     "data": {
      "image/png": "[encoded data removed]",
      "text/plain": [
       "<matplotlib.figure.Figure at 0x819f6d8>"
      ]
     },
     "metadata": {},
     "output_type": "display_data"
    }
   ],
   "source": [
    "trial2 = np.random.randint(1,7,[10000,2])\n",
    "trial5 = np.random.randint(1,7,[10000,5])\n",
    "trial20 = np.random.randint(1,7, [10000, 20])\n",
    "\n",
    "plt.figure(3)\n",
    "plt.figure(figsize=(15, 5))\n",
    "plt.subplot(131)\n",
    "a = plt.hist(np.sum(trial2,axis=1), range(2,14),align='left')\n",
    "plt.subplot(132)\n",
    "b = plt.hist(np.sum(trial5,axis=1),range(5,37),align='left')\n",
    "plt.subplot(133)\n",
    "c = plt.hist(np.sum(trial20,axis=1),range(20,121),align='left')"
   ]
  },
  {
   "cell_type": "markdown",
   "metadata": {
    "slideshow": {
     "slide_type": "subslide"
    }
   },
   "source": [
    "## Using a Frequency plot to estimate probabilities?\n",
    "\n",
    "Often times, you wont have axis to the underlying PDF; you'll just have a frequency count for each value, from say an expiriment (numerical or real). \n",
    "\n",
    "You may wish to estimate the probability for any given value, or the probability for all values (the entire  PDF). Recall that for large numbers \n",
    "\n",
    "$$ F(\\epsilon) \\propto P(\\epsilon)$$\n",
    "\n",
    "It turns out that the constant of proportionality is the inverse of your total number of observations, thus\n",
    "\n",
    "$$ P(\\epsilon)_{est} = \\frac{F(\\epsilon)}{n_{obs}}$$\n",
    "\n",
    "How did we do in our single die example?\n",
    "\n"
   ]
  },
  {
   "cell_type": "markdown",
   "metadata": {
    "slideshow": {
     "slide_type": "subslide"
    }
   },
   "source": [
    "## Single Die Estimate Probabilities"
   ]
  },
  {
   "cell_type": "code",
   "execution_count": 14,
   "metadata": {
    "collapsed": false,
    "slideshow": {
     "slide_type": "subslide"
    }
   },
   "outputs": [
    {
     "name": "stdout",
     "output_type": "stream",
     "text": [
      "[0.16666666666666666, 0.16666666666666666, 0.16666666666666666, 0.16666666666666666, 0.16666666666666666, 0.16666666666666666]\n",
      "[ 0.      0.1648  0.1637  0.1738  0.166   0.1662  0.1655]\n"
     ]
    }
   ],
   "source": [
    "d6probs = [1.0/6, 1.0/6, 1.0/6, 1.0/6, 1.0/6, 1.0/6]\n",
    "d6freqs = np.bincount(trial10000) / float(len(trial10000))\n",
    "print d6probs\n",
    "print d6freqs"
   ]
  },
  {
   "cell_type": "markdown",
   "metadata": {
    "collapsed": true,
    "slideshow": {
     "slide_type": "fragment"
    }
   },
   "source": [
    "**<font color='red'>End of lecture on 5/23/2016</font>**\n"
   ]
  },
  {
   "cell_type": "markdown",
   "metadata": {
    "slideshow": {
     "slide_type": "slide"
    }
   },
   "source": [
    "# Continuous PDF's\n",
    "\n",
    "The discrete PDF provides a probability for each possible for each possible outcome considered. Why is this not the case for Continuous PDF's?\n"
   ]
  },
  {
   "cell_type": "markdown",
   "metadata": {
    "slideshow": {
     "slide_type": "fragment"
    }
   },
   "source": [
    "Continuous Functions occupy an infinite set of distince points on a domain, so the probability of any one single event can't be meaninfully considered for a continuous PDF.\n",
    "\n",
    "Instead, the probability for a range of values is calculated. \n",
    "\n",
    "In discrete probabilities, the sum of all possible outcomes was equal to 1. In continuous PDF's, the integral of all possible outcomes (the area under the PDF curve) is equal to 1. \n",
    "\n",
    "Determininge the area under the Continuous curve between two points gives us the probability of an event falling in that range. "
   ]
  },
  {
   "cell_type": "markdown",
   "metadata": {
    "slideshow": {
     "slide_type": "subslide"
    }
   },
   "source": [
    "## Continuous PDF Example\n",
    "\n",
    "Consider the normal distrubion f(x). Write down the probability of an random event drawn from this distribution being less than or equal to $a$. As being being between $a$ and $b$? "
   ]
  },
  {
   "cell_type": "markdown",
   "metadata": {
    "slideshow": {
     "slide_type": "fragment"
    }
   },
   "source": [
    "<img src=\"http://i.imgur.com/bLs01ar.gif\" width=\"350\" height=\"350\" />\n"
   ]
  },
  {
   "cell_type": "markdown",
   "metadata": {
    "collapsed": true,
    "slideshow": {
     "slide_type": "slide"
    }
   },
   "source": [
    "Stand In For Sampling"
   ]
  },
  {
   "cell_type": "markdown",
   "metadata": {
    "slideshow": {
     "slide_type": "slide"
    }
   },
   "source": [
    "# Simulation using the Monte Carlo Method\n",
    "\n",
    "Up until now, we've looked at Monte Carlo as a sampling method; This gave us a way of solving a large number of (largely continuous) problems, like integrals. \n",
    "\n",
    "Monte Carlo is more readily applied to discrete problems when used for **simulations**.\n",
    "\n",
    "* Coin tosses, diffussion of an ink drop in water, game strategios, and drunks staggering along a pier, all to come. \n",
    "\n",
    "Monte Carlo methods will allow us to pose and answer questions on random processes. "
   ]
  },
  {
   "cell_type": "markdown",
   "metadata": {
    "slideshow": {
     "slide_type": "subslide"
    }
   },
   "source": [
    "## Simulations\n",
    "\n",
    "Up until now, you have general used algorithms to solve straightforward computational problems. \n",
    "\n",
    "* Find the mean of X, Standard Deviation of Y, Integral of F(x), etc...\n",
    "\n",
    "Simulations are a way of modeling complex processes numercially. \n",
    "\n",
    "Simulations are based on an underlying model that can created from on\n",
    "* Simplifications/Assumptions (Modelling water as incompressible)\n",
    "* Arbritrary choices (Ignoring magnetic field effects)\n",
    "* Rough measurments \n",
    "\n",
    "The goal is to create model that still has a close enough relationship to the real world so that we can study the results and get an idea of how the real process works, make predictions, and eventually improve the model. \n",
    "\n"
   ]
  },
  {
   "cell_type": "markdown",
   "metadata": {
    "slideshow": {
     "slide_type": "subslide"
    }
   },
   "source": [
    "## Simulations\n",
    "\n",
    "*The purpose of computations is insight, not numbers*\n",
    "\n"
   ]
  },
  {
   "cell_type": "markdown",
   "metadata": {
    "slideshow": {
     "slide_type": "subslide"
    }
   },
   "source": [
    "## Simple Simulation Example\n",
    "\n",
    "Suppose a Friend has is starting a business selling cookies and wants you to do all the hard mathy stuff. \n",
    "\n",
    "S/He buys cookies from a baker at the cost of \\$0.4 per cookie and sells them for `\\$1.00. Assuming no overhead, so for every cookie s/he sells, s/he gets \\$0.6. \n",
    "\n",
    "At the end of the day, the excess cookies are discarded/donated/eaten at a loss. \n",
    "\n",
    "In the 4 hours a day s/he sells cookies, s/he feels demand is fairly uniform and has never sold more than 140 cookies or less than 140. \n",
    "\n",
    "Let's build a model for this, simulate it, and find out how to maximize their profit. "
   ]
  },
  {
   "cell_type": "markdown",
   "metadata": {
    "slideshow": {
     "slide_type": "subslide"
    }
   },
   "source": [
    "### The Model \n",
    "\n",
    "Our model takes in parameters of interest and outputs results we seek for the quantities. \n",
    "\n",
    "What our our parameters for any given day s/he sells cookies. "
   ]
  },
  {
   "cell_type": "markdown",
   "metadata": {
    "slideshow": {
     "slide_type": "fragment"
    }
   },
   "source": [
    "Q the number of cookies our captian of industry orders, and D the demand for cookies on that day. \n",
    "\n",
    "What kind of variables are these?\n"
   ]
  },
  {
   "cell_type": "markdown",
   "metadata": {
    "slideshow": {
     "slide_type": "fragment"
    }
   },
   "source": [
    "Q is independent, D is random. \n",
    "\n",
    "What output are we interested. \n"
   ]
  },
  {
   "cell_type": "markdown",
   "metadata": {
    "slideshow": {
     "slide_type": "fragment"
    }
   },
   "source": [
    "The Profit (or loss) for that given days D and Q. \n",
    "\n",
    "Has the functional form $ P = D - (0.4Q)$"
   ]
  },
  {
   "cell_type": "markdown",
   "metadata": {
    "slideshow": {
     "slide_type": "subslide"
    }
   },
   "source": [
    "### The Simulation\n",
    "\n",
    "Now that we have a model, we can simulate it. \n",
    "\n",
    "We can simulate it a large number of times.\n",
    "\n",
    "* First we'll pick a Q. \n",
    " * For that Q, we'll generate $n$ D's, and calculate the profit for each D. \n",
    " * Then we can calculate the average profit for that Q.\n",
    " \n",
    "* Move onto a different Q until we've probed all the space we're interest in. \n"
   ]
  },
  {
   "cell_type": "markdown",
   "metadata": {
    "slideshow": {
     "slide_type": "subslide"
    }
   },
   "source": [
    "### The Simulation: Code"
   ]
  },
  {
   "cell_type": "code",
   "execution_count": 25,
   "metadata": {
    "collapsed": false,
    "slideshow": {
     "slide_type": "fragment"
    }
   },
   "outputs": [
    {
     "data": {
      "text/plain": [
       "[<matplotlib.lines.Line2D at 0x97d1518>]"
      ]
     },
     "execution_count": 25,
     "metadata": {},
     "output_type": "execute_result"
    },
    {
     "data": {
      "image/png": "[encoded data removed]",
      "text/plain": [
       "<matplotlib.figure.Figure at 0x95d08d0>"
      ]
     },
     "metadata": {},
     "output_type": "display_data"
    }
   ],
   "source": [
    "minorder = 80\n",
    "maxorder = 140\n",
    "n = 100\n",
    "def cookieShop (n, minorder, maxorder):\n",
    "    profit = np.zeros(60)\n",
    "    for Q in range(minorder, maxorder):\n",
    "        Qind = Q - 80\n",
    "        for j in range(0,n-1):\n",
    "                D = np.random.rand()\n",
    "                D = (maxorder-minorder)*D+minorder\n",
    "                if (D > Q): \n",
    "                    profit[Qind] = profit[Qind] + 0.6*Q\n",
    "                elif (D < Q):\n",
    "                    profit[Qind] = profit[Qind] + (0.6*D - 0.4*(Q-D))\n",
    "    profit = profit / n\n",
    "    return(profit)\n",
    "profit = cookieShop(n,minorder, maxorder)\n",
    "plt.plot(range(minorder,maxorder), profit)"
   ]
  },
  {
   "cell_type": "markdown",
   "metadata": {
    "slideshow": {
     "slide_type": "subslide"
    }
   },
   "source": [
    "### The Simulation: Results\n",
    "\n",
    "Increasing profit with increasing Q up until about 110, then things get pretty volatile. \n",
    "\n",
    "How can we remove this volatility?\n",
    "\n"
   ]
  },
  {
   "cell_type": "markdown",
   "metadata": {
    "slideshow": {
     "slide_type": "fragment"
    }
   },
   "source": [
    "More simulations! (increase $n$). "
   ]
  },
  {
   "cell_type": "markdown",
   "metadata": {},
   "source": [
    "### The Simulation: More Results\n"
   ]
  },
  {
   "cell_type": "code",
   "execution_count": 26,
   "metadata": {
    "collapsed": false
   },
   "outputs": [
    {
     "data": {
      "text/plain": [
       "[<matplotlib.lines.Line2D at 0x9a2da90>]"
      ]
     },
     "execution_count": 26,
     "metadata": {},
     "output_type": "execute_result"
    },
    {
     "data": {
      "image/png": "[encoded data removed]",
      "text/plain": [
       "<matplotlib.figure.Figure at 0x818a400>"
      ]
     },
     "metadata": {},
     "output_type": "display_data"
    }
   ],
   "source": [
    "n = 100000\n",
    "profit = cookieShop(n,minorder, maxorder)\n",
    "plt.plot(range(minorder,maxorder), profit)"
   ]
  },
  {
   "cell_type": "markdown",
   "metadata": {
    "slideshow": {
     "slide_type": "fragment"
    }
   },
   "source": [
    "Much better. "
   ]
  },
  {
   "cell_type": "markdown",
   "metadata": {
    "slideshow": {
     "slide_type": "slide"
    }
   },
   "source": [
    "# Brownian Motion/Random Walks\n",
    "\n",
    "In 1827, Scotish botanist Robert Brown was studying pollen grains which he had placed in water.\n",
    "\n",
    "Although the pollen was completely still, the pollen grains bounced around randomly. He could neither stop nor explain this motion. \n",
    "\n",
    "When other scientists were able to replicate his results, they dubbed this unexplained phenomena Brownian motion. \n",
    "\n",
    "Einstein was able to show that the motion of these fine particles is due to the random imbalance of microscopic forces acting on the particle. \n"
   ]
  },
  {
   "cell_type": "markdown",
   "metadata": {
    "slideshow": {
     "slide_type": "subslide"
    }
   },
   "source": [
    "# Brownian Motion\n",
    "\n",
    "If we observe a particle undergoing Brownian motion to be at position (x,y) at time $t=0$,its distance from that point at a later time would be a normal random variable with mean 0 and variance t. \n",
    "\n",
    "The typical distance would grow as a function of $\\sqrt{t}$\n",
    "\n",
    "This also models the behavior of a drop of ink diffusing in a liquid; as the ink particle randomly collide with water molecules, it spreads and mixes without requiring any stirring. \n",
    "\n",
    "Such mixing follows the $\\sqrt{t}$ law, so that roughly speaking, if the diameter of  the ink drop doubles in 10 seconds, it will double again in 40 seconds. \n",
    "\n"
   ]
  },
  {
   "cell_type": "markdown",
   "metadata": {
    "slideshow": {
     "slide_type": "subslide"
    }
   },
   "source": [
    "## Randow Walks\n",
    "\n",
    "This random behaivor of a pollen grain or an ink particle or what not are described as undergoing a **random walk**; at any given timestep, the particle may move in any given direction with no correlation to the direction it stepped in on the previous time step. \n",
    "\n",
    "In order to increase the amount of whimsy in the world, we'll introduce random walks with an allegory about a ship captain who was carrying a load of rum. The ship was tied up at the dock, and the captain was asleep. The crew, being a horrbly unfair stereotype of working class laborers, break into the rum, get drunk, and stagger out onto the dock. \n",
    "\n",
    "* The dock is 100 meters long, and the ship is docked in the middle of it. \n",
    "* The sailors have reached a state of inebriation where they can only take 1 step of 1 meter every minute, and each step is in a total random direction. \n",
    "\n",
    "The captain, being a generally fair stereotype of the bourgeois ruling class, wakes up from his nape after 2 hours. \n",
    "\n",
    "Upon waking, he exclaims \"Oh no, there are only 50 steps to the left or right, and they've had time to make 120 steps! My <s> labor capital </s> crew has surely drowned. \n",
    "\n",
    "Have they?"
   ]
  },
  {
   "cell_type": "markdown",
   "metadata": {
    "slideshow": {
     "slide_type": "subslide"
    }
   },
   "source": [
    "## Random walks in 1D: The Model\n",
    "\n",
    "* Let x represent the position of a sailor or a line. (Ignore dock width) \n",
    "\n",
    "* We assume that at step $n=0$ all of the sailors are at $x=0$. \n",
    "\n",
    "* We assume that each new step is chosen entirely at random, and is to the left or the right. \n",
    "\n",
    "Let's simulate this model with 500 sailors. \n"
   ]
  },
  {
   "cell_type": "markdown",
   "metadata": {
    "slideshow": {
     "slide_type": "subslide"
    }
   },
   "source": [
    "## Random walks in 1D: The Simulation\n"
   ]
  },
  {
   "cell_type": "code",
   "execution_count": 68,
   "metadata": {
    "collapsed": false,
    "slideshow": {
     "slide_type": "fragment"
    }
   },
   "outputs": [
    {
     "data": {
      "image/png": "[encoded data removed]",
      "text/plain": [
       "<matplotlib.figure.Figure at 0xbc994a8>"
      ]
     },
     "metadata": {},
     "output_type": "display_data"
    }
   ],
   "source": [
    "n = 120\n",
    "nsailors = 500\n",
    "\n",
    "walks = np.random.rand(nsailors,n)\n",
    "b = walks >= 0.5 \n",
    "walks[b] = 1\n",
    "walks[~b] = -1 \n",
    "\n",
    "location = np.cumsum(walks, 1 )\n",
    "t = plt.hist(location[:,n-1])"
   ]
  },
  {
   "cell_type": "markdown",
   "metadata": {
    "slideshow": {
     "slide_type": "subslide"
    }
   },
   "source": [
    "## Random walks in 1D: The Results\n",
    "\n",
    "The furthest one had made it was about 30 meters in one direction. Not a single sailor had fallen of the dock. Is fact, a vast majority were withn 10 meters of the ship. \n",
    "\n",
    "Just like the ink drop, on average, after n steps, we expect the distance from the ship walked to be $\\sqrt{n}$. If we compare n to the square of the distance, we can hope for a straight line. \n",
    "\n",
    "\n"
   ]
  },
  {
   "cell_type": "code",
   "execution_count": 69,
   "metadata": {
    "collapsed": false,
    "slideshow": {
     "slide_type": "fragment"
    }
   },
   "outputs": [
    {
     "data": {
      "text/plain": [
       "[<matplotlib.lines.Line2D at 0xd104ef0>]"
      ]
     },
     "execution_count": 69,
     "metadata": {},
     "output_type": "execute_result"
    },
    {
     "data": {
      "image/png": "[encoded data removed]",
      "text/plain": [
       "<matplotlib.figure.Figure at 0xbacbf28>"
      ]
     },
     "metadata": {},
     "output_type": "display_data"
    }
   ],
   "source": [
    "avdist = np.mean(location**2,0)\n",
    "plt.plot(range(0,120), avdist)"
   ]
  },
  {
   "cell_type": "markdown",
   "metadata": {
    "slideshow": {
     "slide_type": "subslide"
    }
   },
   "source": [
    "## Random walks in 1D: The Results\n",
    "\n",
    "Still a little messy, lets see if we can't improve. \n",
    "\n"
   ]
  },
  {
   "cell_type": "code",
   "execution_count": 70,
   "metadata": {
    "collapsed": false,
    "slideshow": {
     "slide_type": "fragment"
    }
   },
   "outputs": [
    {
     "data": {
      "text/plain": [
       "[<matplotlib.lines.Line2D at 0xcbd1048>]"
      ]
     },
     "execution_count": 70,
     "metadata": {},
     "output_type": "execute_result"
    },
    {
     "data": {
      "image/png": "[encoded data removed]",
      "text/plain": [
       "<matplotlib.figure.Figure at 0xaf2c518>"
      ]
     },
     "metadata": {},
     "output_type": "display_data"
    }
   ],
   "source": [
    "n = 120\n",
    "nsailors = 50000\n",
    "\n",
    "walks = np.random.rand(nsailors,n)\n",
    "b = walks >= 0.5 \n",
    "walks[b] = 1\n",
    "walks[~b] = -1 \n",
    "\n",
    "location = np.cumsum(walks, 1 )\n",
    "avdist = np.mean(location**2,0)\n",
    "plt.plot(range(0,120), avdist)"
   ]
  },
  {
   "cell_type": "markdown",
   "metadata": {
    "slideshow": {
     "slide_type": "subslide"
    }
   },
   "source": [
    "## Why does the solution take this form?\n",
    "\n",
    "How many possible walks are there for a given $n$ number of steps. \n",
    "\n",
    "Instead of left/right steps, think about coin tosses. After two coin tosses, the 4 possibilites are \n",
    "* HH HT TH TT \n",
    "After 3 coin tosses, the 8 probabilities are \n",
    "* HHH HHT HTH HTT TTT THT THH TTH\n",
    "\n",
    "In general, for a given process with two possible outcomes each step (binomial process), the number of possiblities after $n$ steps is $2^n$. \n",
    "\n",
    "So after 120 steps, there are $2^{120}\\approx 10^{36}$ possible combinations. \n",
    "\n",
    "How many of them can end up at again given position. \n",
    "\n",
    "* Only one can end up at position $n$ (or $-n$). \n",
    "* $n$ out of $2^n$ can end up at $n-2$; 119 steps to the right, one to the left = 118. \n",
    " * Step to the left can be the first one, the second one, the third one, etc... any of the n steps. \n",
    " \n",
    "One can show that there are $\\frac{n!}{k!(n-k)!}$ ways of ending up at positios $n-2k$. \n"
   ]
  },
  {
   "cell_type": "markdown",
   "metadata": {
    "slideshow": {
     "slide_type": "subslide"
    }
   },
   "source": [
    "## Why does the solution take this form?\n",
    "\n",
    "Row n of Pascal's triangle tells you what a random walk can do. But row n of Pascals triance can be thought of as dropping balls in a pachinko game that can randomly go left or right at each level. "
   ]
  },
  {
   "cell_type": "markdown",
   "metadata": {
    "slideshow": {
     "slide_type": "fragment"
    }
   },
   "source": [
    "<img src=\"http://i.imgur.com/yPLpAtc.gif\" width=\"600\" height=\"600\" />\n"
   ]
  },
  {
   "cell_type": "markdown",
   "metadata": {
    "slideshow": {
     "slide_type": "subslide"
    }
   },
   "source": [
    "## Random Walks in 2D\n",
    "\n",
    "<img src=\"https://upload.wikimedia.org/wikipedia/commons/1/14/2d_Random_Walk_3.png\" width=\"600\" height=\"600\" />\n"
   ]
  },
  {
   "cell_type": "markdown",
   "metadata": {
    "slideshow": {
     "slide_type": "slide"
    }
   },
   "source": [
    "# Simulations for Game Theory\n",
    "\n",
    "Game theory is the study of optimal decision making in multiplayer \"games\" (essentially anything that pits players against one another\" \n",
    "\n",
    "Also invented by John von Neuman in the 1950's\n",
    "\n",
    "Used in economics, international diplomacy, military planning, sociology, etc, all with varying degrees of sucess. \n",
    "\n"
   ]
  },
  {
   "cell_type": "markdown",
   "metadata": {
    "slideshow": {
     "slide_type": "subslide"
    }
   },
   "source": [
    "## Simulating a gambling game\n",
    "\n",
    "Similar to our Fermat/Pascal problem from the beginning of this unit, we consider two players pit against one another in a series of coin tosses. \n",
    "\n",
    "Instead of playing for and already agreed upon pot, each time a player wins, he receives a dollar immediately from the other player. \n",
    "\n",
    "A has $P$ dollars and B has $Q$ dollars. \n",
    "\n",
    "The game ends when one player is bankrupt. \n",
    "\n"
   ]
  },
  {
   "cell_type": "markdown",
   "metadata": {
    "slideshow": {
     "slide_type": "subslide"
    }
   },
   "source": [
    "## Simulating a gambling game\n",
    "\n",
    "What are some questions we can ask/answer about this game?\n",
    "\n",
    "* What is the probability that A will win?\n",
    "* What is the expected value of the game to A (how much will he win or lose, on average)\n",
    "* How long will a typical game last?\n",
    "* What are the chances the winner will be ahead the entire game\n",
    "* What happens if we change the amount of money that A and B have.\n",
    "\n",
    "And so on and so on. \n"
   ]
  },
  {
   "cell_type": "markdown",
   "metadata": {
    "slideshow": {
     "slide_type": "subslide"
    }
   },
   "source": [
    "## Simulating a gambling game. \n",
    "\n",
    "A typical game in wich A starts with \\$3 and B with \\$7 with A winning on heads may look ilke:\n",
    "\n",
    "<img src=\"http://i.imgur.com/9YucxjM.pngg\" width=\"600\" height=\"200\" />\n",
    "\n",
    "A goes bankrupt and loses after 15 tosses, have tossed 6 heads and 9 tails. \n",
    "\n",
    "Clearly the gambler with the most starting money has an advantage, but can we quantify it?\n",
    "\n",
    "If A starts with \\$3, the game can end in a minimum of 3 steps. Can we expect a typical game in such a case to have 6, 9, or even 12 step?\n",
    "\n",
    "Does it depend on the amount of money B has?\n",
    "\n",
    "Suppose they both start with the same amount of money. \n",
    "\n"
   ]
  },
  {
   "cell_type": "markdown",
   "metadata": {
    "slideshow": {
     "slide_type": "subslide"
    }
   },
   "source": [
    "## Simulating a gambling game\n",
    "\n",
    "A single plot can show you how a single game behaves, but doesn't give you any insight into the statstics underlying the game. \n",
    "\n",
    "<img src=\"http://i.imgur.com/9YucxjM.pngg\" width=\"400\" height=\"400\" />\n",
    "\n",
    "To derive those, we need to look at very many simulations of the game. "
   ]
  },
  {
   "cell_type": "markdown",
   "metadata": {
    "slideshow": {
     "slide_type": "subslide"
    }
   },
   "source": [
    "## Building our Model\n",
    "\n",
    "Our parameters of interest are:\n",
    "   * A stakes\n",
    "   * B stakes\n",
    "   * Number of games we wish to simulate (distinct from number of steps)\n",
    "   \n",
    "For each step within a game, generate a random number to see who wins. \n",
    " * If A wins, a = a+1, b = b-1\n",
    " * If B wins, a = a-1, b = b+1\n",
    " \n",
    " Stop each game when a or b are 0. "
   ]
  },
  {
   "cell_type": "markdown",
   "metadata": {
    "slideshow": {
     "slide_type": "subslide"
    }
   },
   "source": [
    "## Our code"
   ]
  },
  {
   "cell_type": "code",
   "execution_count": 113,
   "metadata": {
    "collapsed": false,
    "slideshow": {
     "slide_type": "fragment"
    }
   },
   "outputs": [
    {
     "name": "stdout",
     "output_type": "stream",
     "text": [
      "0.2989 0.7011 21.0502\n"
     ]
    }
   ],
   "source": [
    "def GameSim(n_games, a_stakes, b_stakes):\n",
    "    a_wins = 0\n",
    "    b_wins = 0\n",
    "    count = np.zeros(n_games)\n",
    "    ngamesf = float(n_games)\n",
    "    for i in range(0, n_games):\n",
    "        astakes = a_stakes\n",
    "        bstakes = b_stakes\n",
    "        while ((astakes > 0) and (bstakes > 0)):\n",
    "            flip = np.random.rand()\n",
    "            if (flip >= 0.5):\n",
    "                astakes = astakes + 1\n",
    "                bstakes = bstakes - 1\n",
    "            elif(flip < 0.5):\n",
    "                astakes = astakes - 1\n",
    "                bstakes = bstakes +  1\n",
    "            count[i] = count[i]+1\n",
    "        if (bstakes == 0):\n",
    "            a_wins = a_wins + 1\n",
    "        elif(astakes == 0):\n",
    "            b_wins = b_wins + 1\n",
    "\n",
    "    return (a_wins/ngamesf, b_wins/ngamesf,count)\n",
    "\n",
    "[a,b,count] = GameSim(10000,3,7)\n",
    "print a,b, np.mean(count)"
   ]
  },
  {
   "cell_type": "markdown",
   "metadata": {
    "slideshow": {
     "slide_type": "subslide"
    }
   },
   "source": [
    "## Results: \n",
    "\n",
    "The expected number of steps is $ \\approx Q * P$  \n",
    "\n",
    "A's chance of winning are $P/(P+Q)$\n",
    "\n",
    "The expected value for each player is the probability of them winning times the size of the pot they could win (the other players stakes) \n",
    "\n",
    "For A \n",
    " * $Q \\frac{P}{P+Q}$\n",
    "\n",
    "For B \n",
    " * $P \\frac{Q}{P+Q}$\n",
    "\n",
    "Whats notable about these two numbers?"
   ]
  },
  {
   "cell_type": "markdown",
   "metadata": {
    "slideshow": {
     "slide_type": "subslide"
    }
   },
   "source": [
    "###  Results: A3B7\n"
   ]
  },
  {
   "cell_type": "code",
   "execution_count": 114,
   "metadata": {
    "collapsed": false,
    "slideshow": {
     "slide_type": "fragment"
    }
   },
   "outputs": [
    {
     "data": {
      "image/png": "[encoded data removed]",
      "text/plain": [
       "<matplotlib.figure.Figure at 0xcbad9e8>"
      ]
     },
     "metadata": {},
     "output_type": "display_data"
    }
   ],
   "source": [
    "t = plt.hist(count)"
   ]
  },
  {
   "cell_type": "markdown",
   "metadata": {
    "slideshow": {
     "slide_type": "subslide"
    }
   },
   "source": [
    "### Results: A30B70"
   ]
  },
  {
   "cell_type": "code",
   "execution_count": 115,
   "metadata": {
    "collapsed": false,
    "slideshow": {
     "slide_type": "fragment"
    }
   },
   "outputs": [
    {
     "data": {
      "image/png": "[encoded data removed]",
      "text/plain": [
       "<matplotlib.figure.Figure at 0xaeff7f0>"
      ]
     },
     "metadata": {},
     "output_type": "display_data"
    }
   ],
   "source": [
    "[a,b,count2] = GameSim(10000,30,70)\n",
    "t = plt.hist(count2)"
   ]
  },
  {
   "cell_type": "markdown",
   "metadata": {
    "slideshow": {
     "slide_type": "subslide"
    }
   },
   "source": [
    "### Results: A10B10"
   ]
  },
  {
   "cell_type": "code",
   "execution_count": 116,
   "metadata": {
    "collapsed": false,
    "slideshow": {
     "slide_type": "fragment"
    }
   },
   "outputs": [
    {
     "data": {
      "image/png": "[encoded data removed]",
      "text/plain": [
       "<matplotlib.figure.Figure at 0xcdb3eb8>"
      ]
     },
     "metadata": {},
     "output_type": "display_data"
    }
   ],
   "source": [
    "[a,b,count3] = GameSim(10000,10,10)\n",
    "t = plt.hist(count3)"
   ]
  },
  {
   "cell_type": "markdown",
   "metadata": {
    "slideshow": {
     "slide_type": "subslide"
    }
   },
   "source": [
    "## Game Theory: Duel Simulation\n",
    "\n",
    "In this game, two players take turns firing at each other until one is hit and incapacitated. \n",
    "\n",
    "The accuracy (probability of hitting the other player on any given shot) is known for both players. \n",
    "\n",
    "In a who person game, there is no strategy: just keep firing at the other player until you win or lose. \n",
    "\n",
    "We can calculate the probablity of either player surviving for a given duel setup:\n",
    "\n",
    "If A has an accuracy of 4/6 and B has an accuracy of 5/6, and A gets the first turn, a winning game for A can proceed as\n",
    " * A hits on the first shot (4/6)\n",
    " * A misses, B misses, A hits (2/6)*(1/6)*(4/6)\n",
    " * A misses, B misses, A misses, B misses, A hits (2/6)(1/6)(2/6)(1/6)(4/6)\n",
    "\n",
    "An so on...\n",
    "\n",
    "The probability A survives is the infite sum \n",
    "$$ \\sum_{i=0}^{\\infty}{((1-4/6)(1-5/6))^i  4/6}$$\n",
    "\n",
    "In this setut, it turns out A has a 12/17 chance of winning, while B has a 5/7. \n",
    "\n",
    "But we want to simulate this, not calculate it. "
   ]
  },
  {
   "cell_type": "markdown",
   "metadata": {
    "slideshow": {
     "slide_type": "subslide"
    }
   },
   "source": [
    "## Duel Simulation: The Structure\n",
    "\n",
    "Our goal is to build an exstensible code that will perform a specified number of duel simulations and keeps track of the survivor and number of shots for each simulation. \n",
    "\n",
    "We can write this as two functions, one that drives the simulation, performing the number of different duel simulations we specific and initializing the variables, and one that performs the duel for a given number of players and accuracy. "
   ]
  },
  {
   "cell_type": "code",
   "execution_count": 117,
   "metadata": {
    "collapsed": true,
    "slideshow": {
     "slide_type": "fragment"
    }
   },
   "outputs": [],
   "source": [
    "def duelFunc (p):\n",
    "    winner = 0\n",
    "    n_shots = 0\n",
    "    ## Perform the duel calculation here\n",
    "    return(winner, n_shots)\n",
    "\n",
    "def driverFunc(n):\n",
    "    p = [0.5,0.5] # Probability array for fair two person duel\n",
    "    for i in range(0,n):\n",
    "        # Do it a alot\n",
    "        duelFunc(p)\n",
    "    #Calucalte statistics on it. \n"
   ]
  },
  {
   "cell_type": "markdown",
   "metadata": {
    "slideshow": {
     "slide_type": "subslide"
    }
   },
   "source": [
    "## Duel Problem: 3-Person duel\n",
    "\n",
    "2-Person duels are trivial from a game theory perspective; your only sensible choice is to fire at the other player. \n",
    "\n",
    "But suppose we have a three person duel; players A, B, and C. \n",
    "\n",
    "<img src=\"http://i.imgur.com/dJXdu8Z.jpg\" width=\"600\" height=\"600\" />\n",
    "\n",
    "Lets further suppose that while A and B are reasonably competent with a firearm, C is out of his depth. \n",
    "\n"
   ]
  },
  {
   "cell_type": "markdown",
   "metadata": {
    "slideshow": {
     "slide_type": "subslide"
    }
   },
   "source": [
    "## 3 Person Duel Strategies\n",
    "\n",
    "Since A and B are reasonable shots, they represent the biggest threat to each other, and thus are each others optimal target. As soon as one of them gets hit, it will be C's turn to shoot (if A shoots B on his turn, we skip to C, if B hits A on his turn, we move on to C). Having the first shot at the remaining opponent gives C something of an advantage. \n",
    "\n",
    "But if A and B both miss each other, it is now C's turn. Who does he shoot at?\n",
    " * If he shoots at A and hits, he'll eliminate an accurate opponent, but then it will be B's turn to shoot at him.\n",
    " * Same with if he shoots at B and hits. \n",
    " * Maybe he should shoot at no one on his turn?\n",
    "\n",
    "Part of your homework will to be to write this three person duel problem and address this question. \n"
   ]
  },
  {
   "cell_type": "markdown",
   "metadata": {
    "slideshow": {
     "slide_type": "subslide"
    }
   },
   "source": [
    "## 3 Person Duel: Coding Structure \n",
    "\n",
    "Differences from the 2 Player duel\n",
    " * The game does not end as soon as one player is hit, instead it continues until there is only 1 left. \n",
    " * There is a choice for each player on his turn of who to shoot. \n",
    " \n",
    " Istead of coding up what Player A does, followed by Player B and then Player C, perhaps it makes more sense to write another function that handles the turn for each player. The turns for each player are all the same, save a few numerical values. They proceed as:\n",
    " * Check to see if I'm alive. \n",
    "   * if so, proceed\n",
    "   * if not, exit\n",
    " * Decide who to aim at (could be random, could be strategic)\n",
    " * Generate a random number to see if you hit your target \n",
    "  * If Hit! Check to see if I am only player left\n",
    "    * If Yes, I win the duel\n",
    "    * If No, my turn ends\n",
    "  * If miss, my turn ends"
   ]
  },
  {
   "cell_type": "code",
   "execution_count": null,
   "metadata": {
    "collapsed": true
   },
   "outputs": [],
   "source": []
  }
 ],
 "metadata": {
  "celltoolbar": "Slideshow",
  "kernelspec": {
   "display_name": "Python 2",
   "language": "python",
   "name": "python2"
  },
  "language_info": {
   "codemirror_mode": {
    "name": "ipython",
    "version": 2
   },
   "file_extension": ".py",
   "mimetype": "text/x-python",
   "name": "python",
   "nbconvert_exporter": "python",
   "pygments_lexer": "ipython2",
   "version": "2.7.11"
  }
 },
 "nbformat": 4,
 "nbformat_minor": 0
}
