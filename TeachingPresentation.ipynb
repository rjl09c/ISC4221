{
 "cells": [
  {
   "cell_type": "markdown",
   "metadata": {
    "slideshow": {
     "slide_type": "slide"
    }
   },
   "source": [
    "\n",
    "# Statistical inference on the sample mean\n",
    "\n",
    "## Or: How to gain useful information from sample measurements"
   ]
  },
  {
   "cell_type": "markdown",
   "metadata": {
    "slideshow": {
     "slide_type": "slide"
    }
   },
   "source": [
    "# Outline \n",
    "1. Review of the Sample Mean, Variance and Standard Deviation\n",
    "2. Distribution of the Sample Mean \n",
    "    * Normally Distributed Variables \n",
    "        * Worked Example\n",
    "    * Non-normally Distributed Variables and the Central Limit Theorem\n",
    "        * Worked Example\n",
    "3. Distribution of the Sample Mean for non-normal variables and the central limit theorem\n",
    "     * Central Limit Theorem Discussion \n",
    "     * Hypothesis testing for non-normally distributed random variables\n",
    "     * Worked Examples\n",
    "4. Concept Check\n"
   ]
  },
  {
   "cell_type": "markdown",
   "metadata": {
    "slideshow": {
     "slide_type": "slide"
    }
   },
   "source": [
    "# Review of the Sample Mean\n",
    "In statistics, we generally try to gain insight into the characteristics of **populations**, that is some group of things or people that fit some criteria. \n",
    "#### Examples of Populations\n",
    "* All WSU-Tricities Undergraduates\n",
    "* All the cougars in Washington state\n",
    "* All the Tesla Roadsters built in June\n",
    "\n",
    "Populations can be large or small, but for many populations directly measuring characteristics of interest can be very difficult or impossible. To directly measure the average weight of all the cougars in Washington, you'd have to find and weigh them all!\n",
    "\n",
    "\n",
    "**So the question is, can we make useful conclusions about populations by measuring only a few members of the population?**\n",
    "\n"
   ]
  },
  {
   "cell_type": "markdown",
   "metadata": {
    "slideshow": {
     "slide_type": "subslide"
    }
   },
   "source": [
    "## Samples\n",
    "\n",
    "When we pick out certain members of a population for direct measurement, we create a **sample** of the population\n",
    "\n",
    "#### Corresponding Samples of Populations\n",
    "* WSU-Tricities undergraduates who respond to a survey \n",
    "* Cougars tracked and caught as part of a wildlife management program\n",
    "* Tesla Roadsters built in June randomly selected for additional testing\n",
    "\n",
    "\n"
   ]
  },
  {
   "cell_type": "markdown",
   "metadata": {
    "slideshow": {
     "slide_type": "subslide"
    }
   },
   "source": [
    "## Observations \n",
    "\n",
    "**Observations** are the measurements of indivdiul member of a sample  \n",
    "\n",
    "#### Possible Observations from each of the above samples\n",
    "* The amount of sleep John Doe, WSU-Tricities bio major, got last night: <font color='red'>5.5 hrs</font>\n",
    "* The measured weight of the cougar living just southeast of Walla Walla: <font color='red'>115 Pounds</font>\n",
    "* The 0-60 time of Roadster number J354: <font color='red'>1.85 seconds</font>"
   ]
  },
  {
   "cell_type": "markdown",
   "metadata": {
    "slideshow": {
     "slide_type": "subslide"
    }
   },
   "source": [
    "## Characterizing Samples\n",
    "\n",
    "Once we have collected observations from each of our sample members, we can characterize the sample in a number of ways using descriptive statistics. \n",
    "\n",
    "* The **sample size**, $n$, the number of observations in the sample.\n",
    "* The **sample mean**, $\\bar{x}$, the sum of sample observations divided by the sample size. \n",
    "    * If $x_1$ is the first observation, $x_2$ the second, $x_3$ the third and so on, and you have 6 observations ($n=6$), the sample mean is calculated as: \n",
    "    \n",
    "    $$\\bar{x} = \\frac{x_1 + x_2 + x_3 + x_4 + x_5 + x_6 }{n}$$\n",
    "    \n",
    "    * In general\n",
    "    \n",
    "    $$\\bar{x} = \\frac{1}{n} \\sum_{i=1}^n{x_i}$$ "
   ]
  },
  {
   "cell_type": "markdown",
   "metadata": {
    "slideshow": {
     "slide_type": "subslide"
    }
   },
   "source": [
    "## Characterizing Samples (continued)\n",
    "\n",
    "Once we have collected observations from each of our sample members, we can characterize the sample in a number of ways using descriptive statistics. \n",
    "* The **sample variance**, $s^2$, the sum of the squared differences between each observation and the sample mean $\\bar{x}$, divide by the sample size minus 1\n",
    "    * If $x_1$ is the first observation, $x_2$ the second, $x_3$ the third and so on, and you have 7 observations ($n=7$), the sample variance is calculated as: \n",
    "    \n",
    "$$s^2 = \\frac{(x_1-\\bar{x})^2 + (x_2-\\bar{x})^2  + (x_3-\\bar{x})^2 + (x_4-\\bar{x})^2 + (x_5-\\bar{x})^2 + (x_6-\\bar{x})^2+(x_7-\\bar{x})^2}{n-1}$$\n",
    "\n",
    "   * In general\n",
    "    \n",
    "$$s^2 = \\frac{1}{n-1} \\sum_{i=1}^n{(x_i-\\bar{x})^2}$$ \n",
    "\n",
    "* The **sample standard deviation**, $s = \\sqrt{s^2} = \\sqrt{\\frac{1}{n-1} \\sum_{i=1}^n{(x_i-\\bar{x})^2}}$"
   ]
  },
  {
   "cell_type": "markdown",
   "metadata": {
    "slideshow": {
     "slide_type": "subslide"
    }
   },
   "source": [
    "## Characterizing a Sample Example\n",
    "\n",
    "Suppose we send out a survey to WSU undergraduates asking how many hours they slept last night. We recieve the following 6 responses, which is now our sample. \n",
    "<table style=\"border-collapse:collapse;border-spacing:0\"><tr><th style=\"font-family:Arial, sans-serif;font-size:16px;font-weight:bold;padding:10px 5px;border-style:solid;border-width:1px;overflow:hidden;word-break:normal;border-color:black\">Student</th><th style=\"font-family:Arial, sans-serif;font-size:32px;font-weight:normal;padding:10px 5px;border-style:solid;border-width:1px;overflow:hidden;word-break:normal;border-color:black\">Ben</th><th style=\"font-family:Arial, sans-serif;font-size:32px;font-weight:normal;padding:10px 5px;border-style:solid;border-width:1px;overflow:hidden;word-break:normal;border-color:black\">John</th><th style=\"font-family:Arial, sans-serif;font-size:32px;font-weight:normal;padding:10px 5px;border-style:solid;border-width:1px;overflow:hidden;word-break:normal;border-color:black\">Margaret</th><th style=\"font-family:Arial, sans-serif;font-size:32px;font-weight:normal;padding:10px 5px;border-style:solid;border-width:1px;overflow:hidden;word-break:normal;border-color:black;vertical-align:top\">Walter</th><th style=\"font-family:Arial, sans-serif;font-size:32px;font-weight:normal;padding:10px 5px;border-style:solid;border-width:1px;overflow:hidden;word-break:normal;border-color:black;vertical-align:top\">Charles</th><th style=\"font-family:Arial, sans-serif;font-size:32px;font-weight:normal;padding:10px 5px;border-style:solid;border-width:1px;overflow:hidden;word-break:normal;border-color:black;vertical-align:top\">Sherman</th></tr><tr><td style=\"font-family:Arial, sans-serif;font-size:32px;padding:10px 5px;border-style:solid;border-width:1px;overflow:hidden;word-break:normal;border-color:black;font-weight:bold\">Sleep hours</td><td style=\"font-family:Arial, sans-serif;font-size:32px;padding:10px 5px;border-style:solid;border-width:1px;overflow:hidden;word-break:normal;border-color:black\">9.5</td><td style=\"font-family:Arial, sans-serif;font-size:32px;padding:10px 5px;border-style:solid;border-width:1px;overflow:hidden;word-break:normal;border-color:black\">6.9</td><td style=\"font-family:Arial, sans-serif;font-size:32px;padding:10px 5px;border-style:solid;border-width:1px;overflow:hidden;word-break:normal;border-color:black\">6.2</td><td style=\"font-family:Arial, sans-serif;font-size:32px;padding:10px 5px;border-style:solid;border-width:1px;overflow:hidden;word-break:normal;border-color:black;vertical-align:top\">8.4</td><td style=\"font-family:Arial, sans-serif;font-size:32px;padding:10px 5px;border-style:solid;border-width:1px;overflow:hidden;word-break:normal;border-color:black;vertical-align:top\">8.0</td><td style=\"font-family:Arial, sans-serif;font-size:32px;padding:10px 5px;border-style:solid;border-width:1px;overflow:hidden;word-break:normal;border-color:black;vertical-align:top\">5.5</td></tr></table>\n",
    "\n",
    "\n",
    "\n",
    "\n",
    "* We have 6 responses, so our sample size $n$, is 6. \n",
    "* We calculate the **sample mean** as \n",
    "\n",
    "$$  \\bar{x} = \\frac{9.5 + 6.9 + 6.2 + 8.4 + 8.0 + 5.5}{6} = 7.41\\bar{6} $$\n",
    "\n",
    "* The **sample variance** as \n",
    "\n",
    " $$s^2 = \\frac{(9.5-\\bar{x})^2 + (6.9-\\bar{x})^2  + (6.2-\\bar{x})^2 + (8.4-\\bar{x})^2 + (8.0-\\bar{x})^2 + (5.5-\\bar{x})^2}{6-1} = 2.213\\bar{6}$$\n",
    " \n",
    "* The **sample standard deviation** \n",
    "\n",
    "\n",
    "$$ s = \\sqrt{s^2} \\approx 1.4878 $$\n",
    "\n",
    "\n"
   ]
  },
  {
   "cell_type": "markdown",
   "metadata": {
    "slideshow": {
     "slide_type": "subslide"
    }
   },
   "source": [
    "## Characterizing a Sample Example (Using R)\n"
   ]
  },
  {
   "cell_type": "code",
   "execution_count": 8,
   "metadata": {
    "slideshow": {
     "slide_type": "fragment"
    }
   },
   "outputs": [
    {
     "data": {
      "text/html": [
       "<table>\n",
       "<thead><tr><th scope=col>Students</th><th scope=col>SleepHours</th></tr></thead>\n",
       "<tbody>\n",
       "\t<tr><td>Ben     </td><td>9.5     </td></tr>\n",
       "\t<tr><td>John    </td><td>6.9     </td></tr>\n",
       "\t<tr><td>Margaret</td><td>6.2     </td></tr>\n",
       "\t<tr><td>Walter  </td><td>8.4     </td></tr>\n",
       "\t<tr><td>Charles </td><td>8.0     </td></tr>\n",
       "\t<tr><td>Sherman </td><td>5.5     </td></tr>\n",
       "</tbody>\n",
       "</table>\n"
      ],
      "text/latex": [
       "\\begin{tabular}{r|ll}\n",
       " Students & SleepHours\\\\\n",
       "\\hline\n",
       "\t Ben      & 9.5     \\\\\n",
       "\t John     & 6.9     \\\\\n",
       "\t Margaret & 6.2     \\\\\n",
       "\t Walter   & 8.4     \\\\\n",
       "\t Charles  & 8.0     \\\\\n",
       "\t Sherman  & 5.5     \\\\\n",
       "\\end{tabular}\n"
      ],
      "text/markdown": [
       "\n",
       "Students | SleepHours | \n",
       "|---|---|---|---|---|---|\n",
       "| Ben      | 9.5      | \n",
       "| John     | 6.9      | \n",
       "| Margaret | 6.2      | \n",
       "| Walter   | 8.4      | \n",
       "| Charles  | 8.0      | \n",
       "| Sherman  | 5.5      | \n",
       "\n",
       "\n"
      ],
      "text/plain": [
       "  Students SleepHours\n",
       "1 Ben      9.5       \n",
       "2 John     6.9       \n",
       "3 Margaret 6.2       \n",
       "4 Walter   8.4       \n",
       "5 Charles  8.0       \n",
       "6 Sherman  5.5       "
      ]
     },
     "metadata": {},
     "output_type": "display_data"
    },
    {
     "data": {
      "text/html": [
       "<span style=white-space:pre-wrap>'The mean of our sample is  7.416667 hours'</span>"
      ],
      "text/latex": [
       "'The mean of our sample is  7.416667 hours'"
      ],
      "text/markdown": [
       "<span style=white-space:pre-wrap>'The mean of our sample is  7.416667 hours'</span>"
      ],
      "text/plain": [
       "[1] \"The mean of our sample is  7.416667 hours\""
      ]
     },
     "metadata": {},
     "output_type": "display_data"
    },
    {
     "data": {
      "text/html": [
       "<span style=white-space:pre-wrap>'The variance of our sample is  2.213667 hours squared'</span>"
      ],
      "text/latex": [
       "'The variance of our sample is  2.213667 hours squared'"
      ],
      "text/markdown": [
       "<span style=white-space:pre-wrap>'The variance of our sample is  2.213667 hours squared'</span>"
      ],
      "text/plain": [
       "[1] \"The variance of our sample is  2.213667 hours squared\""
      ]
     },
     "metadata": {},
     "output_type": "display_data"
    },
    {
     "data": {
      "text/html": [
       "<span style=white-space:pre-wrap>'The standard deviation of our sample is  1.487840 hours'</span>"
      ],
      "text/latex": [
       "'The standard deviation of our sample is  1.487840 hours'"
      ],
      "text/markdown": [
       "<span style=white-space:pre-wrap>'The standard deviation of our sample is  1.487840 hours'</span>"
      ],
      "text/plain": [
       "[1] \"The standard deviation of our sample is  1.487840 hours\""
      ]
     },
     "metadata": {},
     "output_type": "display_data"
    }
   ],
   "source": [
    "Students = c(\"Ben\", \"John\", \"Margaret\", \"Walter\", \"Charles\", \"Sherman\")\n",
    "SleepHours = c(9.5, 6.9, 6.2, 8.4, 8.0, 5.5)\n",
    "\n",
    "SleepSample = data.frame(Students, SleepHours) # Construct the dataframe based on our observation and labels\n",
    "SampleMean = mean(SleepSample$SleepHours) # Calculate the Sample Mean\n",
    "SampleVar = var(SleepSample$SleepHours) # Calculate the Sample Variance\n",
    "SampleSTD = sd(SleepSample$SleepHours) # Calculate the Sample Standard Deviation\n",
    "\n",
    "SleepSample #Print out the dataframe\n",
    "sprintf(\"The mean of our sample is  %f hours\", SampleMean )\n",
    "sprintf(\"The variance of our sample is  %f hours squared\", SampleVar )\n",
    "sprintf(\"The standard deviation of our sample is  %f hours\", SampleSTD )\n",
    "\n",
    "\n"
   ]
  },
  {
   "cell_type": "markdown",
   "metadata": {
    "slideshow": {
     "slide_type": "slide"
    }
   },
   "source": [
    "# Distribution of the Sample Mean\n",
    "\n",
    "Remember, when doing studies of populations, we're interested in characterizing the behaivor of the entire **population**, not just the sample. \n",
    "\n",
    "* If you're trying to ensure WSU undergraduates get enough sleep every night (more sleep = better grades) , you're interested in the mean amount of sleep **all** WSU undergraduates get; not just the 6 that responded to your survey\n",
    "* If you're trying to ensure all the Tesla Roadsters are being constructed properly, you're interested in the mean behaivor of **all** of the Tesla Roadsters, not just the number you sample for additional testing. \n",
    "\n",
    "So how does one get useful information on the behaivor of the entire population, such as the population mean $\\mu$,  when you can only directly measure a sample. \n",
    "\n",
    "**If we can understand how the *sample* mean $\\bar{x}$ and *population* mean $\\mu$ behave in relation to one another, we can make conclusions about the population mean by measuring the sample mean**"
   ]
  },
  {
   "cell_type": "markdown",
   "metadata": {
    "slideshow": {
     "slide_type": "subslide"
    }
   },
   "source": [
    "## Connecting the Sample Mean and Population Mean\n",
    "\n",
    "Consider a population and trait that can be measured entirely. Say I download a list of all the grades for STAT 212 in Washington state for the 2017-2018 academic year. I find that this population has a population mean of $\\mu = 70$ and a population standard deviation of $\\sigma = 5$ \n",
    "<img src=\"PresentationSlides/normalcurve.png\" width=\"700\">\n",
    "\n",
    "\n",
    "\n",
    "Most people are recieve grades near 70, 95% are assigned a grade between 60 and 80, 99.7% are assigned a number between 55 and 85.  \n"
   ]
  },
  {
   "cell_type": "code",
   "execution_count": 50,
   "metadata": {
    "slideshow": {
     "slide_type": "skip"
    }
   },
   "outputs": [
    {
     "data": {
      "image/png": "[encoded data removed]",
      "text/plain": [
       "Plot with title \"Grade distribution for our population\""
      ]
     },
     "metadata": {},
     "output_type": "display_data"
    }
   ],
   "source": [
    "mean=70; sd=5\n",
    "\n",
    "\n",
    "x = seq(50,100,length=100)\n",
    "PopulationPDF = dnorm(x,mean,sd)\n",
    "p = plot(x, 100000*PopulationPDF, type='h', xlab=\"Assigned Number\", ylab=\"Frequency\",main=\"Grade distribution for our population\", axes=TRUE)"
   ]
  },
  {
   "cell_type": "markdown",
   "metadata": {
    "slideshow": {
     "slide_type": "subslide"
    }
   },
   "source": [
    "## Connecting the Sample Mean and Population Mean (continued) \n",
    "\n",
    "We can take samples of a given size from this population, and examine the mean of this sample. Let's take our sample size $n=10$. \n",
    "\n",
    "We can generate a sample from this population using R \n",
    "\n",
    "\n",
    "\n"
   ]
  },
  {
   "cell_type": "code",
   "execution_count": 33,
   "metadata": {
    "slideshow": {
     "slide_type": "fragment"
    }
   },
   "outputs": [
    {
     "data": {
      "text/html": [
       "'Or sample values are '"
      ],
      "text/latex": [
       "'Or sample values are '"
      ],
      "text/markdown": [
       "'Or sample values are '"
      ],
      "text/plain": [
       "[1] \"Or sample values are \""
      ]
     },
     "metadata": {},
     "output_type": "display_data"
    },
    {
     "data": {
      "text/html": [
       "<ol class=list-inline>\n",
       "\t<li>70.6667725411464</li>\n",
       "\t<li>76.8761079321143</li>\n",
       "\t<li>73.7435752285604</li>\n",
       "\t<li>63.5307474463128</li>\n",
       "\t<li>67.2061460213185</li>\n",
       "\t<li>61.3377537120456</li>\n",
       "\t<li>63.8569807999334</li>\n",
       "\t<li>70.3123138983524</li>\n",
       "\t<li>68.2143579596751</li>\n",
       "\t<li>68.6086140548661</li>\n",
       "</ol>\n"
      ],
      "text/latex": [
       "\\begin{enumerate*}\n",
       "\\item 70.6667725411464\n",
       "\\item 76.8761079321143\n",
       "\\item 73.7435752285604\n",
       "\\item 63.5307474463128\n",
       "\\item 67.2061460213185\n",
       "\\item 61.3377537120456\n",
       "\\item 63.8569807999334\n",
       "\\item 70.3123138983524\n",
       "\\item 68.2143579596751\n",
       "\\item 68.6086140548661\n",
       "\\end{enumerate*}\n"
      ],
      "text/markdown": [
       "1. 70.6667725411464\n",
       "2. 76.8761079321143\n",
       "3. 73.7435752285604\n",
       "4. 63.5307474463128\n",
       "5. 67.2061460213185\n",
       "6. 61.3377537120456\n",
       "7. 63.8569807999334\n",
       "8. 70.3123138983524\n",
       "9. 68.2143579596751\n",
       "10. 68.6086140548661\n",
       "\n",
       "\n"
      ],
      "text/plain": [
       " [1] 70.66677 76.87611 73.74358 63.53075 67.20615 61.33775 63.85698 70.31231\n",
       " [9] 68.21436 68.60861"
      ]
     },
     "metadata": {},
     "output_type": "display_data"
    },
    {
     "data": {
      "text/html": [
       "<span style=white-space:pre-wrap>'The mean of our sample is  68.435337'</span>"
      ],
      "text/latex": [
       "'The mean of our sample is  68.435337'"
      ],
      "text/markdown": [
       "<span style=white-space:pre-wrap>'The mean of our sample is  68.435337'</span>"
      ],
      "text/plain": [
       "[1] \"The mean of our sample is  68.435337\""
      ]
     },
     "metadata": {},
     "output_type": "display_data"
    }
   ],
   "source": [
    "SampleSize = 10\n",
    "PopulationSD = 5\n",
    "PopulationMean = 70\n",
    "set.seed(113)\n",
    "Sample = rnorm(SampleSize, PopulationMean, PopulationSD);\n",
    "sprintf(\"Or sample values are \")\n",
    "Sample\n",
    "sprintf(\"The mean of our sample is  %f\", mean(Sample) )\n"
   ]
  },
  {
   "cell_type": "markdown",
   "metadata": {
    "slideshow": {
     "slide_type": "subslide"
    }
   },
   "source": [
    "## Connecting the Sample Mean and Population Mean (continued)\n",
    "\n",
    "One sample of size $n=10$ doesn't give us much insight. But What if we took 10000 samples of size $n=10$, and looked at it's distribution. \n"
   ]
  },
  {
   "cell_type": "code",
   "execution_count": 38,
   "metadata": {
    "slideshow": {
     "slide_type": "fragment"
    }
   },
   "outputs": [
    {
     "data": {
      "image/png": "[encoded data removed]",
      "text/plain": [
       "Plot with title \"Histogram of SampleMeans\""
      ]
     },
     "metadata": {},
     "output_type": "display_data"
    }
   ],
   "source": [
    "library(repr)\n",
    "options(repr.plot.width=5, repr.plot.height=5)\n",
    "\n",
    "SampleCollection = replicate(10000, rnorm(SampleSize, PopulationMean, PopulationSD)) \n",
    "SampleMeans = colMeans(SampleCollection)\n",
    "hist(SampleMeans, breaks=40)\n"
   ]
  },
  {
   "cell_type": "markdown",
   "metadata": {
    "slideshow": {
     "slide_type": "subslide"
    }
   },
   "source": [
    "## Connecting the Sample Mean and Population Mean (continued)\n",
    "\n",
    "\n",
    "What Shape Is the Distribution of Sample Means?\n",
    "\n",
    "Where is it centered? \n",
    "\n",
    "\n",
    "\n"
   ]
  },
  {
   "cell_type": "code",
   "execution_count": 5,
   "metadata": {
    "slideshow": {
     "slide_type": "fragment"
    }
   },
   "outputs": [
    {
     "data": {
      "text/html": [
       "70.0085598503419"
      ],
      "text/latex": [
       "70.0085598503419"
      ],
      "text/markdown": [
       "70.0085598503419"
      ],
      "text/plain": [
       "[1] 70.00856"
      ]
     },
     "metadata": {},
     "output_type": "display_data"
    }
   ],
   "source": [
    "mean(SampleMeans)\n"
   ]
  },
  {
   "cell_type": "markdown",
   "metadata": {
    "slideshow": {
     "slide_type": "fragment"
    }
   },
   "source": [
    "What is it's standard deviation?"
   ]
  },
  {
   "cell_type": "code",
   "execution_count": 7,
   "metadata": {
    "slideshow": {
     "slide_type": "fragment"
    }
   },
   "outputs": [
    {
     "data": {
      "text/html": [
       "1.56130938433351"
      ],
      "text/latex": [
       "1.56130938433351"
      ],
      "text/markdown": [
       "1.56130938433351"
      ],
      "text/plain": [
       "[1] 1.561309"
      ]
     },
     "metadata": {},
     "output_type": "display_data"
    }
   ],
   "source": [
    "sd(SampleMeans)\n",
    "\n"
   ]
  },
  {
   "cell_type": "markdown",
   "metadata": {
    "slideshow": {
     "slide_type": "subslide"
    }
   },
   "source": [
    "## Distribution of the Sample Mean\n",
    "\n",
    "The sample means for our population have a normal distribution, with the mean of the sample means at our population mean  $\\mu = 70$, and with a standard deviation $\\sigma / \\sqrt{n}$ \n",
    "\n",
    " The quantity  $\\sigma / \\sqrt{n}$ is known as the **standard error of the mean (SEM)**  and is written as $\\sigma_{\\bar{x}}$\n",
    " \n",
    "** <u>Knowing the distribution of the sample means gives us the power to estimate the probability of measuring any single sample mean assuming some population mean </u>**\n",
    "\n",
    "This allows us to perform hypothesis tests and make conclusions about our population mean $\\mu$"
   ]
  },
  {
   "cell_type": "markdown",
   "metadata": {
    "slideshow": {
     "slide_type": "subslide"
    }
   },
   "source": [
    "## Probability of Observed Sample Mean Example \n",
    "\n",
    "Let's return to results form our sleep survey. Our sample is \n",
    "\n",
    "<table style=\"border-collapse:collapse;border-spacing:0\"><tr><th style=\"font-family:Arial, sans-serif;font-size:16px;font-weight:bold;padding:10px 5px;border-style:solid;border-width:1px;overflow:hidden;word-break:normal;border-color:black\">Student</th><th style=\"font-family:Arial, sans-serif;font-size:32px;font-weight:normal;padding:10px 5px;border-style:solid;border-width:1px;overflow:hidden;word-break:normal;border-color:black\">Ben</th><th style=\"font-family:Arial, sans-serif;font-size:32px;font-weight:normal;padding:10px 5px;border-style:solid;border-width:1px;overflow:hidden;word-break:normal;border-color:black\">John</th><th style=\"font-family:Arial, sans-serif;font-size:32px;font-weight:normal;padding:10px 5px;border-style:solid;border-width:1px;overflow:hidden;word-break:normal;border-color:black\">Margaret</th><th style=\"font-family:Arial, sans-serif;font-size:32px;font-weight:normal;padding:10px 5px;border-style:solid;border-width:1px;overflow:hidden;word-break:normal;border-color:black;vertical-align:top\">Walter</th><th style=\"font-family:Arial, sans-serif;font-size:32px;font-weight:normal;padding:10px 5px;border-style:solid;border-width:1px;overflow:hidden;word-break:normal;border-color:black;vertical-align:top\">Charles</th><th style=\"font-family:Arial, sans-serif;font-size:32px;font-weight:normal;padding:10px 5px;border-style:solid;border-width:1px;overflow:hidden;word-break:normal;border-color:black;vertical-align:top\">Sherman</th></tr><tr><td style=\"font-family:Arial, sans-serif;font-size:32px;padding:10px 5px;border-style:solid;border-width:1px;overflow:hidden;word-break:normal;border-color:black;font-weight:bold\">Sleep hours</td><td style=\"font-family:Arial, sans-serif;font-size:32px;padding:10px 5px;border-style:solid;border-width:1px;overflow:hidden;word-break:normal;border-color:black\">9.5</td><td style=\"font-family:Arial, sans-serif;font-size:32px;padding:10px 5px;border-style:solid;border-width:1px;overflow:hidden;word-break:normal;border-color:black\">6.9</td><td style=\"font-family:Arial, sans-serif;font-size:32px;padding:10px 5px;border-style:solid;border-width:1px;overflow:hidden;word-break:normal;border-color:black\">6.2</td><td style=\"font-family:Arial, sans-serif;font-size:32px;padding:10px 5px;border-style:solid;border-width:1px;overflow:hidden;word-break:normal;border-color:black;vertical-align:top\">8.4</td><td style=\"font-family:Arial, sans-serif;font-size:32px;padding:10px 5px;border-style:solid;border-width:1px;overflow:hidden;word-break:normal;border-color:black;vertical-align:top\">8.0</td><td style=\"font-family:Arial, sans-serif;font-size:32px;padding:10px 5px;border-style:solid;border-width:1px;overflow:hidden;word-break:normal;border-color:black;vertical-align:top\">5.5</td></tr></table>\n",
    "\n",
    "The sample mean is $\\bar{x} = 7.41\\bar{6}$ \n",
    "\n",
    "We've done previous research that indicates that the standard deviation of our population is 2.5 hours of sleep, so $\\sigma = 2.5$\n",
    "\n",
    "The administration proposes that the average amount of sleep the WSU undergraduate population gets each night is 10.5 hours. Our task is to decide if our data is consistent with this proposed population mean. \n"
   ]
  },
  {
   "cell_type": "markdown",
   "metadata": {
    "slideshow": {
     "slide_type": "subslide"
    }
   },
   "source": [
    "## Characteristics of the Sample Distribution\n",
    "\n",
    "The first thing we can ask ourselves is: What is the distribution of the sample means for our samplse size of $n=6$ **assuming** that the administration is correct and that $\\mu = 10.5$ hours. \n",
    "\n",
    "\n",
    "\n",
    "We know the answer to this: It follows a normal distribution with mean $\\mu=10$ and standard deviation equal to the standard error of the mean \n",
    "\n",
    "$$\\text{SEM} =  \\frac{\\sigma}{ \\sqrt{n}} = \\frac{2.5}{\\sqrt{6}} \\approx 1.02$$\n",
    "\n",
    "From this, we can construct the probability density function. \n",
    "\n",
    "\n"
   ]
  },
  {
   "cell_type": "markdown",
   "metadata": {
    "slideshow": {
     "slide_type": "subslide"
    }
   },
   "source": [
    "## Sample Mean Distribution \n",
    "<center><img src=\"PresentationSlides/sleepSMPDF.png\" width=\"700\"></center>\n",
    "\n",
    "This is the probability density function of our sample mean assuming $\\mu = 10.5$. Where on this PDF does our *actual* sample mean lie?"
   ]
  },
  {
   "cell_type": "markdown",
   "metadata": {
    "slideshow": {
     "slide_type": "subslide"
    }
   },
   "source": [
    "## Sample Mean Distribution and Observed Sample Mean\n",
    "\n",
    "The red circle corresponds to the sample mean that we computed\n",
    "\n",
    "<center><img src=\"PresentationSlides/sleepSMPDFpoint.png\" width=\"700\"></center>\n",
    "\n"
   ]
  },
  {
   "cell_type": "markdown",
   "metadata": {
    "slideshow": {
     "slide_type": "subslide"
    }
   },
   "source": [
    "## Interpreting this Result \n",
    "\n",
    "\n",
    "Because the sample mean is located it the tail of the distribution, it's relatively unlikely that a population with mean 10.5 hours would yield a sample mean $7.41\\bar{6}$ if the sample size were 6. \n",
    "\n",
    "Because our sample mean distribution is continuous, we can't compute how likely observing **a sample mean of $7.41\\bar{6}$ exactly** is, but we can find how likely obseving **a sample mean that is less than or equal to $7.41\\bar{6}$**.\n",
    "\n",
    "Remember, when we want to compute the probability of a range of values given a probablity distribution function, we find the area under that curve for that range of values. "
   ]
  },
  {
   "cell_type": "markdown",
   "metadata": {
    "slideshow": {
     "slide_type": "subslide"
    }
   },
   "source": [
    "## Area under PDF from negative infinity to 10 \n",
    "\n",
    "The area under this curve is $\\approx 0.312$, meaning the probability of a the sample mean lying in this range is $\\approx 0.312$\n",
    "\n",
    "<center><img src=\"PresentationSlides/area10.png\" width=\"700\"></center>\n"
   ]
  },
  {
   "cell_type": "markdown",
   "metadata": {
    "slideshow": {
     "slide_type": "subslide"
    }
   },
   "source": [
    "## Area under PDF from 9 to 12\n",
    "\n",
    "The area under this curve is $\\approx 0.858$, meaning the probability of a the sample mean lying in this range is $\\approx 0.858$\n",
    "\n",
    "<center><img src=\"PresentationSlides/area912.png\" width=\"700\"></center>"
   ]
  },
  {
   "cell_type": "markdown",
   "metadata": {
    "slideshow": {
     "slide_type": "skip"
    }
   },
   "source": [
    "## Area under PDF from negative infinity to positive infinity\n",
    "\n",
    "The area under this curve is 1, meaning the probability of observing a sample mean in the range is \\p = 1$. This makes sense, as your observed sample mean must be somewhere \n",
    "\n",
    "<center><img src=\"PresentationSlides/areaInf.png\" width=\"700\"></center>\n"
   ]
  },
  {
   "cell_type": "markdown",
   "metadata": {
    "slideshow": {
     "slide_type": "subslide"
    }
   },
   "source": [
    "## Area under PDF from negative infinity to our Sample Mean \n",
    "\n",
    "The area under this curve is almost imperceptible! Meaning the probability associated with observing a sample mean as small or smaller than the one we did, $\\bar{x}\\approx 7.416$ is very unlikely if the population mean is truly $\\mu = 10.5$. \n",
    "\n",
    "<center><img src=\"PresentationSlides/areaSampleMean.png\" width=\"700\"></center>\n"
   ]
  },
  {
   "cell_type": "markdown",
   "metadata": {
    "slideshow": {
     "slide_type": "subslide"
    }
   },
   "source": [
    "##  Conclusion:\n",
    "\n",
    "## The university administration is almost certaily wrong\n",
    "\n",
    "If the population mean were in fact $\\mu = 10.5$, then we'd expect to get a sample mean as low or lower than we did about 1 time out of every thousand! "
   ]
  },
  {
   "cell_type": "markdown",
   "metadata": {
    "slideshow": {
     "slide_type": "subslide"
    }
   },
   "source": [
    "## Questions \n",
    "\n",
    "### What if our observed sample mean was the same,  but sample size were smaller? Or larger? \n",
    "The $\\text{SEM}$ is computed as\n",
    "\n",
    "$$\\text{SEM} =  \\frac{\\sigma}{ \\sqrt{n}}$$\n",
    "\n",
    "This gives stadard deviation of the sample mean distribution. If our sample size $n$ decreases, our distribution's standard deviation gets bigger and the distribution gets wider. \n",
    "\n",
    "This means there is more area under the curve further away from the mean, making larger variations away from our supposed $\\mu$ more likely. \n",
    "\n",
    "\n",
    "On the other hand, if $n$ increases, our distributions standard deviation gets smaller, meaning large variation from our supposed $\\mu$ less likely. \n"
   ]
  },
  {
   "cell_type": "markdown",
   "metadata": {
    "slideshow": {
     "slide_type": "subslide"
    }
   },
   "source": [
    "## R Example\n"
   ]
  },
  {
   "cell_type": "code",
   "execution_count": 62,
   "metadata": {
    "slideshow": {
     "slide_type": "fragment"
    }
   },
   "outputs": [
    {
     "data": {
      "image/png": "[encoded data removed]",
      "text/plain": [
       "Plot with title \"Probability Densitiy function of the sample mean\""
      ]
     },
     "metadata": {},
     "output_type": "display_data"
    }
   ],
   "source": [
    "mean=10.5; PopulationSD = 2.5; n = 2# Supposed population mean, population std deviation and sample size \n",
    "SEM = PopulationSD / sqrt(n)  # Standard error of mean\n",
    "options(repr.plot.width=5, repr.plot.height=5)\n",
    "\n",
    "\n",
    "x = seq(5,15,length=100) # Possible sample means, from 5 to 15\n",
    "PopulationPDF = dnorm(x,mean,SEM) # PDF of the Sample Mean with the above parameters\n",
    "plot(x, PopulationPDF, type='l', xlab=\"Sample Mean\", ylab=\"Probability\",main=\"Probability Densitiy function of the sample mean\", axes=TRUE)\n"
   ]
  },
  {
   "cell_type": "code",
   "execution_count": null,
   "metadata": {
    "slideshow": {
     "slide_type": "subslide"
    }
   },
   "outputs": [],
   "source": [
    "#points(7.461,0, col=\"red\",pch=19 )\n",
    "#polygon(c(x[x<=7.416],7.416), c(PopulationPDF[x<=7.416],0),col=\"red\")\n",
    "\n",
    "#pnorm(7.41666666,mean,SEM,lower.tail = TRUE) "
   ]
  }
 ],
 "metadata": {
  "celltoolbar": "Slideshow",
  "kernelspec": {
   "display_name": "R",
   "language": "R",
   "name": "ir"
  },
  "language_info": {
   "codemirror_mode": "r",
   "file_extension": ".r",
   "mimetype": "text/x-r-source",
   "name": "R",
   "pygments_lexer": "r",
   "version": "3.5.0"
  },
  "livereveal": {
   "theme": "league"
  },
  "rise": {
   "footer": "<h2>Statistics of the Samlpe Mean!</h2>",
   "height": "90%",
   "width": "90%"
  }
 },
 "nbformat": 4,
 "nbformat_minor": 2
}
