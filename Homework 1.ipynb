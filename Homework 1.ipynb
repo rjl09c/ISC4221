{
 "cells": [
  {
   "cell_type": "markdown",
   "metadata": {},
   "source": [
    "#  Homework 1\n",
    "\n",
    "Suppose you are given a \"loaded\" die whose six sides have the faces \n",
    "\n",
    "[1,2,3,4,5,6]\n",
    "\n",
    "With the respective associated probabilites \n",
    "\n",
    "[$\\frac{7}{113}, \\frac{13}{113}, \\frac{9}{113}, \\frac{19}{113}, \\frac{14}{113}, \\frac{51}{113}$]\n",
    "\n",
    "### Task 1. \n",
    "\n",
    "In the cell below, generate (seperate) plots of the discrete CDF and PDF of this die. \n",
    "\n"
   ]
  },
  {
   "cell_type": "code",
   "execution_count": null,
   "metadata": {
    "collapsed": true
   },
   "outputs": [],
   "source": []
  },
  {
   "cell_type": "markdown",
   "metadata": {},
   "source": [
    "### Task 2\n",
    "Calculate the mean, variance and standard deviation, either in code or by hand. If done by hand, work out each step explicitly.  Do not use calls to functions such as np.mean or the like. "
   ]
  },
  {
   "cell_type": "code",
   "execution_count": null,
   "metadata": {
    "collapsed": true
   },
   "outputs": [],
   "source": []
  },
  {
   "cell_type": "markdown",
   "metadata": {},
   "source": [
    "### Task 3 \n",
    "In the cell below, Write a program to that simulates the above die model. The program should utilize a named function that takes as arguments the number of die rolls you want to simulate as well as the discrete CDF. The function should the plot the observed CDF and estimated PDF (once again, seperately) and return the observed average, mean, and standard deviation. Execute you function for N=1000 die rolls. "
   ]
  },
  {
   "cell_type": "code",
   "execution_count": null,
   "metadata": {
    "collapsed": true
   },
   "outputs": [],
   "source": []
  }
 ],
 "metadata": {
  "kernelspec": {
   "display_name": "Python 2",
   "language": "python",
   "name": "python2"
  },
  "language_info": {
   "codemirror_mode": {
    "name": "ipython",
    "version": 2
   },
   "file_extension": ".py",
   "mimetype": "text/x-python",
   "name": "python",
   "nbconvert_exporter": "python",
   "pygments_lexer": "ipython2",
   "version": "2.7.11"
  }
 },
 "nbformat": 4,
 "nbformat_minor": 0
}
