{
 "cells": [
  {
   "cell_type": "markdown",
   "metadata": {
    "slideshow": {
     "slide_type": "slide"
    }
   },
   "source": [
    "# Data Mining\n",
    "\n",
    "Originally a statistical term of art for overusing data to draw invalid inferences\n",
    "\n",
    "*\"Bonferroni's theorem tells us that if there are many possible conclusions to draw, some of them will be true statistical reasons with no physical validity\"*"
   ]
  },
  {
   "cell_type": "markdown",
   "metadata": {
    "slideshow": {
     "slide_type": "subslide"
    }
   },
   "source": [
    "## Data mining, the original meaning\n",
    "<img src=\"https://imgs.xkcd.com/comics/significant.png\" width=\"250\" height=\"250\" />\n"
   ]
  },
  {
   "cell_type": "markdown",
   "metadata": {
    "slideshow": {
     "slide_type": "subslide"
    }
   },
   "source": [
    "## Thoughts on the need for data-mining\n",
    "\n",
    "*\"Drowning in Data yet Starving for Knowledge\"* - unknown \n",
    "\n",
    "*\"Computers have promised us a fountain of wisdom but delivered a flood of data\"* - William J. Frawley, Gregory Piatetsky-Shapiro, and Christopher J. Matheus\n",
    "\n",
    "*\"Where is the wisdom we have lost in knowledge? Where is the knowledge we\n",
    "have lost in information?\"* - T.S Eliot\n",
    "<img src=\"http://www.ncbi.nlm.nih.gov/core/assets/genbank/images/genbankgrowth.jpg\" width=\"250\" height=\"250\" />\n"
   ]
  },
  {
   "cell_type": "markdown",
   "metadata": {
    "slideshow": {
     "slide_type": "subslide"
    }
   },
   "source": [
    "## What Data Mining isn't: \n",
    "\n",
    "<s> *Data Mining, noun: “Torturing data until it confesses ... and if you torture it\n",
    "enough, it will confess to anything”* </s>\n",
    "\n",
    "<s> *\"An Unethical Econometric practice of massaging and manipulating the data to\n",
    "obtain the desired results*\" </s>\n",
    "\n",
    "Times change and words change with the times. (*Tempora mutantur, nos et mutamur in illis*, more or less)\n"
   ]
  },
  {
   "cell_type": "markdown",
   "metadata": {
    "slideshow": {
     "slide_type": "subslide"
    }
   },
   "source": [
    "## Current Day Examples of Data Mining\n",
    "\n",
    "* Traveler patterns studied/analysed to manage the sale of discounted seats/hotel rooms rooms. \n",
    "\n",
    "* The connection between diapers and beer. From the user of data mining it was observed that customers who buy diapers are more likely to by beer than average. Supermarkets then placed beer and diapers nearby, knowing many customers would walk between them. Placing potato chips between diapers and beer increased sales of all three items.\n",
    "\n",
    "* Skycat and Sloan Digital Sky Survey - clustering sky objects by their radiation levels in different bands allowed astromomers to distinguish between galaxies, nearby stars,and many other kinds of celestial objects.\n",
    "\n",
    "* Comparison of the genotype of people with/without a condition allowed the discovery of a set of genes that together account for many cases of diabetes. This sort of mining will become much more important as the human genome is constructed."
   ]
  },
  {
   "cell_type": "markdown",
   "metadata": {
    "slideshow": {
     "slide_type": "subslide"
    }
   },
   "source": [
    "## Big data tolls for thee\n",
    "\n",
    "<img src=\"http://i.imgur.com/gGs5f1d.png\" width=\"300\" height=\"400\" />\n"
   ]
  },
  {
   "cell_type": "markdown",
   "metadata": {
    "slideshow": {
     "slide_type": "subslide"
    }
   },
   "source": [
    "## The Component Fields of data mining\n",
    "\n",
    "* Statistics\n",
    "* Mathematics\n",
    "* Artifical Intelligence (*machine learning*)\n",
    "* Visualization\n",
    "* Information/Database sciences\n"
   ]
  },
  {
   "cell_type": "markdown",
   "metadata": {
    "slideshow": {
     "slide_type": "subslide"
    }
   },
   "source": [
    "## Stages of data mining\n",
    "* <s>Denial</s> Data gathering (data warehousing, web crawling, semi-legal metadata collection)\n",
    "* Data cleansing (elimating errors, corrupted data, unphysical outliers)\n",
    "* Feature extraction (obtaining only the interesting attributes of the data; i.e. timestamp for data that has no reason to be time-dependent)\n",
    "* Pattern extraction/discovery (the classical \"data-mining\" step)\n",
    "* Visualization\n",
    "* Evaluation of the results (not every discovered fact is useful or true.)\n",
    "  * Use you judgement\n",
    "  \n",
    "<img src=\"http://sparrowism.soc.srcf.net/home/piratesarecool4.gif\" width=\"400\" height=\"300\" />\n",
    "  "
   ]
  },
  {
   "cell_type": "markdown",
   "metadata": {
    "slideshow": {
     "slide_type": "slide"
    }
   },
   "source": [
    "# Clustering\n",
    "* Clustering strives to indetify groups/clusters of objects that behave similarly/or have similar characteristics. \n",
    "\n",
    "*Similarity is ofter quantified via some sort of distance function. \n",
    "\n",
    "* Has different names in different contexts \n",
    "  * Segmentation method (market studies)\n",
    "  * Unsupervised learning (neural network studies)\n",
    "\n",
    "* Cluster is a technique which attempts to find order in apparently unordered data. \n",
    "  * Data may be discrete or continuous. \n",
    "  \n",
    "We'll look at three types of clustering\n",
    " * Hierarchical clustering\n",
    " * K-means clustering\n",
    " * geometric clustering\n",
    "  "
   ]
  },
  {
   "cell_type": "markdown",
   "metadata": {
    "collapsed": true,
    "slideshow": {
     "slide_type": "subslide"
    }
   },
   "source": [
    "## Hierarchical Clustering\n",
    "\n",
    "Clustering data points based on a tree-like hierarchical relationships \n",
    "\n",
    "In **agglomerative hierarchical clustering**, the data is grouped in a bottom up fashion; every data point starts out as a cluster of 1, then you begin grouping similar objects. \n",
    "\n",
    "The opposite approach is **divisive hierarchical clustering**; everything start outs in the same cluster, then you begin breaking off clusters based on differences. \n",
    "\n",
    "**The most important concept for clustering is how you quantify \"similarness\" of two different data points. Often times this will be a \"distance\" in some space.**\n",
    "\n",
    "Different clustering methods define this distance in different ways. "
   ]
  },
  {
   "cell_type": "markdown",
   "metadata": {
    "slideshow": {
     "slide_type": "subslide"
    }
   },
   "source": [
    "## Measures of Distance\n",
    "\n",
    "Natural concept for data points in physical space (x,y,z); use Euclidean distance formula. \n",
    "\n",
    "There are other ways of doing it as well (infinity norm / max norm) \n",
    "\n",
    "In stating the distance between two objects, you need to define your distance. \n",
    "\n",
    "Often, our objects are not in Euclidean space (colors in an image, amino acid codons, etc...), yet we still need to quantify the distance between them. \n"
   ]
  },
  {
   "cell_type": "markdown",
   "metadata": {
    "slideshow": {
     "slide_type": "subslide"
    }
   },
   "source": [
    "## Measures of Distance\n",
    "\n",
    "Let $A,\\ B$ and $C$ be clusters (which may consist of a single or multiple objects). WE denote the distance between $A$ and $B$ as $d(A,B)$ where $d(\\cdot,\\cdot)$ satisfies the following general properties by definiton. \n",
    "\n",
    "1. $d(A,A) = 0$\n",
    "2. $d(A,B) = d(B,A)$\n",
    "3. $d(A,B) \\ge 0$\n",
    "4. $d(A,B) + d(B,C) \\le d(A,C)$ \n",
    "\n",
    "If you decide on the Euclidean norm (or any vector norm), measuring the distance between two single objects is relatively simple; but how do define the distance between two groups of objects\n",
    "\n",
    "* Nearest neigbhor, furthest, average, centroid"
   ]
  },
  {
   "cell_type": "markdown",
   "metadata": {
    "slideshow": {
     "slide_type": "subslide"
    }
   },
   "source": [
    "### Measures of distance example:\n",
    "\n",
    "Imagine we have two words we want to quantify the distance between; You can define a path from the first word to the second word by changing one letter at a time to make another word (a legal word (scrabble legal)). \n",
    "\n",
    "Lets look at an example of the distance between GOLF and WORD\n",
    "\n",
    "GOLF $\\rightarrow$ GOLD $\\rightarrow$ COLD $\\rightarrow$ CORD $\\rightarrow$ WORD\n",
    "\n",
    "The distance in this metric is 4, for GOLF and WOLF it would be 1. \n",
    "\n",
    "This metric satisfies all of our neccesary properties of a distance. \n"
   ]
  },
  {
   "cell_type": "markdown",
   "metadata": {
    "slideshow": {
     "slide_type": "slide"
    }
   },
   "source": [
    "# Agglomerative Hierachical Clustering\n",
    "\n",
    "Bottoms up grouping of objects. \n",
    "\n",
    "Starting with N objects we want to cluster, we let each object initially be it's own cluster. This gives us N clusters. \n",
    "\n",
    "Our first step is to pick the two closest (however we define it) clusters (objects in this first step) and form a cluster with them. We now have N-1 clusters and now record that in the first step,  clusters i and j were merged. \n",
    "\n",
    "Our second step, we again merge the two closest clusters. This may involve merging our two object cluster with a third, or merging two individial objects for a new cluster. \n",
    "\n",
    "We continue until we have a single cluster, or a user specified number of clusters. \n",
    "\n",
    "How do we define distance between one object, and a cluster of multiple objectss?"
   ]
  },
  {
   "cell_type": "markdown",
   "metadata": {
    "slideshow": {
     "slide_type": "subslide"
    }
   },
   "source": [
    "## Single Linkage Hierarchial Clustering\n",
    "\n",
    "This clustering technique makes a specific choice for determining closeness between clusters; the distance between two clusters is the distance between the closest elements in the two clusters. \n",
    "\n",
    "<img src=\"http://i.imgur.com/AqylMZc.png\" width=\"300\" height=\"400\" />\n"
   ]
  },
  {
   "cell_type": "markdown",
   "metadata": {
    "slideshow": {
     "slide_type": "subslide"
    }
   },
   "source": [
    "## SLHC\n",
    "If $A$ consists of #n# objects $\\alpha_i$ and $B$ consists of $m$ objects $\\beta_j$, then the distance between $A$ and $B$ would be given as \n",
    "\n",
    "$$ d(A,B) = \\min(d(\\alpha_i,\\beta_j)) \\text{ for } i=1,n, j =1,m$$\n",
    "\n",
    "The distance between all possible object pairs is computed, and the the minimum value of these is said to be the distance between clusters A and B. "
   ]
  },
  {
   "cell_type": "markdown",
   "metadata": {
    "slideshow": {
     "slide_type": "subslide"
    }
   },
   "source": [
    "### Clustering in Python \n",
    "Lets initalize some stuff first. "
   ]
  },
  {
   "cell_type": "code",
   "execution_count": 1,
   "metadata": {
    "collapsed": false,
    "slideshow": {
     "slide_type": "fragment"
    }
   },
   "outputs": [
    {
     "data": {
      "image/png": "[encoded data removed]",
      "text/plain": [
       "<matplotlib.figure.Figure at 0x7bc3e80>"
      ]
     },
     "metadata": {},
     "output_type": "display_data"
    }
   ],
   "source": [
    "# needed imports\n",
    "from matplotlib import pyplot as plt\n",
    "from scipy.cluster.hierarchy import dendrogram, linkage\n",
    "import numpy as np\n",
    "%matplotlib inline\n",
    "np.set_printoptions(precision=5, suppress=True) \n",
    "a = [[3,0], [0,1], [1,1], [6,1], [2,2], [4,2], [7,3], [6,5], [4,7], [7,7], [0,8], [2,8]]\n",
    "\n",
    "a = np.asarray(a)\n",
    "plt.scatter(a[:,0], a[:,1])\n",
    "plt.show()\n"
   ]
  },
  {
   "cell_type": "markdown",
   "metadata": {
    "slideshow": {
     "slide_type": "subslide"
    }
   },
   "source": [
    "### Clustering in Python\n",
    "Now lets do some clustering"
   ]
  },
  {
   "cell_type": "code",
   "execution_count": 2,
   "metadata": {
    "collapsed": false,
    "slideshow": {
     "slide_type": "fragment"
    }
   },
   "outputs": [
    {
     "data": {
      "image/png": "[encoded data removed]",
      "text/plain": [
       "<matplotlib.figure.Figure at 0x3f7beb8>"
      ]
     },
     "metadata": {},
     "output_type": "display_data"
    }
   ],
   "source": [
    "Z = linkage(a, 'single', 'euclidean')\n",
    "plt.title('Hierarchical Clustering Dendrogram')\n",
    "plt.xlabel('sample index')\n",
    "plt.ylabel('distance')\n",
    "t = dendrogram(\n",
    "    Z,\n",
    "    leaf_rotation=90.,  # rotates the x axis labels\n",
    "    leaf_font_size=8.,  # font size for the x axis labels\n",
    ")\n"
   ]
  },
  {
   "cell_type": "markdown",
   "metadata": {
    "slideshow": {
     "slide_type": "subslide"
    }
   },
   "source": [
    "### Clustering in Python"
   ]
  },
  {
   "cell_type": "markdown",
   "metadata": {
    "slideshow": {
     "slide_type": "fragment"
    }
   },
   "source": [
    "<img src=\"http://i.imgur.com/pY1IX6Z.png\" width=\"500\" height=\"500\" />\n",
    "\n",
    "Single linkage clustering tends to cluster items due to one outlier in a cluster grabing vaguely close points. We can avoid this with complete linkage clustering. \n"
   ]
  },
  {
   "cell_type": "markdown",
   "metadata": {
    "slideshow": {
     "slide_type": "subslide"
    }
   },
   "source": [
    "## Completed Linkage Hierarchical Clustering \n",
    "\n",
    "The opposite of SLHC. \n",
    "Looks at the maximum distance between objects in two clusters. \n",
    "$$ d(A,B) = \\max(d(\\alpha_i,\\beta_j)) \\text{ for } i=1,n, j =1,m$$\n",
    "\n",
    "At each step, the two clusters with the minimalist maximum distance are clustered. \n",
    "\n",
    "<img src=\"http://i.imgur.com/aRDJwAC.png\" width=\"400\" height=\"400\" />\n"
   ]
  },
  {
   "cell_type": "markdown",
   "metadata": {
    "slideshow": {
     "slide_type": "subslide"
    }
   },
   "source": [
    "### CLHC in Python"
   ]
  },
  {
   "cell_type": "code",
   "execution_count": 3,
   "metadata": {
    "collapsed": false,
    "slideshow": {
     "slide_type": "fragment"
    }
   },
   "outputs": [
    {
     "data": {
      "image/png": "[encoded data removed]",
      "text/plain": [
       "<matplotlib.figure.Figure at 0x8617748>"
      ]
     },
     "metadata": {},
     "output_type": "display_data"
    }
   ],
   "source": [
    "### CLHC in Python\n",
    "Z = linkage(a, 'complete', 'euclidean')\n",
    "plt.title('Hierarchical Clustering Dendrogram')\n",
    "plt.xlabel('sample index')\n",
    "plt.ylabel('distance')\n",
    "t = dendrogram(\n",
    "    Z,\n",
    "    leaf_rotation=90.,  # rotates the x axis labels\n",
    "    leaf_font_size=8.,  # font size for the x axis labels\n",
    ")"
   ]
  },
  {
   "cell_type": "markdown",
   "metadata": {
    "slideshow": {
     "slide_type": "subslide"
    }
   },
   "source": [
    "## Other Hierachical clusterings \n",
    "\n",
    "* Average linkage hierarchical clustering\n",
    "  * $d(A,B) = \\frac{1}{mn} \\sum_{i=1}^n\\sum_{j=1}^m d(\\alpha_i, \\beta_j)$\n",
    "  \n",
    "* Centroid linkage hierarchical clusterings\n",
    "  * $d(A,B) = ||\\bar\\alpha-\\bar\\beta||_2$\n",
    "  \n",
    "  $$\\bar\\alpha= \\frac{1}{n}\\sum_{i=1}^n \\alpha_i$$\n"
   ]
  },
  {
   "cell_type": "markdown",
   "metadata": {
    "collapsed": true,
    "slideshow": {
     "slide_type": "subslide"
    }
   },
   "source": [
    "## Hierarchical Clustering Utility\n",
    "Hierachical Clustering is useful when the data is thought to have a family/evolutionary relationship\n",
    "\n",
    "Clusters/Subclusters formed based on degree of similarity\n",
    "\n",
    "Not useful if there is no reason to assume a hierarchy. "
   ]
  },
  {
   "cell_type": "markdown",
   "metadata": {
    "collapsed": true,
    "slideshow": {
     "slide_type": "slide"
    }
   },
   "source": [
    "## K-Means Clustering\n",
    "\n",
    "K-Means clustering looks for K average values about which the data can be clustered. \n",
    "\n",
    "We are not as interested in finding a family history but rather breaking our\n",
    "data into K groups.\n",
    "\n",
    "Example: 435 House Congressional districts to be formed. \n",
    "\n",
    "Need to quantify these averages and energies in order to implement. \n"
   ]
  },
  {
   "cell_type": "markdown",
   "metadata": {
    "slideshow": {
     "slide_type": "subslide"
    }
   },
   "source": [
    "## Averages/Energy Function\n",
    "\n",
    "Averages are often used as a measure of center for a set of data; a single number to represent a set of numbers. We can quantify this more rigorously/mathematically as follows: \n",
    "\n",
    "Let $\\bar x$ be the average of the set $X = \\{x_1, x_2, \\ldots x_n\\}$, Then $\\bar x$ is the unique number which minimizes the energy function\n",
    "\n",
    "$$\\mathcal{E}(c,X) = \\frac{1}{2}\\sum_{i=1}^n(c-x_i)^2$$\n",
    "\n",
    "Which is to say \n",
    "\n",
    "$$ \\bar x = \\min_{c\\in\\mathcal{R^1}}\\frac{1}{2}\\sum_{i=1}^n(c-x_i)^2$$\n",
    "\n",
    "How do we prove this?"
   ]
  },
  {
   "cell_type": "markdown",
   "metadata": {
    "slideshow": {
     "slide_type": "subslide"
    }
   },
   "source": [
    "## Averages/Energy Function\n",
    "\n",
    "Take the derivative of the energy function with regard to c, and set it to 0, solve for c. \n",
    "\n",
    "$$\\frac{\\partial\\mathcal{E}(c,X)}{\\partial c} = \\frac{1}{2}\\sum_{i=1}^n2(c-x_i)=0$$\n",
    "\n",
    "$$ \\sum_{i=1}^n c = \\sum_{i=1}^n x_i$$\n",
    "\n",
    "$$c = \\frac{1}{n}\\sum_{i=1}^n x_i$$"
   ]
  },
  {
   "cell_type": "markdown",
   "metadata": {
    "slideshow": {
     "slide_type": "subslide"
    }
   },
   "source": [
    "## K-means and the energy function\n",
    "\n",
    "Now that we view an average as the minimum of an energy function, we can generalize the concept and use it to form a procedure for K-means clustering.\n",
    "\n",
    "Assume we have a set of $K$ centers, $c_j$, and you have more than one \"average\". We want to divide the data into $K$ clusters $C_j$ and find the points $c_j$ such that the energy function:\n",
    "\n",
    "$$\\mathcal{E} = \\sum_{j=1}^K \\Big[ \\sum_{x_i \\in C_j} ||c_j - x_i||_2^2\\Big]$$\n",
    "\n",
    "Is minimized. This is the basis of K-means clustering. "
   ]
  },
  {
   "cell_type": "markdown",
   "metadata": {
    "slideshow": {
     "slide_type": "subslide"
    }
   },
   "source": [
    "## Clusters and Centers\n",
    "<img src=\"http://i.imgur.com/RqtxXtR.png\" width=\"400\" height=\"400\" />\n",
    "\n",
    "Here we have 100 points and 5 random 'centers' $c_j$. We cluster the points by\n",
    "determining which of the 5 'centers' each point is closest to. The problem is,\n",
    "these points are not actual centers of the clusters and don’t minimize our energy."
   ]
  },
  {
   "cell_type": "markdown",
   "metadata": {
    "slideshow": {
     "slide_type": "subslide"
    }
   },
   "source": [
    "## The K-means algorithm / LLoyd's method\n",
    "\n",
    "Given a set of $N$ points in $\\mathcal{R}^d,   X = \\{\\vec x_i\\}^N_{i=1}$, we want to cluster this data into $K$ groups.\n",
    "\n",
    "The goal is to find K points $c_j$ such that the energy \n",
    "$$\\mathcal{E} = \\sum_{j=1}^K \\Big[ \\sum_{x_i \\in C_j} ||c_j - x_i||_2^2\\Big]$$\n",
    "\n",
    "is minimized. The cluster $C_j$ is the set of points in $X$ which are closer to $c_j$ than any other $c_i$\n",
    "\n",
    "For the initializiation step, we choose K points called centers or generators and denote them by $\\vec c_i$, $i=1,\\ldots, K$. They can be random, but other approaches may be better depending on the problem. "
   ]
  },
  {
   "cell_type": "markdown",
   "metadata": {
    "slideshow": {
     "slide_type": "subslide"
    }
   },
   "source": [
    "## The K-means algorithm\n",
    "\n",
    "**Step 1:** For each point $\\vec x_i$ , determine $\\vec c_j$ such that\n",
    "$$||x_x - c_j || \\leq ||x_i-c_n||\\text{ for all }n = 1, \\ldots N$$\n",
    "\n",
    "This is the clustering step. Every point gets associated with a single cluster. \n",
    "\n",
    "There is no expectation that these initial clusters will minimize our energy function. In fact, some clusters may be entirely empty (some values of $c_j$ may be associated with no points in $X$). \n",
    "\n",
    "So we now construct an iterative process were we move $c_i$ to the center of each cluster and start again. \n",
    "\n",
    "**Step 2:** Compute a new set of centers/generators such that\n",
    "\n",
    "$$ c_j =\\text{the average of all points in the }j\\text{th cluster}$$\n",
    "\n",
    "**Step 3:** Check for convergence. if not converged, go to step 1. "
   ]
  },
  {
   "cell_type": "markdown",
   "metadata": {
    "slideshow": {
     "slide_type": "subslide"
    }
   },
   "source": [
    "## Evolution of K-means\n",
    "<img src=\"http://i.imgur.com/oOi0IZi.png\" width=\"600\" height=\"600\" />\n",
    "\n",
    "In this example we have 10 points on [0, 10] × [0, 10]. The initial generators aredenoted by red circles and after 3 iterations, they have moved to the black circles. The blue points are in one cluster and the red points in another"
   ]
  },
  {
   "cell_type": "markdown",
   "metadata": {
    "slideshow": {
     "slide_type": "subslide"
    }
   },
   "source": [
    "## Evolution of K-means\n",
    "\n",
    "<img src=\"http://i.imgur.com/lGwq8LR.png\" width=\"600\" height=\"600\" />\n",
    "\n",
    "This is our 100 points from a previous slide that have been clustered using KMeans"
   ]
  },
  {
   "cell_type": "markdown",
   "metadata": {
    "slideshow": {
     "slide_type": "subslide"
    }
   },
   "source": [
    "## Convergence of K-means\n",
    "\n",
    "To gauge the quality of our clustering, we can look at the variance quantity that we have previously discussed. Recall that the variance of a set of points is given as. \n",
    "\n",
    "$$\\text{var}(x) = \\frac{1}{n} \\sum_{i=1}^n(x_i - \\bar x)^2$$\n",
    "\n",
    "The variance can thus be thought of something like the average distance between your data points and their average. If a data set has a small variance, most of the data is close to the average. \n",
    "\n",
    "If we have multiple clusters for our data instead of a single average, the discrete cluster variance is defined as \n",
    "$$ \\frac{1}{n_j} \\sum_{x_i \\in C_j} ||x_i - c_j||^2$$"
   ]
  },
  {
   "cell_type": "markdown",
   "metadata": {
    "slideshow": {
     "slide_type": "subslide"
    }
   },
   "source": [
    "## Convergence of K-Means\n",
    "\n",
    "K-means converges because \n",
    "* Whenever a point is assigned to a new cluster, the sum of the squared distances of each point in the cluster to its assigned cluster center is reduced.\n",
    "\n",
    "* Whenever a cluster center is moved the sum of the squared distances of thedata points from their currently assigned cluster centers is reduced. Thus the cluster variance is reduced.\n",
    "\n",
    "* If points are no longer moved between clusters, then the algorithm has converged. \n",
    "\n",
    "Total cluster variance should be reduced at each iteration, but there is no guarantee to find the global minimum (the set of cluster centers that gives the lowest total energy over all possible sets of cluster centers). \n",
    "\n",
    "\n",
    "\n"
   ]
  },
  {
   "cell_type": "markdown",
   "metadata": {
    "slideshow": {
     "slide_type": "subslide"
    }
   },
   "source": [
    "## K-means: Global vs Local minimum. \n",
    "<img src=\"http://i.imgur.com/oI9no54.png\" width=\"600\" height=\"600\" />\n"
   ]
  },
  {
   "cell_type": "markdown",
   "metadata": {
    "slideshow": {
     "slide_type": "subslide"
    }
   },
   "source": [
    "## K-means: Global vs Local minimum. \n",
    "\n",
    "Some strategies to find the global minimum for a K-means problem\n",
    "\n",
    "* Run the algorithm many different times with many different starting points and compute the energies fo each, selecting the set of centers corresponding to the smallest final energy in all these runs. \n",
    "\n",
    "* Use some prior information about your data to make a more intelligent choice for your initial generators than random. \n",
    "\n",
    "* Use quasi-random sampling to ensure a more uniform sampling your domain for your initial generator positions. "
   ]
  },
  {
   "cell_type": "markdown",
   "metadata": {
    "slideshow": {
     "slide_type": "subslide"
    }
   },
   "source": [
    "## Implementing K-means\n",
    "\n",
    "**Initalization step**: Set $k$, the number of clusters you wish to form, the input data to be clustered ($n$ records, $x_i$), and the maximum number of maximum iterations, and your initial generator points.\n"
   ]
  },
  {
   "cell_type": "markdown",
   "metadata": {
    "slideshow": {
     "slide_type": "fragment"
    }
   },
   "source": [
    "```\n",
    "def KMeans(k,c_init,x,n,max_iter):\n",
    "    c = cinit\n",
    "    for nit in range(0,max_iter):\n",
    "        for i = in range(0,n-1):\n",
    "            find center c[j] which x[i] is closest to\n",
    "            increment counter n[j] for number of data points in cluster C[j]\n",
    "            increment sum of each coordinate of all points in cluster C[j]\n",
    "        move centers c[j] by taking average of all points in C[j]\n",
    "         \n",
    "        check for convergence\n",
    "         \n",
    "        if (converged)\n",
    "        break\n",
    "```"
   ]
  },
  {
   "cell_type": "markdown",
   "metadata": {
    "slideshow": {
     "slide_type": "subslide"
    }
   },
   "source": [
    "## K-means algorithm implementation considerations\n",
    "\n",
    "The main work each iteration is to finding the center each record is associated with. \n",
    "* For small problems, you'll likely take the brute force approach and just calculate the distance between every point and every center, and then just select the minimum. \n",
    "\n",
    "When to terminate the K-means algorithm\n",
    "\n",
    "* Convergence is formally acheived when the cluster centers $c_j$ stop moving from one iteration to the next. For practical purposes, you can say that any cluster movement smaller than some tolerance indicates convergence for that cluster.\n",
    "* When all cluster movement falls beneath that tolerance, total convergence is acheived and your algorithm can exit. \n",
    "\n"
   ]
  },
  {
   "cell_type": "markdown",
   "metadata": {
    "slideshow": {
     "slide_type": "subslide"
    }
   },
   "source": [
    "## K-means algorithm for image compression\n",
    "* If we have a color image we know that each pixel is represented by three RGB values creating a myriad of colors.\n",
    "\n",
    "* Our your computer monitor you have essentially an unlimited number of colors ($256 ^ 3$)available but on a printer you have less. \n",
    "\n",
    "* We can use K-Means to accomplish this image compression. In the lab we will find which 32 colors best represent the image.\n",
    "\n",
    "* To do this, we initiate our probabilistic Lloyd’s algorithm with k generators which are numbers between 0 and 255; we can simply choose the generators randomly\n",
    "\n",
    "* In Lloyd’s algorithm we need to sample each record so in our application this means to sample the image; i.e., sample a random pixel. If the image is not too large, then we can simply sample every pixel in the image.\n",
    "\n",
    "* We then proceed with the algorithm until convergence is attained.\n",
    "\n",
    "* After convergence is achieved we know the best $k$  shades of gray to represent our image so our final step is to replace each color in our original matrix representation of the image with the converged centroid of the cluster it is in.\n",
    "\n"
   ]
  },
  {
   "cell_type": "markdown",
   "metadata": {
    "slideshow": {
     "slide_type": "subslide"
    }
   },
   "source": [
    "## K-Means image compression\n",
    "\n",
    "<img src=\"http://i.imgur.com/ZL1Nkme.png\" width=\"600\" height=\"600\" />\n",
    "\n",
    "\n",
    "Original RGB image\n"
   ]
  },
  {
   "cell_type": "markdown",
   "metadata": {
    "slideshow": {
     "slide_type": "subslide"
    }
   },
   "source": [
    "## K-means image compression\n",
    "\n",
    "<img src=\"http://i.imgur.com/u8Ldxxk.png\" width=\"600\" height=\"600\" />\n",
    "\n",
    "\n",
    "K-means compressed image with only 8 RGB colors"
   ]
  },
  {
   "cell_type": "markdown",
   "metadata": {
    "collapsed": true,
    "slideshow": {
     "slide_type": "subslide"
    }
   },
   "source": [
    " # Weighted K-Means"
   ]
  },
  {
   "cell_type": "markdown",
   "metadata": {
    "slideshow": {
     "slide_type": "slide"
    }
   },
   "source": [
    "# Classification Problems\n",
    "\n",
    "The problem of assigning an object into one of a preselected group. \n",
    "Examples include \n",
    "* Classifying e-mails as spam or innocuous based on message header and content. \n",
    "* Classifying cells as benign or cancerous based on scan results\n",
    "* Classifying galaxies (spiral, elliptical, irregular) based on their morphology.\n",
    "* Classifying consumers as potential customers based on their purchase history. "
   ]
  },
  {
   "cell_type": "markdown",
   "metadata": {
    "slideshow": {
     "slide_type": "subslide"
    }
   },
   "source": [
    "## Classification Terminology\n",
    "\n",
    "Each record in a data set is known as an **instance** and is characterized by the **attribute set** $x$ and the **target attribute/class label** $y$\n",
    "\n",
    "The classification problem is the problem of finding a target function $f$ that maps each attribute set $x$ to on of the predetermined class labels $y$. The target function is our classification model. \n",
    "\n",
    "Generally, you will use a training set to build a classification model. \n",
    "\n",
    "Classification models can be used for \n",
    "\n",
    "* Descriptive Modeling - serving as an explanatory tool to distinguish between objects of different classes\n",
    "\n",
    "* Predictive Modeling - predicting the class labels for unknown records. "
   ]
  },
  {
   "cell_type": "markdown",
   "metadata": {
    "slideshow": {
     "slide_type": "subslide"
    }
   },
   "source": [
    "## Attribute types\n",
    "\n",
    "There are 4 types of attributes\n",
    "\n",
    "* nominal : different names/labels (brown/blue/green for eye color)\n",
    "* ordinal : ordered attribute (hot/mild/cold, or small/medium/large)\n",
    "* interval: differences in values are meaningful (dates, temperature)\n",
    "* ratio   : differences in ratios are meaninful (mass, age)\n",
    "\n",
    "Attributes can be discrete or continuous. \n",
    "\n",
    "Discrete attributes can be nominal like zipcodes/SSN or just numerical. Binary attributes are a special case of attribute that are either true or not (married or unmarried, mammal, not mammal). They can be represented as a 0 and 1 an are often dubbed Boolean attributes. \n",
    "\n",
    "Continuous attributes have values which are real numbers (temperature, weight, salary). \n",
    "\n",
    "Classification techniques work best for data which is binary or nominal. Often times, continuous data is transformed into ordinal (from a salary value to high-income, middle-income, and low-income). "
   ]
  },
  {
   "cell_type": "markdown",
   "metadata": {
    "slideshow": {
     "slide_type": "subslide"
    }
   },
   "source": [
    "## General Approach to Solving Classification Problems\n",
    "\n",
    "The goal is to build a classification model from an existing set of data systematically. The model should both:\n",
    "\n",
    "* Accurately Describe the Training Data\n",
    "* Correctly predict the class labels of unseen records not in the training data. \n",
    "\n",
    "Techniques include:\n",
    "\n",
    "* Decision tree classifiers\n",
    "* rule-based classifiers\n",
    "* neural networks\n",
    "* support vector machies\n",
    "* Bayes classifiers\n",
    "\n",
    "Each technique uses a learning algorithm to indentify a model that best fits the relationship between the attribute set and the class label from training data. \n",
    "\n"
   ]
  },
  {
   "cell_type": "markdown",
   "metadata": {
    "slideshow": {
     "slide_type": "subslide"
    }
   },
   "source": [
    "## Steps to the General Approach for Classification Problems\n",
    "\n",
    "1. Provide a training set of data whose class labels are known.\n",
    "2. Apply one of the techniques above to build a classification model using the training set. \n",
    "3. Apply the model to a test set of data to determine class labels. \n",
    "4. Evaluate the performance of the model based of the number of correct/incorrect predictions in the test set. Accuracy and error rate can be computed for these models. "
   ]
  },
  {
   "cell_type": "markdown",
   "metadata": {
    "slideshow": {
     "slide_type": "subslide"
    }
   },
   "source": [
    "### Test Set Example\n",
    "\n",
    "Consider the case where we have a classification model to classify records as either Class A or Class B, and using the model on the test set reveals the following results. \n",
    "\n",
    "| Actual Class  |A   | B   |\n",
    "| ------------- |:--:| ---:|\n",
    "| Class A       | 43 | 10  |\n",
    "| Class B       | 12 | 35  |\n",
    "\n",
    "Of the 100 records in the test set, 43 were correctly assigned to class A, 10 were incorrectly assigned to class A. 12 were incorrectly assigned to class B, and 35 were correctly assigned to class B. That gives us an accuracy of $78/100=78\\%$, and an error rate of $22\\%$. "
   ]
  },
  {
   "cell_type": "markdown",
   "metadata": {
    "slideshow": {
     "slide_type": "slide"
    }
   },
   "source": [
    "# Decision Tree Classifiers\n",
    "\n",
    "The idea behind decision trees is to pose a series of questions about the characteristics we are interested in. The choice of questions is chosen carefully to develop to classification model. \n",
    "\n",
    "Example: Suppose we have a list of vertebrates and we want to classify them\n",
    "as mammals or non-mammals. Below is a possible decision tree for classifying a\n",
    "vertebrate. Note the following terminology:\n",
    "\n",
    "* root node: no incoming edges and zero or more outgoing edges. \n",
    "* internal node: exactly one incoming edge and two or more outgoing edges\n",
    "* leaf node: exactly one incoming and no outgoing edges"
   ]
  },
  {
   "cell_type": "markdown",
   "metadata": {
    "slideshow": {
     "slide_type": "subslide"
    }
   },
   "source": [
    "### Decision Tree Classifier Example\n",
    "\n",
    "Suppose we want to use this tree to classify a penguin which has the following attributes. \n",
    "<img src=\"http://i.imgur.com/oWrpFcT.png\" width=\"300\" height=\"300\" />\n",
    "\n",
    "| name |body temp |gives birth  | class |\n",
    "| ------------- |:--:| :---:| --------: \n",
    "| penguin       | warm blooded | no   | ?|\n"
   ]
  },
  {
   "cell_type": "markdown",
   "metadata": {
    "slideshow": {
     "slide_type": "subslide"
    }
   },
   "source": [
    "## Decision Tree Classifier Approach:\n",
    "\n",
    "As there are exponentially many decision trees that can be constructed from a set of given attributes, so we are likely unable to find the single best decision tree; instead, we build our decision tree on the single best question we can ask right now. This is another example of a **greedy** algorithm. \n",
    "\n",
    "Recall that greedy algorithms are characterized by the fact that the choice at any given step fits the following two criteria:\n",
    "* It is the best local choice available among all feasible choices available that step\n",
    "* The choice is irrevocable"
   ]
  },
  {
   "cell_type": "markdown",
   "metadata": {
    "slideshow": {
     "slide_type": "subslide"
    }
   },
   "source": [
    "### Decision tree classifier example 2:\n",
    "Suppose we want to build a decision tree to predict whether a person\n",
    "will default on his/her car loan payments. We collect data from previous bor-\n",
    "rowers and accumulate the following training set. The attributes we summarize\n",
    "are: (i) homeowner (binary attribute), (ii) marital status (nominal/categorical), (iii) annual income (continuous ). Our target class label is binary and is whether that person defaults on the loan payments.\n",
    "\n",
    "\n",
    "<img src=\"http://i.imgur.com/BSYqDIW.png\" width=\"600\" height=\"600\" />\n"
   ]
  },
  {
   "cell_type": "markdown",
   "metadata": {
    "slideshow": {
     "slide_type": "subslide"
    }
   },
   "source": [
    "### Decision Tree Classifier Example: Hunt's Algorithm\n",
    "\n",
    "Hunt's algorithm Builds a decision tree in a recursive manner; the records are subsequently divided into smaller subsets until the records belong to the same class. \n",
    "\n",
    "Step 0: Check to make sure all records in the training set don't all have the same value in the target attribute (defaulted in the above example). If you're building a classifying model, there needs to be differences in the target attribute. \n",
    "\n",
    "Step 1: Determine your question; for now we'll just ask them in order in the table, so we first check home ownership. We not that all three home owners did not default, so that is a leaf. However, some non-home owners defaulted and others didn't so we need to subdivide further. \n",
    "\n",
    "Step 2: Our second question/criteria will be marital status; here we note that all married borrowers repaid their loans so that is a leaf; however, not all single/divorced borrowers repaid, so we need to subdivide further. \n",
    "\n",
    "Step 3: Our  third criteria is annual income. The group of non-homeowners who\n",
    "are single or divorced is divided by < 80K or > 80K. In this case the individuals making more than 80K defaulted and those making less did not."
   ]
  },
  {
   "cell_type": "markdown",
   "metadata": {
    "slideshow": {
     "slide_type": "subslide"
    }
   },
   "source": [
    "### Decision Tree Classifier Example: Hunt's Algorithm\n",
    "\n",
    "Resulting decision tree\n",
    "<img src=\"http://i.imgur.com/xgiTRaF.png\" width=\"600\" height=\"600\" />\n",
    "\n",
    "Of course if we ask the questions in a different order we get a different decision"
   ]
  },
  {
   "cell_type": "markdown",
   "metadata": {
    "slideshow": {
     "slide_type": "subslide"
    }
   },
   "source": [
    "### Decision Tree Classifier Example: Hunt's Algorithm\n",
    "<img src=\"http://i.imgur.com/Gj2zFHF.png\" width=\"600\" height=\"600\" />\n"
   ]
  },
  {
   "cell_type": "markdown",
   "metadata": {
    "slideshow": {
     "slide_type": "subslide"
    }
   },
   "source": [
    "## Hunt's algorithm\n",
    "\n",
    "Each step is recursive, in that we attempt to partition the training records into successively similar subsets. \n",
    "\n",
    "To describe the method more abstractly, let $y = \\{y_1, y_2,\\ldots, y_l\\}$ be the class labels (default or didn't default in the abvoe example) and let $\\mathcal{D}_i$ be the $i$th subset of the training set associated with node $i$ (either leaf, root, or internal node)\n",
    "\n",
    "The algorithm then \n",
    "\n",
    "Checks to see if all records in $\\mathcal{D}_i$ belong to the same class $y_i$ \n",
    "* If so, i is a leaf node\n",
    "* If not, choose an attribute test condition (question) to partition the record into smaller subsets. A child node is created for each outcome of the test condition and the records in $\\mathcal{D}_i$ are distributed according to the outcome of each test condition. \n",
    "\n"
   ]
  },
  {
   "cell_type": "markdown",
   "metadata": {
    "slideshow": {
     "slide_type": "subslide"
    }
   },
   "source": [
    "## Hunt's algorithm considerations\n",
    "Some child nodes may be empty if none of the training records have the combination of attributes associated with each node. In this case we just declare it a leaf node with the same class label as the majority class of training records associated with its parent node.\n",
    "\n",
    "Also suppose we had separated our home owners and the ones who owned homes had identical attributes but different class labels, i.e., some defaulted\n",
    "and some didn’t. We couldn’t separate these records any further. In this\n",
    "case we declare it a leaf node with the same class label as the majority\n",
    "\n",
    "#### When should we stop tree growth?\n",
    "\n",
    "The recursive algorithm needs a termination criteria. Typically the algorithm will go as far as it can (until in splits everything up or gets to the point it can no longer split things based on the attributes). You may make the informed decision to terminate it sooner. \n",
    "\n"
   ]
  },
  {
   "cell_type": "markdown",
   "metadata": {
    "slideshow": {
     "slide_type": "subslide"
    }
   },
   "source": [
    "## Hunt's algorithm: Attribute Test Conditions\n",
    "\n",
    "The \"asking the right question\" decision. What makes a good question at any given step? First, lets look at what kinds of questions we can ask for a given attribute type.\n",
    "\n",
    "* Binary: The easiest; they are or they aren't, 0 or 1. \n",
    "\n",
    "* Nominal: can be split a variety of ways, some intelligent grouping will likely be required. \n",
    "\n",
    "* Ordinal: can produce two or more splits (small/medium/large)\n",
    "\n",
    "* Continuous Attributes: Usually use a logical comparison to test. "
   ]
  },
  {
   "cell_type": "markdown",
   "metadata": {
    "slideshow": {
     "slide_type": "subslide"
    }
   },
   "source": [
    "### Nominal Attribute Splitting\n",
    "<img src=\"http://i.imgur.com/smif5Je.png\" width=\"600\" height=\"600\" />\n"
   ]
  },
  {
   "cell_type": "markdown",
   "metadata": {
    "slideshow": {
     "slide_type": "subslide"
    }
   },
   "source": [
    "## Hunt's algorithm: Node purity measurues\n",
    "\n",
    "Hunt's algorithm goal is to subdivide everything into a leaf node as quickly as possible; So your goal is at any given step is to ask a question that splits your dataset at that set into as many \"pure\" subsets as possible. Pure here indicates that all members of that subset belong to the same class.  \n",
    "\n",
    "Letting $p(i|t)$ be equal to the fraction of records belonging to class $i$ at a given node $t$, we can write the following measures of pureness at any given node. \n",
    "\n",
    "$$\\text{Gini}(t) = 1 - \\sum_{i=1}^k (p(i|t))^2$$\n",
    "\n",
    "$$\\text{Classification error}(t) = 1 - \\max_{1\\leq i\\leq k}(p(i|t))$$\n",
    "\n",
    "$$\\text{Entropy}(t) = - \\sum_{i=1}^k(p(i|t))\\log_2 p(i|t)$$\n",
    "\n",
    "The first two are related to standard norms. Entropy is a similar measure that quantifies the amount of \"randomness\" or \"orderness\\organization\" in a set of data. Pure data has a very strong orderness and thus a very low entropy. "
   ]
  },
  {
   "cell_type": "markdown",
   "metadata": {
    "slideshow": {
     "slide_type": "subslide"
    }
   },
   "source": [
    "## Hunt's algorithm: Node purity measurues\n",
    "Consider the purity measures for nodes containing 2 different classes of objects"
   ]
  },
  {
   "cell_type": "code",
   "execution_count": 15,
   "metadata": {
    "collapsed": false,
    "slideshow": {
     "slide_type": "fragment"
    }
   },
   "outputs": [
    {
     "name": "stderr",
     "output_type": "stream",
     "text": [
      "C:\\Anaconda2\\lib\\site-packages\\ipykernel\\__main__.py:9: RuntimeWarning: divide by zero encountered in log2\n",
      "C:\\Anaconda2\\lib\\site-packages\\ipykernel\\__main__.py:9: RuntimeWarning: invalid value encountered in multiply\n"
     ]
    },
    {
     "data": {
      "text/plain": [
       "[<matplotlib.lines.Line2D at 0x8b56d68>,\n",
       " <matplotlib.lines.Line2D at 0x8b56f28>,\n",
       " <matplotlib.lines.Line2D at 0x8b68550>]"
      ]
     },
     "execution_count": 15,
     "metadata": {},
     "output_type": "execute_result"
    },
    {
     "data": {
      "image/png": "[encoded data removed]",
      "text/plain": [
       "<matplotlib.figure.Figure at 0x8a159b0>"
      ]
     },
     "metadata": {},
     "output_type": "display_data"
    }
   ],
   "source": [
    "t = np.linspace(0,1)\n",
    "gini = 1 - (t**2 + (1-t)**2)\n",
    "classification = np.zeros(len(t))\n",
    "count = 0\n",
    "for i in t:\n",
    "    \n",
    "    classification[count] = 1 - max(i, 1-i)\n",
    "    count = count + 1\n",
    "entropy = - (t*np.log2(t)+ (1-t)*np.log2(1-t))\n",
    "plt.plot(t, gini, 'r', t, classification, 'b', t, entropy, 'g')\n"
   ]
  },
  {
   "cell_type": "markdown",
   "metadata": {
    "slideshow": {
     "slide_type": "subslide"
    }
   },
   "source": [
    "## Gain\n",
    "\n",
    "To determine how a test condition performs, we compare the degree of impurity of the parent nodes before splitting with the impurity of the child nodes after splitting (say some weighted average). The larger the difference, the better the test condition. \n",
    "\n",
    "The gain ($\\Delta$) is a measure that can determine how good a split you are making; in a greedy algorithm like Hunts, you will choose a  test critera that has the best gain at any given step. \n",
    "\n",
    "If $I$ defines the impurity measure of our choice, and we split some parent node containing $N$ records into $k$ child nodes which each contain $N_j$ records in the node $j$, the gain of this splitting is given by:\n",
    "\n",
    "$$\\Delta = I_{\\text{parent}}-\\sum_{j=1}^k \\frac{N_j}{N}I_j$$"
   ]
  },
  {
   "cell_type": "code",
   "execution_count": null,
   "metadata": {
    "collapsed": true
   },
   "outputs": [],
   "source": []
  }
 ],
 "metadata": {
  "celltoolbar": "Slideshow",
  "kernelspec": {
   "display_name": "Python 2",
   "language": "python",
   "name": "python2"
  },
  "language_info": {
   "codemirror_mode": {
    "name": "ipython",
    "version": 2
   },
   "file_extension": ".py",
   "mimetype": "text/x-python",
   "name": "python",
   "nbconvert_exporter": "python",
   "pygments_lexer": "ipython2",
   "version": "2.7.11"
  }
 },
 "nbformat": 4,
 "nbformat_minor": 0
}
