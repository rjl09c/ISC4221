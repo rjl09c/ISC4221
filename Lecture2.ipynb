{
 "cells": [
  {
   "cell_type": "markdown",
   "metadata": {
    "slideshow": {
     "slide_type": "slide"
    }
   },
   "source": [
    "# How to solve problems"
   ]
  },
  {
   "cell_type": "markdown",
   "metadata": {
    "slideshow": {
     "slide_type": "fragment"
    }
   },
   "source": [
    "Understand the problem"
   ]
  },
  {
   "cell_type": "markdown",
   "metadata": {
    "slideshow": {
     "slide_type": "fragment"
    }
   },
   "source": [
    "Design an algorithm to solve the problem"
   ]
  },
  {
   "cell_type": "markdown",
   "metadata": {
    "slideshow": {
     "slide_type": "fragment"
    }
   },
   "source": [
    "Implement your algorithm"
   ]
  },
  {
   "cell_type": "markdown",
   "metadata": {
    "slideshow": {
     "slide_type": "fragment"
    }
   },
   "source": [
    "Test your algorithm"
   ]
  },
  {
   "cell_type": "markdown",
   "metadata": {
    "slideshow": {
     "slide_type": "slide"
    }
   },
   "source": [
    "# Understanding your problem"
   ]
  },
  {
   "cell_type": "markdown",
   "metadata": {
    "slideshow": {
     "slide_type": "fragment"
    }
   },
   "source": [
    "What is the size of your problem?\n",
    "\n",
    "What is the domain of your problem?\n",
    "\n",
    "What are the parameters of your problem?\n",
    "\n",
    "What would a solution to your problem look like? "
   ]
  },
  {
   "cell_type": "markdown",
   "metadata": {
    "slideshow": {
     "slide_type": "subslide"
    }
   },
   "source": [
    "# Continuous vs Discrete"
   ]
  },
  {
   "cell_type": "markdown",
   "metadata": {
    "slideshow": {
     "slide_type": "fragment"
    }
   },
   "source": [
    "The difference between integers and real numbers"
   ]
  },
  {
   "cell_type": "markdown",
   "metadata": {
    "slideshow": {
     "slide_type": "fragment"
    }
   },
   "source": [
    "Discrete problems occupy domains on the integer line (integers, logicals, strings)\n",
    "\n",
    "If problem is defined on the range from 1 to 10, the problem is only defined at discrete points in this range \n",
    "\n",
    "{1,2,3,4,...,9,10}"
   ]
  },
  {
   "cell_type": "markdown",
   "metadata": {
    "slideshow": {
     "slide_type": "fragment"
    }
   },
   "source": [
    "Continuous problems occupy domains on the real number line. (floats, continuous functions, complex analysis)\n",
    "\n",
    "If problem is defined on the range from 1 to 10, the problem is defined at any and every point in this range. \n",
    "\n",
    "{1, 1.1, 1.01, 1.001,...} = [1,10] \n",
    "\n",
    "$$\\{ x \\in  \\mathbb{R}\n",
    " \\ \\ 1 \\leq x \\leq 10\\}$$\n",
    "\n",
    "In the limit where the interval between discrete points because 0, you move from discrete to continuous. "
   ]
  },
  {
   "cell_type": "markdown",
   "metadata": {
    "slideshow": {
     "slide_type": "subslide"
    }
   },
   "source": [
    "\n",
    "## Discrete \n",
    "<img src=\"http://i.imgur.com/5yJXxsF.png\" width=\"300\" height=\"300\" />\n",
    "\n",
    "## Continuous\n",
    "<img src=\"http://i.imgur.com/R606qSY.jpg\" width=\"300\" height=\"300\" />\n",
    "\n"
   ]
  },
  {
   "cell_type": "markdown",
   "metadata": {
    "slideshow": {
     "slide_type": "slide"
    }
   },
   "source": [
    "# Algorithm Design\n",
    "\n",
    "Once you (think you) understand your problem well enough. You attempt to write an algorithm to solve it. \n",
    "\n",
    "*\"An algorithm is a sequence of unambiguous instructions for solving a problem by obtaining a required output for any legitimate\n",
    "input in a finite amount of time.\"*\n",
    "\n",
    "Lack of ambiguity is key for flow of control. "
   ]
  },
  {
   "cell_type": "markdown",
   "metadata": {},
   "source": []
  },
  {
   "cell_type": "markdown",
   "metadata": {
    "slideshow": {
     "slide_type": "subslide"
    }
   },
   "source": [
    "# Describing algorithms\n",
    "\n",
    "Pseudocode vs Functioning Python Code\n",
    "\n",
    "Pseudocode for general algorithm discussion without focus on specific issues of implementation\n",
    "\n",
    "Python for nitty-gritty of functional algorithms. "
   ]
  },
  {
   "cell_type": "markdown",
   "metadata": {
    "slideshow": {
     "slide_type": "subslide"
    }
   },
   "source": [
    "# Sorting algorithm: Pseudocode vs Python "
   ]
  },
  {
   "cell_type": "markdown",
   "metadata": {
    "slideshow": {
     "slide_type": "fragment"
    }
   },
   "source": [
    "- for  i = 1, n-1 \n",
    "    - for j = 1, n-i\n",
    "        - if (a(j+1) > a(j)) swap a(j) and a(j+1)\n",
    "    - end for loop over j\n",
    "- end for loop over i"
   ]
  },
  {
   "cell_type": "code",
   "execution_count": 13,
   "metadata": {
    "collapsed": false,
    "slideshow": {
     "slide_type": "fragment"
    }
   },
   "outputs": [
    {
     "name": "stdout",
     "output_type": "stream",
     "text": [
      "[ 0.38216221  0.15557148  0.25465706  0.52650237  0.93810738  0.41058673\n",
      "  0.19852943  0.93402385  0.03636038  0.30539966]\n",
      "[ 0.03636038  0.15557148  0.19852943  0.25465706  0.30539966  0.38216221\n",
      "  0.41058673  0.52650237  0.93402385  0.93810738]\n"
     ]
    }
   ],
   "source": [
    "import numpy as np\n",
    "\n",
    "n = 10\n",
    "a = np.random.rand(10)\n",
    "\n",
    "print a\n",
    "\n",
    "for i in range(1,n-1):\n",
    "    for j in range(0,n-i):\n",
    "        if(a[j+1] < a[j]):\n",
    "            temp = a[j+1]\n",
    "            a[j+1] = a[j]\n",
    "            a[j] = temp\n",
    "print a \n"
   ]
  },
  {
   "cell_type": "markdown",
   "metadata": {
    "slideshow": {
     "slide_type": "slide"
    }
   },
   "source": [
    "# Some important problem types we'll look at. "
   ]
  },
  {
   "cell_type": "markdown",
   "metadata": {
    "slideshow": {
     "slide_type": "subslide"
    }
   },
   "source": [
    "# Sorting \n",
    "\n",
    "Examples include: \n",
    "\n",
    "* Sorting a list of names alphabetically\n",
    "* item Rearranging a vector so that the numbers appear in ascending order\n",
    "* item Shuffling a deck of cards n cards\n",
    "* item Ordering a list of students by GPA\n",
    "\n",
    "Soting algorithms can require memory in excess of the data set being sorted. \n",
    "\n",
    "No single sorting algorithm is the best for all use cases. "
   ]
  },
  {
   "cell_type": "markdown",
   "metadata": {
    "slideshow": {
     "slide_type": "subslide"
    }
   },
   "source": [
    "# Searching \n",
    "Examples include: \n",
    "* Searching a DNA string to identify the codon sequences that defines a protien \n",
    " - ATCGTATTGACACATATATCCAAATCGCA\n",
    "* Searching for a given value x in a numerical array a(1 :n)\n",
    "* given a set of points X, find the point z in X which is closest to some given point. \n",
    "* Determining of any two elements in an array are equal. \n",
    "If we a searching in a list and it is already sorted, we should take advantage of this. \n",
    " \n",
    "Might be worthwhile to sort the list. \n",
    "\n",
    "There is no single best searching algorithm"
   ]
  },
  {
   "cell_type": "markdown",
   "metadata": {
    "slideshow": {
     "slide_type": "subslide"
    }
   },
   "source": [
    "# Randomness\n",
    "Examples \n",
    "* Generating pseudorandom numbers\n",
    "* Random walks, stock market, path of a foraging animal\n",
    "* Brownian motion. "
   ]
  },
  {
   "cell_type": "markdown",
   "metadata": {
    "slideshow": {
     "slide_type": "subslide"
    }
   },
   "source": [
    "# Graph Problems\n",
    "\n",
    "* Konigsberg Bridge Problem\n",
    "* Mininmum Spanning tree\n",
    " - An example would be a cable TV company laying cable to a new neighborhood. If it is constrained to bury the cable only along certain paths, then there could be a graph representing which points are connected by those paths. A spanning tree of this system would be a subset of paths that connects each house to the grid without cycles (infinite loops)"
   ]
  },
  {
   "cell_type": "markdown",
   "metadata": {
    "slideshow": {
     "slide_type": "subslide"
    }
   },
   "source": [
    "# Optimization Problems \n",
    "\n",
    "\n",
    "* Traveling saleman problem\n",
    "<img src=\"http://i.imgur.com/rgnfxqR.png\" width=\"300\" height=\"300\" />\n",
    "\n",
    "* Napsack problem\n",
    "<img src=\"http://i.imgur.com/TbBSpEA.png\" width=\"300\" height=\"300\" />\n"
   ]
  },
  {
   "cell_type": "markdown",
   "metadata": {
    "slideshow": {
     "slide_type": "subslide"
    }
   },
   "source": [
    "# Data Mining and Clustering Problems \n",
    "\n",
    "Examples include:\n",
    "* Law enforcement - fraud detection, criminal profiling\n",
    "* Cenusus data\n",
    "* Medical statistics\n",
    "* Stock Market \n",
    "\n"
   ]
  },
  {
   "cell_type": "markdown",
   "metadata": {
    "slideshow": {
     "slide_type": "subslide"
    }
   },
   "source": [
    "# Computational Geometry Problems\n",
    "\n",
    "Examples include: \n",
    "* Grid Generation\n",
    "* Convex Hull Problem \n",
    "* Voronoi Diagrams "
   ]
  },
  {
   "cell_type": "markdown",
   "metadata": {
    "slideshow": {
     "slide_type": "subslide"
    }
   },
   "source": [
    "# Image Processing Problems \n",
    "Examples Include \n",
    "* Feature Extraction facial recognition, fingerprint matching\n",
    "<img src=\"http://i.imgur.com/HWgSS1G.png\" width=\"300\" heigth=\"300\" \\>\n",
    "* Edge detection\n",
    "* Image enhancement "
   ]
  },
  {
   "cell_type": "markdown",
   "metadata": {
    "slideshow": {
     "slide_type": "subslide"
    }
   },
   "source": [
    "# Numerical Problems \n",
    "These involve mathematical objects of continuous nature and were studied in Alg I \n",
    "* System of linear equations\n",
    "* Definite Integrals \n",
    "* Solving differential equations \n",
    "* Root-finding algorithmn \n",
    "* Function approximation."
   ]
  },
  {
   "cell_type": "markdown",
   "metadata": {
    "slideshow": {
     "slide_type": "slide"
    }
   },
   "source": [
    "# Common Approaches to Algorithm Design\n",
    "\n",
    "* Brute Force \n",
    "* Divide and Conquer\n",
    "* Decrease and Conquer\n",
    "* Transform and conquer\n",
    "* Greedy algorithms \n"
   ]
  },
  {
   "cell_type": "markdown",
   "metadata": {
    "slideshow": {
     "slide_type": "subslide"
    }
   },
   "source": [
    "# Brute Force or Method of Exhaustion\n",
    " * Straightforward approach to solving a problem\n",
    " * Usually not the best way to solve the problem, but conceptually simple and eassy to code. \n",
    " -  e.g. If searching a database of names for a \"Smith\", compare all database entries with \"Smith\" until your either find \"Smith\" or run out of entries\n",
    " -  e.g. In optimization, try out every  feasible solution to a problem and pick the best one. "
   ]
  },
  {
   "cell_type": "markdown",
   "metadata": {
    "slideshow": {
     "slide_type": "subslide"
    }
   },
   "source": [
    "# Divide and Conquer\n",
    "* Best known general algorithm design technique (Probably)\n",
    "* Divide the problem into several smaller subproblems that resemble the original problem. (These subproblems can also be subdivided. \n",
    "* Imagine you had the same database of names from the discussion on brute force, except in this case we explicitly know it's sort alphabetically. You can compare the middle entry in the database to \"Smith\". If this entry starts with a letter that comes before S alphabetically, you know that if \"Smith\" is in the database, it'll be in the second half. \n",
    "* Continue subdividing the domain and comparing until \"Smith\" is found or you hone in on the place it would be alphabetically and determine it's not there. "
   ]
  },
  {
   "cell_type": "markdown",
   "metadata": {
    "slideshow": {
     "slide_type": "subslide"
    }
   },
   "source": [
    "# Decrease and Conquer\n",
    "\n",
    "* Stragety based on exploiting the relationship between a solution to a problem of size *n* and a solution to a smaller problem. \n",
    "* Consider the problem of calculating $$\\pi^8$$\n",
    " Brute force approach is $$\\pi * \\pi * \\pi * \\pi * \\pi * \\pi * \\pi * \\pi$$ \n",
    " Decrease and conquers makes use of the fact that: $$\\pi^8 = \\pi^4 \\pi^4$$ and: $$ \\pi^4 = \\pi^2 \\pi^2$$ and: $$\\pi^2 = \\pi \\pi$$\n",
    "* Same result can be computed in 3 multiplications istead of 7. "
   ]
  },
  {
   "cell_type": "markdown",
   "metadata": {
    "slideshow": {
     "slide_type": "subslide"
    }
   },
   "source": [
    "# Transform and Conquer \n",
    "\n",
    "* This approach involves changing the original problem into another, easier to solve form. \n",
    "* Common in mathematics. Imagine trying to calculate the area for a circle from first principles. \n",
    "  * In Cartesian, this would be the solution the the integral: \n",
    "  $$ A = \\int_D{(x^2+y^2)dxdy} $$\n",
    "  * Where D is the unit circle \n",
    " * Can be transformed to a problem in polar coordinates through the transform:\n",
    " $$ r' = \\sqrt{x^2+y^2} $$\n",
    " $$ x = \\cos(\\theta), y = \\sin(\\theta) $$\n",
    " * Which gives you the double integral\n",
    " $$ \\int_0^{2\\pi}{\\int_0^r {r'\\ dr d \\theta }} = \\pi r^2$$"
   ]
  },
  {
   "cell_type": "markdown",
   "metadata": {
    "slideshow": {
     "slide_type": "subslide"
    }
   },
   "source": [
    "# Greedy Algorithms \n",
    "* Uses a sequence of steps to construct a solution where at each step a choice is made that satisfies two conditions. \n",
    "  1. It is the best possible choice available at the time\n",
    "  2. The choice is irrevocable and cannot be changed. \n",
    "* These are used for optimazation problems. \n",
    "* Guaranteed to work if the problem is linear or strictly monotinocally varying. "
   ]
  },
  {
   "cell_type": "markdown",
   "metadata": {
    "slideshow": {
     "slide_type": "subslide"
    }
   },
   "source": [
    "# Greedy algorthim example: The Change Problem\n",
    "Consider the problem of choosing the smallest number of coins to give out change of 43 cents. We have coints in 25, 10, 5, and 1 cent denominations. \n",
    "* On the first step available, we select 1 coin, the largest coin we can without going over 43 cents. This would be a quarter. \n",
    "* Having chose a quarter, we have to determine how to make change for the remaining 43 - 25 = 18 cents. \n",
    "* The second step, a quarter is no longer feasible, as it it greater than 18, so we make the next largest choice, a dime. \n",
    "* Now we have 18-10=8 cents we have to account for. \n",
    "* The third step, neither a quarter or a dime are feasible anymore, so we go with the nickle. \n",
    "* Now we have 8 - 5 = 3 cents to account for. \n",
    "* We can only chose pennies from here on out, so we come up with our solution. 6 is the smallest number of coins that can generate 43 cents. a quarter, a dime, a nickle and 3 pennies. \n",
    "* Contrast this with the brute force approach. "
   ]
  },
  {
   "cell_type": "markdown",
   "metadata": {
    "slideshow": {
     "slide_type": "slide"
    }
   },
   "source": [
    "# Comparing Algorithms\n",
    "\n",
    "Given two distinct algorithms that solve the same problem, then how can we determine if one is better than the other? Some choices. \n",
    "\n",
    "* Storage requirements: the amount of memory each algorithm uses. \n",
    "* Wall clock time: How long it takes algorithms to find the correct solution. \n",
    "* Efficency of the algorithm: How much work does the algorithm due for a problem of a given size. \n",
    "  * Recall wanting to calculate $\\pi^8$, one of algorithms took 7 operations, one of them took 3. \n",
    "  \n",
    "## Size of the problem \n",
    " The size of the problem is a function of some parameter, $n$ . Some examples:\n",
    " * For a square matrix problem, the size the number of rows/colums. \n",
    " * For a problem solved on a grid, it would be the number of grid points. \n",
    " * For a problem of searching through an array, it would be the number of elements in the array. \n",
    " * For the traveling salesman problem, it would be the number of cities they must visit. "
   ]
  },
  {
   "cell_type": "markdown",
   "metadata": {
    "slideshow": {
     "slide_type": "subslide"
    }
   },
   "source": [
    "# Problem size\n",
    "\n",
    "For small $n$, algorithm choice is not terribly important in terms of effeciency/storage requirements. \n",
    "\n",
    "Complexity in implementation probably a more pressing concern. \n",
    "\n",
    "For larger problems (large $n$), or problems we intend on solving many many times, efficienty/storage becomes a consideration. "
   ]
  },
  {
   "cell_type": "markdown",
   "metadata": {
    "slideshow": {
     "slide_type": "subslide"
    }
   },
   "source": [
    "# Storage Requirements\n",
    "\n",
    "The \"space-on-disk consideration\".\n",
    "\n",
    "If one algorithm can do the same calculation with smaller memory footprints, it is better by this metric. \n",
    "\n",
    "Consider the two following two functions; Which is better by this metric? "
   ]
  },
  {
   "cell_type": "code",
   "execution_count": 18,
   "metadata": {
    "collapsed": true,
    "slideshow": {
     "slide_type": "fragment"
    }
   },
   "outputs": [],
   "source": [
    "def addalgorithm1(a,b,c):\n",
    "    #Adds the arrays a and b, stores them in c.  \n",
    "    #Assumes a and b are the same length (This is a demo function, not BLAS)\n",
    "    for i in 0,len(a)-1:\n",
    "        c[i] = a[i]+b[i]\n",
    "    return c    "
   ]
  },
  {
   "cell_type": "code",
   "execution_count": 19,
   "metadata": {
    "collapsed": false,
    "slideshow": {
     "slide_type": "fragment"
    }
   },
   "outputs": [],
   "source": [
    "def addalgorithm2(a,b):\n",
    "    #Adds the arrays a and b, stores them in a.  \n",
    "    #Assumes a and b are the same length (This is a demo function, not BLAS)\n",
    "    for i in 0,len(a)-1:\n",
    "        a[i] = a[i]+b[i]\n",
    "    return a    \n",
    "    "
   ]
  },
  {
   "cell_type": "markdown",
   "metadata": {
    "slideshow": {
     "slide_type": "subslide"
    }
   },
   "source": [
    "# Wall clock time \n",
    "\n",
    "The amount of time that passes over the execution of a program, algorithm, or function, as shown by a (functioning) clock on the wall. \n",
    "\n",
    "If algorithm A solves the problem in significantly less time than algorithm B, one might conclude that this algorithm is better. \n",
    "\n",
    "This is not neccesarily the case. \n",
    "* Algorithm A may be significantly better implemented (faster initialization, etc)\n",
    "* Algorithm A may run faster for problems of certain size $n$, but slower for others of a different size"
   ]
  },
  {
   "cell_type": "markdown",
   "metadata": {
    "slideshow": {
     "slide_type": "subslide"
    }
   },
   "source": [
    "# Measuring  wall clock time\n",
    "\n",
    "## C++\n",
    "```c++\n",
    "#include <ctime>\n",
    "     std::clock_t    start;\n",
    "\n",
    "     time = std::clock();\n",
    "```\n",
    "\n",
    "## Fortran 90\n",
    "```fortran\n",
    "call system_clock ( time, clock_rate, clock_max )\n",
    "```\n",
    "\n",
    "\n",
    "## Matlab\n",
    "```matlab\n",
    "time = tic\n",
    "```"
   ]
  },
  {
   "cell_type": "markdown",
   "metadata": {
    "slideshow": {
     "slide_type": "subslide"
    }
   },
   "source": [
    "# Measuring wall clock time\n",
    "## Python"
   ]
  },
  {
   "cell_type": "code",
   "execution_count": 12,
   "metadata": {
    "collapsed": true,
    "slideshow": {
     "slide_type": "fragment"
    }
   },
   "outputs": [],
   "source": [
    "import time\n",
    "time1 = time.clock()"
   ]
  },
  {
   "cell_type": "code",
   "execution_count": 13,
   "metadata": {
    "collapsed": false,
    "slideshow": {
     "slide_type": "fragment"
    }
   },
   "outputs": [
    {
     "name": "stdout",
     "output_type": "stream",
     "text": [
      "1.8429279207\n"
     ]
    }
   ],
   "source": [
    "time2 = time.clock()\n",
    "print time2-time1"
   ]
  },
  {
   "cell_type": "markdown",
   "metadata": {
    "slideshow": {
     "slide_type": "subslide"
    }
   },
   "source": [
    "# Efficiency \n",
    "If wall clock time can be a misleading indicator of which algorithm is 'better' in general, what can we use?\n",
    "\n",
    "Estimate the amount of work (number of calculations) the algorithm performs as a function of the size of the problem $n$"
   ]
  },
  {
   "cell_type": "markdown",
   "metadata": {
    "slideshow": {
     "slide_type": "fragment"
    }
   },
   "source": [
    "### Experiment\n",
    "Suppose we are able to count the number of calculations ($+,-,\\times,/$) two algorithms perform (A and B) as a function of the problem size, $n$. These functions describing the amount of work each does are:\n",
    "$$ W_A = 3n+21$$\n",
    "$$ W_B = N^2+10N+5 $$\n",
    "\n",
    "What are the implications of this. "
   ]
  },
  {
   "cell_type": "markdown",
   "metadata": {
    "slideshow": {
     "slide_type": "subslide"
    }
   },
   "source": [
    "# Efficiency (cont...)\n",
    "Let's look how the amount of work for algorthim A behaves with $n$, looking at how each term contributes. \n",
    "$$ W_A = 3n+21$$\n",
    "\n"
   ]
  },
  {
   "cell_type": "code",
   "execution_count": 20,
   "metadata": {
    "collapsed": true,
    "slideshow": {
     "slide_type": "skip"
    }
   },
   "outputs": [],
   "source": [
    "%matplotlib inline\n",
    "\n",
    "import matplotlib\n",
    "import numpy as np\n",
    "import matplotlib.pyplot as plt"
   ]
  },
  {
   "cell_type": "code",
   "execution_count": 48,
   "metadata": {
    "collapsed": false,
    "slideshow": {
     "slide_type": "fragment"
    }
   },
   "outputs": [
    {
     "data": {
      "text/plain": [
       "<matplotlib.text.Text at 0x8274dd8>"
      ]
     },
     "execution_count": 48,
     "metadata": {},
     "output_type": "execute_result"
    },
    {
     "data": {
      "image/png": "[encoded data removed]",
      "text/plain": [
       "<matplotlib.figure.Figure at 0x9020160>"
      ]
     },
     "metadata": {},
     "output_type": "display_data"
    }
   ],
   "source": [
    "def WorkA (n):\n",
    "    term1 = 3*n\n",
    "    term2 = 21+n*0\n",
    "    total = 3*n+21\n",
    "    return(term1,term2, total)\n",
    "\n",
    "nrange = np.linspace(1,100,100)\n",
    "\n",
    "[term1A, term2A, totalA] = WorkA(nrange)\n",
    "plt.plot(nrange, term1A, 'r--', nrange, term2A, 'r*', nrange, totalA, 'r')\n",
    "plt.title('Work in Algorithm A as a function of n')"
   ]
  },
  {
   "cell_type": "markdown",
   "metadata": {
    "slideshow": {
     "slide_type": "subslide"
    }
   },
   "source": [
    "# Efficiency (cont...)\n",
    "Lets do the same for B. \n",
    "$$ W_B = n^2+10n+5$$\n"
   ]
  },
  {
   "cell_type": "code",
   "execution_count": 49,
   "metadata": {
    "collapsed": false,
    "slideshow": {
     "slide_type": "fragment"
    }
   },
   "outputs": [
    {
     "data": {
      "text/plain": [
       "<matplotlib.text.Text at 0x9f32cc0>"
      ]
     },
     "execution_count": 49,
     "metadata": {},
     "output_type": "execute_result"
    },
    {
     "data": {
      "image/png": "[encoded data removed]",
      "text/plain": [
       "<matplotlib.figure.Figure at 0x8eb6f60>"
      ]
     },
     "metadata": {},
     "output_type": "display_data"
    }
   ],
   "source": [
    "def WorkB (n):\n",
    "    term1 = n**2\n",
    "    term2 = 10*n\n",
    "    term3 = 5+0*n\n",
    "    total = term1 + term2 + term3\n",
    "    return(term1,term2,term3, total)\n",
    "\n",
    "\n",
    "[term1B, term2B, term3B, totalB] = WorkB(nrange)\n",
    "plt.plot(nrange, term1B, 'b--', nrange, term2B, 'b*',nrange, term3B, 'b+', nrange, totalB, 'b')\n",
    "plt.title('Work in Algorithm B as a function of n')"
   ]
  },
  {
   "cell_type": "markdown",
   "metadata": {
    "slideshow": {
     "slide_type": "subslide"
    }
   },
   "source": [
    "# Efficiency takeaways. \n",
    "\n",
    "Algorithm work tracks very closely with the leading (fastest growing) term. Typically for simplicities sake, we drop all leading terms when describing algorithm work. \n",
    "\n",
    "Now lets compare A vs B. "
   ]
  },
  {
   "cell_type": "code",
   "execution_count": 50,
   "metadata": {
    "collapsed": false,
    "slideshow": {
     "slide_type": "fragment"
    }
   },
   "outputs": [
    {
     "data": {
      "text/plain": [
       "<matplotlib.text.Text at 0xa10b438>"
      ]
     },
     "execution_count": 50,
     "metadata": {},
     "output_type": "execute_result"
    },
    {
     "data": {
      "image/png": "[encoded data removed]",
      "text/plain": [
       "<matplotlib.figure.Figure at 0x9c0f4e0>"
      ]
     },
     "metadata": {},
     "output_type": "display_data"
    }
   ],
   "source": [
    "plt.plot(nrange, totalA, 'r', nrange, totalB, 'b')\n",
    "plt.title('Comparison of work for Algorithms A and B')\n",
    "\n"
   ]
  },
  {
   "cell_type": "markdown",
   "metadata": {
    "slideshow": {
     "slide_type": "fragment"
    }
   },
   "source": [
    "**Algorithm A solves the same problem with significantly less work**\n",
    "\n",
    "A is said to be linear while B is said to be quadratic. "
   ]
  },
  {
   "cell_type": "markdown",
   "metadata": {
    "slideshow": {
     "slide_type": "subslide"
    }
   },
   "source": [
    "# Terminology\n",
    "\n",
    "When the leading term of work is a constant $c$ times $n$, we say the method is: \n",
    "* has linear growth in $n$\n",
    "* is order $n$ \n",
    "* $\\mathcal{O}(n)$ (Big O notation)\n",
    "\n",
    "When the leading term of work is a constant $c$ times $n^2$, we say the method is: \n",
    "* has quadratic growth in $n$\n",
    "* is order $n^2$ \n",
    "* $\\mathcal{O}(n^2)$ (Big O notation)"
   ]
  },
  {
   "cell_type": "markdown",
   "metadata": {
    "slideshow": {
     "slide_type": "subslide"
    }
   },
   "source": [
    "# Polynomial Growth\n",
    "\n",
    "Linear and Quadratic growth are examples of polynomial growth. \n",
    "\n",
    "Any Algorithm that grows in terms of $\\mathcal{O}(n^p)$ where $p>0$ is said to have polynomial growth. P can be, but doesn't have to be an integer. \n",
    "\n",
    "$\\mathcal{O}(n^p)$ means the leading term in the work is $cn^p$ for some positive constant $c$. \n",
    "\n",
    "As $p$ goes up, so does the amount of work as a function of $n$. "
   ]
  },
  {
   "cell_type": "code",
   "execution_count": null,
   "metadata": {
    "collapsed": true,
    "slideshow": {
     "slide_type": "subslide"
    }
   },
   "outputs": [],
   "source": []
  }
 ],
 "metadata": {
  "celltoolbar": "Slideshow",
  "kernelspec": {
   "display_name": "Python 2",
   "language": "python",
   "name": "python2"
  },
  "language_info": {
   "codemirror_mode": {
    "name": "ipython",
    "version": 2
   },
   "file_extension": ".py",
   "mimetype": "text/x-python",
   "name": "python",
   "nbconvert_exporter": "python",
   "pygments_lexer": "ipython2",
   "version": "2.7.11"
  }
 },
 "nbformat": 4,
 "nbformat_minor": 0
}
