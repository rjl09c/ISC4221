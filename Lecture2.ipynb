{
 "cells": [
  {
   "cell_type": "markdown",
   "metadata": {
    "slideshow": {
     "slide_type": "slide"
    }
   },
   "source": [
    "# How to solve problems"
   ]
  },
  {
   "cell_type": "markdown",
   "metadata": {
    "slideshow": {
     "slide_type": "fragment"
    }
   },
   "source": [
    "Understand the problem"
   ]
  },
  {
   "cell_type": "markdown",
   "metadata": {
    "slideshow": {
     "slide_type": "fragment"
    }
   },
   "source": [
    "Design an algorithm to solve the problem"
   ]
  },
  {
   "cell_type": "markdown",
   "metadata": {
    "slideshow": {
     "slide_type": "fragment"
    }
   },
   "source": [
    "Implement your algorithm"
   ]
  },
  {
   "cell_type": "markdown",
   "metadata": {
    "slideshow": {
     "slide_type": "fragment"
    }
   },
   "source": [
    "Test your algorithm"
   ]
  },
  {
   "cell_type": "markdown",
   "metadata": {
    "slideshow": {
     "slide_type": "slide"
    }
   },
   "source": [
    "# Understanding your problem"
   ]
  },
  {
   "cell_type": "markdown",
   "metadata": {
    "slideshow": {
     "slide_type": "fragment"
    }
   },
   "source": [
    "What is the size of your problem?\n",
    "\n",
    "What is the domain of your problem?\n",
    "\n",
    "What are the parameters of your problem?\n",
    "\n",
    "What would a solution to your problem look like? "
   ]
  },
  {
   "cell_type": "markdown",
   "metadata": {
    "slideshow": {
     "slide_type": "subslide"
    }
   },
   "source": [
    "# Continuous vs Discrete"
   ]
  },
  {
   "cell_type": "markdown",
   "metadata": {
    "slideshow": {
     "slide_type": "fragment"
    }
   },
   "source": [
    "The difference between integers and real numbers"
   ]
  },
  {
   "cell_type": "markdown",
   "metadata": {
    "slideshow": {
     "slide_type": "fragment"
    }
   },
   "source": [
    "Discrete problems occupy domains on the integer line (integers, logicals, strings)\n",
    "\n",
    "If problem is defined on the range from 1 to 10, the problem is only defined at discrete points in this range \n",
    "\n",
    "{1,2,3,4,...,9,10}"
   ]
  },
  {
   "cell_type": "markdown",
   "metadata": {
    "slideshow": {
     "slide_type": "fragment"
    }
   },
   "source": [
    "Continuous problems occupy domains on the real number line. (floats, continuous functions, complex analysis)\n",
    "\n",
    "If problem is defined on the range from 1 to 10, the problem is defined at any and every point in this range. \n",
    "\n",
    "{1, 1.1, 1.01, 1.001,...} = [1,10] \n",
    "\n",
    "$$\\{ x \\in  \\mathbb{R}\n",
    " \\ \\ 1 \\leq x \\leq 10\\}$$\n",
    "\n",
    "In the limit where the interval between discrete points because 0, you move from discrete to continuous. "
   ]
  },
  {
   "cell_type": "markdown",
   "metadata": {},
   "source": [
    "![Image of Yaktocat](https://octodex.github.com/images/yaktocat.png)\n"
   ]
  },
  {
   "cell_type": "markdown",
   "metadata": {
    "slideshow": {
     "slide_type": "slide"
    }
   },
   "source": [
    "# Algorithm Design\n",
    "\n",
    "Once you (think you) understand your problem well enough. You attempt to write an algorithm to solve it. \n",
    "\n",
    "*\"An algorithm is a sequence of unambiguous instructions for solving a problem by obtaining a required output for any legitimate\n",
    "input in a finite amount of time.\"*\n",
    "\n",
    "Lack of ambiguity is key for flow of control. "
   ]
  },
  {
   "cell_type": "markdown",
   "metadata": {},
   "source": []
  },
  {
   "cell_type": "markdown",
   "metadata": {
    "slideshow": {
     "slide_type": "subslide"
    }
   },
   "source": [
    "# Describing algorithms\n",
    "\n",
    "Pseudocode vs Functioning Python Code\n",
    "\n",
    "Pseudocode for general algorithm discussion without focus on specific issues of implementation\n",
    "\n",
    "Python for nitty-gritty of functional algorithms. "
   ]
  },
  {
   "cell_type": "markdown",
   "metadata": {
    "slideshow": {
     "slide_type": "subslide"
    }
   },
   "source": [
    "# Sorting algorithm: Pseudocode vs Python "
   ]
  },
  {
   "cell_type": "raw",
   "metadata": {
    "slideshow": {
     "slide_type": "fragment"
    }
   },
   "source": [
    "for  i = 1, n-1 \n",
    "    for j = 1, n-i\n",
    "        if (a(j+1) > a(j)) swap a(j) and a(j+1)\n",
    "     end for loop over j\n",
    "end for loop over i"
   ]
  },
  {
   "cell_type": "code",
   "execution_count": 13,
   "metadata": {
    "collapsed": false,
    "slideshow": {
     "slide_type": "fragment"
    }
   },
   "outputs": [
    {
     "name": "stdout",
     "output_type": "stream",
     "text": [
      "[ 0.38216221  0.15557148  0.25465706  0.52650237  0.93810738  0.41058673\n",
      "  0.19852943  0.93402385  0.03636038  0.30539966]\n",
      "[ 0.03636038  0.15557148  0.19852943  0.25465706  0.30539966  0.38216221\n",
      "  0.41058673  0.52650237  0.93402385  0.93810738]\n"
     ]
    }
   ],
   "source": [
    "import numpy as np\n",
    "\n",
    "n = 10\n",
    "a = np.random.rand(10)\n",
    "\n",
    "print a\n",
    "\n",
    "for i in range(1,n-1):\n",
    "    for j in range(0,n-i):\n",
    "        if(a[j+1] < a[j]):\n",
    "            temp = a[j+1]\n",
    "            a[j+1] = a[j]\n",
    "            a[j] = temp\n",
    "print a \n"
   ]
  },
  {
   "cell_type": "markdown",
   "metadata": {
    "slideshow": {
     "slide_type": "slide"
    }
   },
   "source": [
    "# Some important problem types we'll look at. "
   ]
  },
  {
   "cell_type": "markdown",
   "metadata": {
    "slideshow": {
     "slide_type": "subslide"
    }
   },
   "source": [
    "# Sorting \n",
    "\n",
    "Examples include: \n",
    "\n",
    "* Sorting a list of names alphabetically\n",
    "* item Rearranging a vector so that the numbers appear in ascending order\n",
    "* item Shuffling a deck of cards n cards\n",
    "* item Ordering a list of students by GPA\n",
    "\n",
    "Soting algorithms can require memory in excess of the data set being sorted. \n",
    "\n",
    "No single sorting algorithm is the best for all use cases. "
   ]
  },
  {
   "cell_type": "code",
   "execution_count": null,
   "metadata": {
    "collapsed": true
   },
   "outputs": [],
   "source": []
  }
 ],
 "metadata": {
  "celltoolbar": "Slideshow",
  "kernelspec": {
   "display_name": "Python 2",
   "language": "python",
   "name": "python2"
  },
  "language_info": {
   "codemirror_mode": {
    "name": "ipython",
    "version": 2
   },
   "file_extension": ".py",
   "mimetype": "text/x-python",
   "name": "python",
   "nbconvert_exporter": "python",
   "pygments_lexer": "ipython2",
   "version": "2.7.11"
  }
 },
 "nbformat": 4,
 "nbformat_minor": 0
}
