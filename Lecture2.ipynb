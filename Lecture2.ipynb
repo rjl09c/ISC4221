{
 "cells": [
  {
   "cell_type": "markdown",
   "metadata": {
    "slideshow": {
     "slide_type": "slide"
    }
   },
   "source": [
    "# How to solve problems"
   ]
  },
  {
   "cell_type": "markdown",
   "metadata": {
    "slideshow": {
     "slide_type": "fragment"
    }
   },
   "source": [
    "Understand the problem"
   ]
  },
  {
   "cell_type": "markdown",
   "metadata": {
    "slideshow": {
     "slide_type": "fragment"
    }
   },
   "source": [
    "Design an algorithm to solve the problem"
   ]
  },
  {
   "cell_type": "markdown",
   "metadata": {
    "slideshow": {
     "slide_type": "fragment"
    }
   },
   "source": [
    "Implement your algorithm"
   ]
  },
  {
   "cell_type": "markdown",
   "metadata": {
    "slideshow": {
     "slide_type": "fragment"
    }
   },
   "source": [
    "Test your algorithm"
   ]
  },
  {
   "cell_type": "markdown",
   "metadata": {
    "slideshow": {
     "slide_type": "slide"
    }
   },
   "source": [
    "# Understanding your problem"
   ]
  },
  {
   "cell_type": "markdown",
   "metadata": {
    "slideshow": {
     "slide_type": "fragment"
    }
   },
   "source": [
    "What is the size of your problem?\n",
    "\n",
    "What is the domain of your problem?\n",
    "\n",
    "What are the parameters of your problem?\n",
    "\n",
    "What would a solution to your problem look like? "
   ]
  },
  {
   "cell_type": "markdown",
   "metadata": {
    "slideshow": {
     "slide_type": "subslide"
    }
   },
   "source": [
    "# Continuous vs Discrete"
   ]
  },
  {
   "cell_type": "markdown",
   "metadata": {
    "slideshow": {
     "slide_type": "fragment"
    }
   },
   "source": [
    "The difference between integers and real numbers"
   ]
  },
  {
   "cell_type": "markdown",
   "metadata": {
    "slideshow": {
     "slide_type": "fragment"
    }
   },
   "source": [
    "Discrete problems occupy domains on the integer line (integers, logicals, strings)\n",
    "\n",
    "If problem is defined on the range from 1 to 10, the problem is only defined at discrete points in this range \n",
    "\n",
    "{1,2,3,4,...,9,10}"
   ]
  },
  {
   "cell_type": "markdown",
   "metadata": {
    "slideshow": {
     "slide_type": "fragment"
    }
   },
   "source": [
    "Continuous problems occupy domains on the real number line. (floats, continuous functions, complex analysis)\n",
    "\n",
    "If problem is defined on the range from 1 to 10, the problem is defined at any and every point in this range. \n",
    "\n",
    "{1, 1.1, 1.01, 1.001,...} = [1,10] \n",
    "\n",
    "$$\\{ x \\in  \\mathbb{R}\n",
    " \\ \\ 1 \\leq x \\leq 10\\}$$\n",
    "\n",
    "In the limit where the interval between discrete points because 0, you move from discrete to continuous. "
   ]
  },
  {
   "cell_type": "markdown",
   "metadata": {
    "slideshow": {
     "slide_type": "subslide"
    }
   },
   "source": [
    "\n",
    "## Discrete \n",
    "<img src=\"http://i.imgur.com/5yJXxsF.png\" width=\"300\" height=\"300\" />\n",
    "\n",
    "## Continuous\n",
    "<img src=\"http://i.imgur.com/R606qSY.jpg\" width=\"300\" height=\"300\" />\n",
    "\n"
   ]
  },
  {
   "cell_type": "markdown",
   "metadata": {
    "slideshow": {
     "slide_type": "slide"
    }
   },
   "source": [
    "# Algorithm Design\n",
    "\n",
    "Once you (think you) understand your problem well enough. You attempt to write an algorithm to solve it. \n",
    "\n",
    "*\"An algorithm is a sequence of unambiguous instructions for solving a problem by obtaining a required output for any legitimate\n",
    "input in a finite amount of time.\"*\n",
    "\n",
    "Lack of ambiguity is key for flow of control. "
   ]
  },
  {
   "cell_type": "markdown",
   "metadata": {},
   "source": []
  },
  {
   "cell_type": "markdown",
   "metadata": {
    "slideshow": {
     "slide_type": "subslide"
    }
   },
   "source": [
    "# Describing algorithms\n",
    "\n",
    "Pseudocode vs Functioning Python Code\n",
    "\n",
    "Pseudocode for general algorithm discussion without focus on specific issues of implementation\n",
    "\n",
    "Python for nitty-gritty of functional algorithms. "
   ]
  },
  {
   "cell_type": "markdown",
   "metadata": {
    "slideshow": {
     "slide_type": "subslide"
    }
   },
   "source": [
    "# Sorting algorithm: Pseudocode vs Python "
   ]
  },
  {
   "cell_type": "markdown",
   "metadata": {
    "slideshow": {
     "slide_type": "fragment"
    }
   },
   "source": [
    "- for  i = 1, n-1 \n",
    "    - for j = 1, n-i\n",
    "        - if (a(j+1) > a(j)) swap a(j) and a(j+1)\n",
    "    - end for loop over j\n",
    "- end for loop over i"
   ]
  },
  {
   "cell_type": "code",
   "execution_count": 13,
   "metadata": {
    "collapsed": false,
    "slideshow": {
     "slide_type": "fragment"
    }
   },
   "outputs": [
    {
     "name": "stdout",
     "output_type": "stream",
     "text": [
      "[ 0.4666535   0.07095754  0.76452916  0.50066896  0.05677397  0.67523036\n",
      "  0.36997276  0.50972312  0.72036881  0.06081572]\n",
      "[ 0.05677397  0.06081572  0.07095754  0.36997276  0.4666535   0.50066896\n",
      "  0.50972312  0.67523036  0.72036881  0.76452916]\n"
     ]
    }
   ],
   "source": [
    "import numpy as np\n",
    "from math import *\n",
    "\n",
    "n = 10\n",
    "a = np.random.rand(10)\n",
    "\n",
    "print a\n",
    "\n",
    "for i in range(1,n-1):\n",
    "    for j in range(0,n-i):\n",
    "        if(a[j+1] < a[j]):\n",
    "            temp = a[j+1]\n",
    "            a[j+1] = a[j]\n",
    "            a[j] = temp\n",
    "print a \n"
   ]
  },
  {
   "cell_type": "markdown",
   "metadata": {
    "slideshow": {
     "slide_type": "slide"
    }
   },
   "source": [
    "# Some important problem types we'll look at. "
   ]
  },
  {
   "cell_type": "markdown",
   "metadata": {
    "slideshow": {
     "slide_type": "subslide"
    }
   },
   "source": [
    "# Sorting \n",
    "\n",
    "Examples include: \n",
    "\n",
    "* Sorting a list of names alphabetically\n",
    "* item Rearranging a vector so that the numbers appear in ascending order\n",
    "* item Shuffling a deck of cards n cards\n",
    "* item Ordering a list of students by GPA\n",
    "\n",
    "Soting algorithms can require memory in excess of the data set being sorted. \n",
    "\n",
    "No single sorting algorithm is the best for all use cases. "
   ]
  },
  {
   "cell_type": "markdown",
   "metadata": {
    "slideshow": {
     "slide_type": "subslide"
    }
   },
   "source": [
    "# Searching \n",
    "Examples include: \n",
    "* Searching a DNA string to identify the codon sequences that defines a protien \n",
    " - ATCGTATTGACACATATATCCAAATCGCA\n",
    "* Searching for a given value x in a numerical array a(1 :n)\n",
    "* given a set of points X, find the point z in X which is closest to some given point. \n",
    "* Determining of any two elements in an array are equal. \n",
    "If we a searching in a list and it is already sorted, we should take advantage of this. \n",
    " \n",
    "Might be worthwhile to sort the list. \n",
    "\n",
    "There is no single best searching algorithm"
   ]
  },
  {
   "cell_type": "markdown",
   "metadata": {
    "slideshow": {
     "slide_type": "subslide"
    }
   },
   "source": [
    "# Randomness\n",
    "Examples \n",
    "* Generating pseudorandom numbers\n",
    "* Random walks, stock market, path of a foraging animal\n",
    "* Brownian motion. "
   ]
  },
  {
   "cell_type": "markdown",
   "metadata": {
    "slideshow": {
     "slide_type": "subslide"
    }
   },
   "source": [
    "# Graph Problems\n",
    "\n",
    "* Konigsberg Bridge Problem\n",
    "* Mininmum Spanning tree\n",
    " - An example would be a cable TV company laying cable to a new neighborhood. If it is constrained to bury the cable only along certain paths, then there could be a graph representing which points are connected by those paths. A spanning tree of this system would be a subset of paths that connects each house to the grid without cycles (infinite loops)"
   ]
  },
  {
   "cell_type": "markdown",
   "metadata": {
    "slideshow": {
     "slide_type": "subslide"
    }
   },
   "source": [
    "# Optimization Problems \n",
    "\n",
    "\n",
    "* Traveling saleman problem\n",
    "<img src=\"http://i.imgur.com/rgnfxqR.png\" width=\"300\" height=\"300\" />\n",
    "\n",
    "* Napsack problem\n",
    "<img src=\"http://i.imgur.com/TbBSpEA.png\" width=\"300\" height=\"300\" />\n"
   ]
  },
  {
   "cell_type": "markdown",
   "metadata": {
    "slideshow": {
     "slide_type": "subslide"
    }
   },
   "source": [
    "# Data Mining and Clustering Problems \n",
    "\n",
    "Examples include:\n",
    "* Law enforcement - fraud detection, criminal profiling\n",
    "* Cenusus data\n",
    "* Medical statistics\n",
    "* Stock Market \n",
    "\n"
   ]
  },
  {
   "cell_type": "markdown",
   "metadata": {
    "slideshow": {
     "slide_type": "subslide"
    }
   },
   "source": [
    "# Computational Geometry Problems\n",
    "\n",
    "Examples include: \n",
    "* Grid Generation\n",
    "* Convex Hull Problem \n",
    "* Voronoi Diagrams "
   ]
  },
  {
   "cell_type": "markdown",
   "metadata": {
    "slideshow": {
     "slide_type": "subslide"
    }
   },
   "source": [
    "# Image Processing Problems \n",
    "Examples Include \n",
    "* Feature Extraction facial recognition, fingerprint matching\n",
    "<img src=\"http://i.imgur.com/HWgSS1G.png\" width=\"300\" heigth=\"300\" \\>\n",
    "* Edge detection\n",
    "* Image enhancement "
   ]
  },
  {
   "cell_type": "markdown",
   "metadata": {
    "slideshow": {
     "slide_type": "subslide"
    }
   },
   "source": [
    "# Numerical Problems \n",
    "These involve mathematical objects of continuous nature and were studied in Alg I \n",
    "* System of linear equations\n",
    "* Definite Integrals \n",
    "* Solving differential equations \n",
    "* Root-finding algorithmn \n",
    "* Function approximation."
   ]
  },
  {
   "cell_type": "markdown",
   "metadata": {
    "slideshow": {
     "slide_type": "slide"
    }
   },
   "source": [
    "# Common Approaches to Algorithm Design\n",
    "\n",
    "* Brute Force \n",
    "* Divide and Conquer\n",
    "* Decrease and Conquer\n",
    "* Transform and conquer\n",
    "* Greedy algorithms \n"
   ]
  },
  {
   "cell_type": "markdown",
   "metadata": {
    "slideshow": {
     "slide_type": "subslide"
    }
   },
   "source": [
    "# Brute Force or Method of Exhaustion\n",
    " * Straightforward approach to solving a problem\n",
    " * Usually not the best way to solve the problem, but conceptually simple and eassy to code. \n",
    " -  e.g. If searching a database of names for a \"Smith\", compare all database entries with \"Smith\" until your either find \"Smith\" or run out of entries\n",
    " -  e.g. In optimization, try out every  feasible solution to a problem and pick the best one. "
   ]
  },
  {
   "cell_type": "markdown",
   "metadata": {
    "slideshow": {
     "slide_type": "subslide"
    }
   },
   "source": [
    "# Divide and Conquer\n",
    "* Best known general algorithm design technique (Probably)\n",
    "* Divide the problem into several smaller subproblems that resemble the original problem. (These subproblems can also be subdivided. \n",
    "* Imagine you had the same database of names from the discussion on brute force, except in this case we explicitly know it's sort alphabetically. You can compare the middle entry in the database to \"Smith\". If this entry starts with a letter that comes before S alphabetically, you know that if \"Smith\" is in the database, it'll be in the second half. \n",
    "* Continue subdividing the domain and comparing until \"Smith\" is found or you hone in on the place it would be alphabetically and determine it's not there. "
   ]
  },
  {
   "cell_type": "markdown",
   "metadata": {
    "slideshow": {
     "slide_type": "subslide"
    }
   },
   "source": [
    "# Decrease and Conquer\n",
    "\n",
    "* Stragety based on exploiting the relationship between a solution to a problem of size *n* and a solution to a smaller problem. \n",
    "* Consider the problem of calculating $$\\pi^8$$\n",
    " Brute force approach is $$\\pi * \\pi * \\pi * \\pi * \\pi * \\pi * \\pi * \\pi$$ \n",
    " Decrease and conquers makes use of the fact that: $$\\pi^8 = \\pi^4 \\pi^4$$ and: $$ \\pi^4 = \\pi^2 \\pi^2$$ and: $$\\pi^2 = \\pi \\pi$$\n",
    "* Same result can be computed in 3 multiplications istead of 7. "
   ]
  },
  {
   "cell_type": "markdown",
   "metadata": {
    "slideshow": {
     "slide_type": "subslide"
    }
   },
   "source": [
    "# Transform and Conquer \n",
    "\n",
    "* This approach involves changing the original problem into another, easier to solve form. \n",
    "* Common in mathematics. Imagine trying to calculate the area for a circle from first principles. \n",
    "  * In Cartesian, this would be the solution the the integral: \n",
    "  $$ A = \\int_D{(x^2+y^2)dxdy} $$\n",
    "  * Where D is the unit circle \n",
    " * Can be transformed to a problem in polar coordinates through the transform:\n",
    " $$ r' = \\sqrt{x^2+y^2} $$\n",
    " $$ x = \\cos(\\theta), y = \\sin(\\theta) $$\n",
    " * Which gives you the double integral\n",
    " $$ \\int_0^{2\\pi}{\\int_0^r {r'\\ dr d \\theta }} = \\pi r^2$$"
   ]
  },
  {
   "cell_type": "markdown",
   "metadata": {
    "slideshow": {
     "slide_type": "subslide"
    }
   },
   "source": [
    "# Greedy Algorithms \n",
    "* Uses a sequence of steps to construct a solution where at each step a choice is made that satisfies two conditions. \n",
    "  1. It is the best possible choice available at the time\n",
    "  2. The choice is irrevocable and cannot be changed. \n",
    "* These are used for optimazation problems. \n",
    "* Guaranteed to work if the problem is linear or strictly monotinocally varying. "
   ]
  },
  {
   "cell_type": "markdown",
   "metadata": {
    "slideshow": {
     "slide_type": "subslide"
    }
   },
   "source": [
    "# Greedy algorthim example: The Change Problem\n",
    "Consider the problem of choosing the smallest number of coins to give out change of 43 cents. We have coints in 25, 10, 5, and 1 cent denominations. \n",
    "* On the first step available, we select 1 coin, the largest coin we can without going over 43 cents. This would be a quarter. \n",
    "* Having chose a quarter, we have to determine how to make change for the remaining 43 - 25 = 18 cents. \n",
    "* The second step, a quarter is no longer feasible, as it it greater than 18, so we make the next largest choice, a dime. \n",
    "* Now we have 18-10=8 cents we have to account for. \n",
    "* The third step, neither a quarter or a dime are feasible anymore, so we go with the nickle. \n",
    "* Now we have 8 - 5 = 3 cents to account for. \n",
    "* We can only chose pennies from here on out, so we come up with our solution. 6 is the smallest number of coins that can generate 43 cents. a quarter, a dime, a nickle and 3 pennies. \n",
    "* Contrast this with the brute force approach. "
   ]
  },
  {
   "cell_type": "markdown",
   "metadata": {
    "slideshow": {
     "slide_type": "slide"
    }
   },
   "source": [
    "# Comparing Algorithms\n",
    "\n",
    "Given two distinct algorithms that solve the same problem, then how can we determine if one is better than the other? Some choices. \n",
    "\n",
    "* Storage requirements: the amount of memory each algorithm uses. \n",
    "* Wall clock time: How long it takes algorithms to find the correct solution. \n",
    "* Efficency of the algorithm: How much work does the algorithm due for a problem of a given size. \n",
    "  * Recall wanting to calculate $\\pi^8$, one of algorithms took 7 operations, one of them took 3. \n",
    "  \n",
    "## Size of the problem \n",
    " The size of the problem is a function of some parameter, $n$ . Some examples:\n",
    " * For a square matrix problem, the size the number of rows/colums. \n",
    " * For a problem solved on a grid, it would be the number of grid points. \n",
    " * For a problem of searching through an array, it would be the number of elements in the array. \n",
    " * For the traveling salesman problem, it would be the number of cities they must visit. "
   ]
  },
  {
   "cell_type": "markdown",
   "metadata": {
    "slideshow": {
     "slide_type": "subslide"
    }
   },
   "source": [
    "# Problem size\n",
    "\n",
    "For small $n$, algorithm choice is not terribly important in terms of effeciency/storage requirements. \n",
    "\n",
    "Complexity in implementation probably a more pressing concern. \n",
    "\n",
    "For larger problems (large $n$), or problems we intend on solving many many times, efficienty/storage becomes a consideration. "
   ]
  },
  {
   "cell_type": "markdown",
   "metadata": {
    "slideshow": {
     "slide_type": "subslide"
    }
   },
   "source": [
    "# Storage Requirements\n",
    "\n",
    "The \"space-on-disk consideration\".\n",
    "\n",
    "If one algorithm can do the same calculation with smaller memory footprints, it is better by this metric. \n",
    "\n",
    "Consider the two following two functions; Which is better by this metric? "
   ]
  },
  {
   "cell_type": "code",
   "execution_count": 14,
   "metadata": {
    "collapsed": true,
    "slideshow": {
     "slide_type": "fragment"
    }
   },
   "outputs": [],
   "source": [
    "def addalgorithm1(a,b,c):\n",
    "    #Adds the arrays a and b, stores them in c.  \n",
    "    #Assumes a and b are the same length (This is a demo function, not BLAS)\n",
    "    for i in 0,len(a)-1:\n",
    "        c[i] = a[i]+b[i]\n",
    "    return c    "
   ]
  },
  {
   "cell_type": "code",
   "execution_count": 15,
   "metadata": {
    "collapsed": false,
    "slideshow": {
     "slide_type": "fragment"
    }
   },
   "outputs": [],
   "source": [
    "def addalgorithm2(a,b):\n",
    "    #Adds the arrays a and b, stores them in a.  \n",
    "    #Assumes a and b are the same length (This is a demo function, not BLAS)\n",
    "    for i in 0,len(a)-1:\n",
    "        a[i] = a[i]+b[i]\n",
    "    return a    \n",
    "    "
   ]
  },
  {
   "cell_type": "markdown",
   "metadata": {
    "slideshow": {
     "slide_type": "subslide"
    }
   },
   "source": [
    "# Wall clock time \n",
    "\n",
    "The amount of time that passes over the execution of a program, algorithm, or function, as shown by a (functioning) clock on the wall. \n",
    "\n",
    "If algorithm A solves the problem in significantly less time than algorithm B, one might conclude that this algorithm is better. \n",
    "\n",
    "This is not neccesarily the case. \n",
    "* Algorithm A may be significantly better implemented (faster initialization, etc)\n",
    "* Algorithm A may run faster for problems of certain size $n$, but slower for others of a different size"
   ]
  },
  {
   "cell_type": "markdown",
   "metadata": {
    "slideshow": {
     "slide_type": "subslide"
    }
   },
   "source": [
    "# Measuring  wall clock time\n",
    "\n",
    "## C++\n",
    "```c++\n",
    "#include <ctime>\n",
    "     std::clock_t    start;\n",
    "\n",
    "     time = std::clock();\n",
    "```\n",
    "\n",
    "## Fortran 90\n",
    "```fortran\n",
    "call system_clock ( time, clock_rate, clock_max )\n",
    "```\n",
    "\n",
    "\n",
    "## Matlab\n",
    "```matlab\n",
    "time = tic\n",
    "```"
   ]
  },
  {
   "cell_type": "markdown",
   "metadata": {
    "slideshow": {
     "slide_type": "subslide"
    }
   },
   "source": [
    "# Measuring wall clock time\n",
    "## Python"
   ]
  },
  {
   "cell_type": "code",
   "execution_count": 16,
   "metadata": {
    "collapsed": true,
    "slideshow": {
     "slide_type": "fragment"
    }
   },
   "outputs": [],
   "source": [
    "import time\n",
    "time1 = time.clock()"
   ]
  },
  {
   "cell_type": "code",
   "execution_count": 17,
   "metadata": {
    "collapsed": false,
    "slideshow": {
     "slide_type": "fragment"
    }
   },
   "outputs": [
    {
     "name": "stdout",
     "output_type": "stream",
     "text": [
      "0.0212061957146\n"
     ]
    }
   ],
   "source": [
    "time2 = time.clock()\n",
    "print time2-time1"
   ]
  },
  {
   "cell_type": "markdown",
   "metadata": {
    "slideshow": {
     "slide_type": "subslide"
    }
   },
   "source": [
    "# Efficiency \n",
    "If wall clock time can be a misleading indicator of which algorithm is 'better' in general, what can we use?\n",
    "\n",
    "Estimate the amount of work (number of calculations) the algorithm performs as a function of the size of the problem $n$"
   ]
  },
  {
   "cell_type": "markdown",
   "metadata": {
    "slideshow": {
     "slide_type": "fragment"
    }
   },
   "source": [
    "### Experiment\n",
    "Suppose we are able to count the number of calculations ($+,-,\\times,/$) two algorithms perform (A and B) as a function of the problem size, $n$. These functions describing the amount of work each does are:\n",
    "$$ W_A = 3n+21$$\n",
    "$$ W_B = N^2+10N+5 $$\n",
    "\n",
    "What are the implications of this. "
   ]
  },
  {
   "cell_type": "markdown",
   "metadata": {
    "slideshow": {
     "slide_type": "subslide"
    }
   },
   "source": [
    "# Efficiency (cont...)\n",
    "Let's look how the amount of work for algorthim A behaves with $n$, looking at how each term contributes. \n",
    "$$ W_A = 3n+21$$\n",
    "\n"
   ]
  },
  {
   "cell_type": "code",
   "execution_count": 18,
   "metadata": {
    "collapsed": true,
    "slideshow": {
     "slide_type": "skip"
    }
   },
   "outputs": [],
   "source": [
    "%matplotlib inline\n",
    "\n",
    "import matplotlib\n",
    "import numpy as np\n",
    "import matplotlib.pyplot as plt\n",
    "import scipy"
   ]
  },
  {
   "cell_type": "code",
   "execution_count": 19,
   "metadata": {
    "collapsed": false,
    "slideshow": {
     "slide_type": "fragment"
    }
   },
   "outputs": [
    {
     "data": {
      "text/plain": [
       "<matplotlib.text.Text at 0x7844160>"
      ]
     },
     "execution_count": 19,
     "metadata": {},
     "output_type": "execute_result"
    },
    {
     "data": {
      "image/png": "[encoded data removed]",
      "text/plain": [
       "<matplotlib.figure.Figure at 0x76ad4e0>"
      ]
     },
     "metadata": {},
     "output_type": "display_data"
    }
   ],
   "source": [
    "def WorkA (n):\n",
    "    term1 = 3*n\n",
    "    term2 = 21+n*0\n",
    "    total = 3*n+21\n",
    "    return(term1,term2, total)\n",
    "\n",
    "nrange = np.linspace(1,100,100)\n",
    "\n",
    "[term1A, term2A, totalA] = WorkA(nrange)\n",
    "plt.plot(nrange, term1A, 'r--', nrange, term2A, 'r*', nrange, totalA, 'r')\n",
    "plt.title('Work in Algorithm A as a function of n')"
   ]
  },
  {
   "cell_type": "markdown",
   "metadata": {
    "slideshow": {
     "slide_type": "subslide"
    }
   },
   "source": [
    "# Efficiency (cont...)\n",
    "Lets do the same for B. \n",
    "$$ W_B = n^2+10n+5$$\n"
   ]
  },
  {
   "cell_type": "code",
   "execution_count": 20,
   "metadata": {
    "collapsed": false,
    "slideshow": {
     "slide_type": "fragment"
    }
   },
   "outputs": [
    {
     "data": {
      "text/plain": [
       "<matplotlib.text.Text at 0x7ff3be0>"
      ]
     },
     "execution_count": 20,
     "metadata": {},
     "output_type": "execute_result"
    },
    {
     "data": {
      "image/png": "[encoded data removed]",
      "text/plain": [
       "<matplotlib.figure.Figure at 0x781eeb8>"
      ]
     },
     "metadata": {},
     "output_type": "display_data"
    }
   ],
   "source": [
    "def WorkB (n):\n",
    "    term1 = n**2\n",
    "    term2 = 10*n\n",
    "    term3 = 5+0*n\n",
    "    total = term1 + term2 + term3\n",
    "    return(term1,term2,term3, total)\n",
    "\n",
    "\n",
    "[term1B, term2B, term3B, totalB] = WorkB(nrange)\n",
    "plt.plot(nrange, term1B, 'b--', nrange, term2B, 'b*',nrange, term3B, 'b+', nrange, totalB, 'b')\n",
    "plt.title('Work in Algorithm B as a function of n')"
   ]
  },
  {
   "cell_type": "markdown",
   "metadata": {
    "slideshow": {
     "slide_type": "subslide"
    }
   },
   "source": [
    "# Efficiency takeaways. \n",
    "\n",
    "Algorithm work tracks very closely with the leading (fastest growing) term. Typically for simplicities sake, we drop all leading terms when describing algorithm work. \n",
    "\n",
    "Now lets compare A vs B. "
   ]
  },
  {
   "cell_type": "code",
   "execution_count": 21,
   "metadata": {
    "collapsed": false,
    "slideshow": {
     "slide_type": "fragment"
    }
   },
   "outputs": [
    {
     "data": {
      "text/plain": [
       "<matplotlib.text.Text at 0x81d6710>"
      ]
     },
     "execution_count": 21,
     "metadata": {},
     "output_type": "execute_result"
    },
    {
     "data": {
      "image/png": "[encoded data removed]",
      "text/plain": [
       "<matplotlib.figure.Figure at 0x782d5c0>"
      ]
     },
     "metadata": {},
     "output_type": "display_data"
    }
   ],
   "source": [
    "plt.plot(nrange, totalA, 'r', nrange, totalB, 'b')\n",
    "plt.title('Comparison of work for Algorithms A and B')\n",
    "\n"
   ]
  },
  {
   "cell_type": "markdown",
   "metadata": {
    "slideshow": {
     "slide_type": "fragment"
    }
   },
   "source": [
    "**Algorithm A solves the same problem with significantly less work**\n",
    "\n",
    "A is said to be linear while B is said to be quadratic. "
   ]
  },
  {
   "cell_type": "markdown",
   "metadata": {
    "slideshow": {
     "slide_type": "subslide"
    }
   },
   "source": [
    "# Terminology\n",
    "\n",
    "When the leading term of work is a constant $c$ times $n$, we say the method is: \n",
    "* has linear growth in $n$\n",
    "* is order $n$ \n",
    "* $\\mathcal{O}(n)$ (Big O notation)\n",
    "\n",
    "When the leading term of work is a constant $c$ times $n^2$, we say the method is: \n",
    "* has quadratic growth in $n$\n",
    "* is order $n^2$ \n",
    "* $\\mathcal{O}(n^2)$ (Big O notation)"
   ]
  },
  {
   "cell_type": "markdown",
   "metadata": {
    "slideshow": {
     "slide_type": "subslide"
    }
   },
   "source": [
    "# Polynomial Growth\n",
    "\n",
    "Linear and Quadratic growth are examples of polynomial growth. \n",
    "\n",
    "Any Algorithm that grows in terms of $\\mathcal{O}(n^p)$ where $p>0$ is said to have polynomial growth. P can be, but doesn't have to be an integer. \n",
    "\n",
    "$\\mathcal{O}(n^p)$ means the leading term in the work is $cn^p$ for some positive constant $c$. \n",
    "\n",
    "As $p$ goes up, so does the amount of work as a function of $n$. "
   ]
  },
  {
   "cell_type": "markdown",
   "metadata": {
    "slideshow": {
     "slide_type": "subslide"
    }
   },
   "source": [
    "# Other grow rates\n",
    "\n",
    "Some algorithms have been found to have logarithmic growth rates (binary search for example)\n",
    "* growths a $\\mathcal{O}(\\log(n))$\n",
    "* independent of logarithmic base ($\\log_a(n)$)\n",
    "Howe does this compare to some polynomial growths. \n"
   ]
  },
  {
   "cell_type": "code",
   "execution_count": 22,
   "metadata": {
    "collapsed": false,
    "slideshow": {
     "slide_type": "fragment"
    }
   },
   "outputs": [
    {
     "data": {
      "text/plain": [
       "[<matplotlib.lines.Line2D at 0x848ebe0>,\n",
       " <matplotlib.lines.Line2D at 0x848eda0>,\n",
       " <matplotlib.lines.Line2D at 0x849d358>]"
      ]
     },
     "execution_count": 22,
     "metadata": {},
     "output_type": "execute_result"
    },
    {
     "data": {
      "image/png": "[encoded data removed]",
      "text/plain": [
       "<matplotlib.figure.Figure at 0x81c9240>"
      ]
     },
     "metadata": {},
     "output_type": "display_data"
    }
   ],
   "source": [
    "x = np.linspace(0.0001,5,100)\n",
    "linear = x\n",
    "quadratic = x**2\n",
    "logarithmic = np.log(x)\n",
    "plt.plot(x, linear, 'b--', x, quadratic, 'b*',x, logarithmic, 'b+')\n"
   ]
  },
  {
   "cell_type": "markdown",
   "metadata": {
    "collapsed": true,
    "slideshow": {
     "slide_type": "subslide"
    }
   },
   "source": [
    "# Other growth rates\n",
    "\n",
    "Logarithmic ones \n",
    "* $n\\log(n)$ \n",
    "* $n^2\\log(n)$\n",
    "* $n\\log(n)^2$\n",
    "\n",
    "Exponential Growth rates\n",
    "* $2^n$\n",
    "* $1.5^n$\n",
    "* $5^n$\n",
    "\n",
    "Factorial growth, $n!$\n",
    "* For practical purposes, $n^n$\n",
    "* 'Impossible'"
   ]
  },
  {
   "cell_type": "code",
   "execution_count": 23,
   "metadata": {
    "collapsed": false,
    "slideshow": {
     "slide_type": "fragment"
    }
   },
   "outputs": [
    {
     "data": {
      "text/plain": [
       "[<matplotlib.lines.Line2D at 0x86a8f60>]"
      ]
     },
     "execution_count": 23,
     "metadata": {},
     "output_type": "execute_result"
    },
    {
     "data": {
      "image/png": "[encoded data removed]",
      "text/plain": [
       "<matplotlib.figure.Figure at 0x83c79b0>"
      ]
     },
     "metadata": {},
     "output_type": "display_data"
    }
   ],
   "source": [
    "from scipy.special import factorial\n",
    "x = range(1,15)\n",
    "factor = factorial(x)\n",
    "plt.semilogy(factor)"
   ]
  },
  {
   "cell_type": "markdown",
   "metadata": {
    "collapsed": true,
    "slideshow": {
     "slide_type": "subslide"
    }
   },
   "source": [
    "<img src=\"http://i.imgur.com/3bBDXUS.png\" width=\"500\" heigth=\"500\" \\>\n"
   ]
  },
  {
   "cell_type": "markdown",
   "metadata": {},
   "source": [
    "# Worst & Best Case Scenarios\n",
    "Sometimes it is useful to consider what is the best or worst case scenario for your algorithm. \n",
    "\n",
    "It's possible that your algorithm performs well on most instances of the input, but a few cases cause it perform very poorly\n",
    "* Rarely the case in practice. \n",
    "\n",
    "### Example: Worst and Best case scenario.\n",
    "Brute for search for an element equal to a value in an array. \n",
    "* Best case scenario: first element in array is equal to the value. \n",
    "* Worst case scenario: \n",
    "* Average case scenario: ?"
   ]
  },
  {
   "cell_type": "markdown",
   "metadata": {
    "slideshow": {
     "slide_type": "subslide"
    }
   },
   "source": [
    "# How to calculate growth rate\n",
    "Example algorithm, the dot product of two vectors. \n",
    "\n",
    "$$\\vec{u}^T\\vec{v}=\\vec{u}\\cdot\\vec{v} = \\sum_i^n{u_i v_i}$$\n",
    "\n",
    "Ignoring initializations/memory read/writes, we have. \n",
    "\n",
    "* $n$ multiplications\n",
    "* $n-1$ additions. \n",
    "\n",
    "For $2n-1$ total operations. \n",
    "\n",
    "What is this in Big-O?"
   ]
  },
  {
   "cell_type": "markdown",
   "metadata": {
    "slideshow": {
     "slide_type": "subslide"
    }
   },
   "source": [
    "# Growth rate for Brute Force Algorithms\n",
    "\n",
    "The exhaustive enumeration approach. \n",
    "\n",
    "Very quick to code. \n",
    "\n",
    "### Example: Greatest Common factor calculator\n",
    "\n",
    "For two integers, m and n, calculate their greatest common factor. \n",
    "\n",
    "``` \n",
    "t = min(m,n)\n",
    "while (gcf == 0)\n",
    "    if (m % t == 0)\n",
    "        if (n % t == 0)\n",
    "            gcf = t\n",
    "    t = t - 1\n",
    "```"
   ]
  },
  {
   "cell_type": "markdown",
   "metadata": {
    "collapsed": true,
    "slideshow": {
     "slide_type": "subslide"
    }
   },
   "source": [
    "### Example for m = 16, n = 36\n",
    "\n",
    "1. t = min(16,36) = 16 \n",
    " * 16 % t == 0, 36 % t != 0 \n",
    "2. t = 15\n",
    " * 16 % t != 0\n",
    "3. t = 14\n",
    " * 16 % t != 0\n",
    "\n",
    "\n",
    "\n",
    "* t = 4\n",
    " * 16 % t == 0, 36 % t == 0\n",
    " * Stop, gcf = 4 "
   ]
  },
  {
   "cell_type": "markdown",
   "metadata": {
    "slideshow": {
     "slide_type": "slide"
    }
   },
   "source": [
    "# Sorting a list\n",
    "\n",
    "Suppose we have a list of n orderable items (names, numbers, etc), and we wish to sort them basde on some criterea. \n",
    "\n",
    "* Plenty of obvious reasons for doing something like this.\n",
    "* Dozens of sorting algorithms have been developed. \n",
    "\n",
    "Lets look at a couple brute form approaches to this problem before refining our algorithm. For simplicity, we'll assume we are putting a list of numbers in ascending order"
   ]
  },
  {
   "cell_type": "markdown",
   "metadata": {
    "slideshow": {
     "slide_type": "subslide"
    }
   },
   "source": [
    "# Selection Sort\n",
    "This algorithm works by first getting the smallest element into the first position of the array, then by getting the second smallest into the second position, etc...\n",
    "\n",
    "* Scan whole list to find smallest entry and exchange first entry of list with the smallest entry\n",
    "* Scan entries 2 through n to find the smallest entry in this sublist and exchange to be in position 2. \n",
    "* Scan entries 3 through n to find the smallest entry remaining and put it in position 3. \n",
    "* Continue until you start out on entry n-1. \n",
    "\n",
    "This results in a sorted list. \n",
    "\n",
    "You can also start on the other end if you feel the need. "
   ]
  },
  {
   "cell_type": "markdown",
   "metadata": {
    "slideshow": {
     "slide_type": "subslide"
    }
   },
   "source": [
    "## Selection sort code"
   ]
  },
  {
   "cell_type": "code",
   "execution_count": 24,
   "metadata": {
    "collapsed": false,
    "slideshow": {
     "slide_type": "fragment"
    }
   },
   "outputs": [],
   "source": [
    "def selectionsort(arr):\n",
    "    #Uses selection sort algorithm to sort input array\n",
    "    n = len(arr)\n",
    "    for i in range (0,n-1):\n",
    "        minlocation = i\n",
    "        for j in range(i+1,n):\n",
    "            if(arr[j] < arr[minlocation]):\n",
    "                minlocation = j\n",
    "        arrmin = arr[minlocation]\n",
    "        arr[minlocation] = arr[i]\n",
    "        arr[i] = arrmin\n",
    "        print arr\n",
    "    return arr\n",
    "    \n",
    "    "
   ]
  },
  {
   "cell_type": "markdown",
   "metadata": {
    "slideshow": {
     "slide_type": "subslide"
    }
   },
   "source": [
    "# Selection sort\n",
    "\n",
    "We'll take a look at this for a specific array"
   ]
  },
  {
   "cell_type": "code",
   "execution_count": 25,
   "metadata": {
    "collapsed": false,
    "slideshow": {
     "slide_type": "fragment"
    }
   },
   "outputs": [
    {
     "name": "stdout",
     "output_type": "stream",
     "text": [
      "[12, 61, 19, 49, 45]\n",
      "[12, 19, 61, 49, 45]\n",
      "[12, 19, 45, 49, 61]\n",
      "[12, 19, 45, 49, 61]\n"
     ]
    },
    {
     "data": {
      "text/plain": [
       "[12, 19, 45, 49, 61]"
      ]
     },
     "execution_count": 25,
     "metadata": {},
     "output_type": "execute_result"
    }
   ],
   "source": [
    "array = [49,61,19,12,45]\n",
    "\n",
    "selectionsort(array)"
   ]
  },
  {
   "cell_type": "markdown",
   "metadata": {
    "slideshow": {
     "slide_type": "subslide"
    }
   },
   "source": [
    "# Selection sort work\n",
    "* The amount of work varies by n\n",
    "\n",
    "Borrow some calculus identities to help us count the number of calculations. \n",
    "$$ \\sum_{i=1}^{m-1} i = \\frac{m(m-1)}{2}$$ \n",
    "$$ \\sum_{i=1}^{m} i^2 = \\frac{m(m+1)(2m+1}{6}$$ \n",
    "\n",
    "The meaningful operation being done by selection sort is the comparision of the entries in the array. We do one of these for each iteration of the inner loop, so our operation count is given by. \n",
    "\n",
    "$$ \\sum_{i=1}^{n-1}\\sum_{j=i+1}^{n}1 $$\n",
    "Calculate the cost of the full inner loop for given outer loop iteration. \n",
    "$$ \\sum_{i=1}^{n-1} (n-(i+1)+1) $$ \n",
    "Now for the full cost\n",
    "$$ \\sum_{i=1}^{n-1} n - \\sum_{i=1}^{n-1} i $$\n",
    "It is apparent that this is equal to $n(n-1)-\\frac{(n-1)n}{2}$"
   ]
  },
  {
   "cell_type": "markdown",
   "metadata": {
    "slideshow": {
     "slide_type": "subslide"
    }
   },
   "source": [
    "## Bubble sort\n",
    "\n",
    "Also a brute force approach. \n",
    "\n",
    "Works by having the largest entries 'bubble to the top'"
   ]
  },
  {
   "cell_type": "markdown",
   "metadata": {
    "slideshow": {
     "slide_type": "subslide"
    }
   },
   "source": [
    "# Musical Intermission"
   ]
  },
  {
   "cell_type": "code",
   "execution_count": 26,
   "metadata": {
    "collapsed": false,
    "slideshow": {
     "slide_type": "fragment"
    }
   },
   "outputs": [
    {
     "data": {
      "image/jpeg": "[encoded data removed]",
      "text/html": [
       "\n",
       "        <iframe\n",
       "            width=\"400\"\n",
       "            height=\"300\"\n",
       "            src=\"https://www.youtube.com/embed/lyZQPjUT5B4\"\n",
       "            frameborder=\"0\"\n",
       "            allowfullscreen\n",
       "        ></iframe>\n",
       "        "
      ],
      "text/plain": [
       "<IPython.lib.display.YouTubeVideo at 0x828ed68>"
      ]
     },
     "execution_count": 26,
     "metadata": {},
     "output_type": "execute_result"
    }
   ],
   "source": [
    "\n",
    "from IPython.display import YouTubeVideo\n",
    "YouTubeVideo('lyZQPjUT5B4')"
   ]
  },
  {
   "cell_type": "markdown",
   "metadata": {
    "slideshow": {
     "slide_type": "subslide"
    }
   },
   "source": [
    "# Bubble sort description\n",
    "\n",
    "The goal of the first sweep is to get the largest entry to the last position. \n",
    "\n",
    "* We do this be comparing entry 1 and entry 2. If entry 2 is larger, we do nothing, if entry 1 is, we swap them. \n",
    "\n",
    "* We then compare entry 2 and entry 3, if entry 3 is larger, we do nothing, if 2 is, we swap them. \n",
    "\n",
    "* Ad n-finitum. \n",
    "\n",
    "After the first sweep, we do the same thing, now with our goal of getting the second largest enry into the second to last spot. \n",
    "* only have to loop over 1 through n-1 on second sweep. \n",
    "* 1 through n-2 on third sweep.\n",
    "* etc..."
   ]
  },
  {
   "cell_type": "markdown",
   "metadata": {
    "slideshow": {
     "slide_type": "subslide"
    }
   },
   "source": [
    "# Bubble sort code"
   ]
  },
  {
   "cell_type": "code",
   "execution_count": 27,
   "metadata": {
    "collapsed": false,
    "slideshow": {
     "slide_type": "fragment"
    }
   },
   "outputs": [],
   "source": [
    "def bubblesort(arr):\n",
    "    n = len(arr)\n",
    "    for i in range(0,n-2):\n",
    "        for j in range(0,n-(i+1)):\n",
    "            if(arr[j+1] < arr[j]):\n",
    "                arrbigger = arr[j+1]\n",
    "                arr[j+1] = arr[j]\n",
    "                arr[j] = arrbigger\n",
    "            print arr\n",
    "    return arr\n",
    "        \n"
   ]
  },
  {
   "cell_type": "markdown",
   "metadata": {
    "slideshow": {
     "slide_type": "subslide"
    }
   },
   "source": [
    "# Bubble sort example "
   ]
  },
  {
   "cell_type": "code",
   "execution_count": 28,
   "metadata": {
    "collapsed": false,
    "slideshow": {
     "slide_type": "fragment"
    }
   },
   "outputs": [
    {
     "name": "stdout",
     "output_type": "stream",
     "text": [
      "[49, 61, 19, 12, 45]\n",
      "[49, 19, 61, 12, 45]\n",
      "[49, 19, 12, 61, 45]\n",
      "[49, 19, 12, 45, 61]\n",
      "[19, 49, 12, 45, 61]\n",
      "[19, 12, 49, 45, 61]\n",
      "[19, 12, 45, 49, 61]\n",
      "[12, 19, 45, 49, 61]\n",
      "[12, 19, 45, 49, 61]\n"
     ]
    },
    {
     "data": {
      "text/plain": [
       "[12, 19, 45, 49, 61]"
      ]
     },
     "execution_count": 28,
     "metadata": {},
     "output_type": "execute_result"
    }
   ],
   "source": [
    "array = [49,61,19,12,45]\n",
    "bubblesort(array)"
   ]
  },
  {
   "cell_type": "markdown",
   "metadata": {
    "slideshow": {
     "slide_type": "subslide"
    }
   },
   "source": [
    "# Bubble sort work \n",
    "\n",
    "Because you're looping over sums of the same size as in the selection sort, and because you're doing the same number of operations in each inner loop, 1, this can be shown to take the same number of operations as the selection sort algorithm. "
   ]
  },
  {
   "cell_type": "markdown",
   "metadata": {
    "slideshow": {
     "slide_type": "slide"
    }
   },
   "source": [
    "# Exhaustive searches\n",
    "\n",
    "Brute forcely enumerate all possible combinations of every feasible solution and picks the one that satisfies the given critera. \n",
    "\n",
    "* is $\\mathcal{n!}$\n",
    "\n",
    "### Travelinig salesman problem\n",
    "The Traveling salesman problem is the problem of finding the shortest path to visit all of a number of cities $n$, providide\n",
    "* you know the distance each city is from all others\n",
    "* you visit each city once and only once\n",
    "There are $~n!$ number of combinations, so this problem is impossible right?"
   ]
  },
  {
   "cell_type": "markdown",
   "metadata": {
    "slideshow": {
     "slide_type": "fragment"
    }
   },
   "source": [
    "Only for brute force algorithms that seek to enumerate all $n!$\n",
    "\n",
    "There exist heuristic/exact methods that solve it much quicker, and problems with thousands of cities have been solved. \n",
    "\n",
    "This have applications for planning, logistics, microchip design, DNA sequencing, etc..."
   ]
  },
  {
   "cell_type": "markdown",
   "metadata": {
    "slideshow": {
     "slide_type": "subslide"
    }
   },
   "source": [
    "# TSP Example \n",
    "\n",
    "Consider 4 cities, A,B,C, and Leipzig, and the distance function for them given as d(X,Y)\n",
    "\n",
    "d(A,B) = 10,  d(A,C) = 70,  d(A,Leipzig) = 110\n",
    "\n",
    "d(B,C) = 40,  d(B,Leipzig)=60,  d(C,Leipzig) = 30\n",
    "\n",
    "Lets enumerate all the possible combinations and pick one. \n"
   ]
  },
  {
   "cell_type": "markdown",
   "metadata": {
    "slideshow": {
     "slide_type": "fragment"
    }
   },
   "source": [
    "* A B C L = 10+40+30+110 = 190\n",
    "* A B L C = 10+60+30+70  = 160\n",
    "* A C L B = 70+30+60+10  = 170\n",
    "* A C B L = 70+40+60+110 = 280\n",
    "* A L B C = 110+60+40+70 = 280\n",
    "* A L C B = 110+20+40+10 = 190\n",
    "\n",
    "Shortest path is: A B L C"
   ]
  },
  {
   "cell_type": "markdown",
   "metadata": {
    "slideshow": {
     "slide_type": "slide"
    }
   },
   "source": [
    "# Decrease and Conquer Algorithms\n",
    "\n",
    "* Design strategy based on exploiting the relationship between a solution to a given problem and the solution to a smaller interest of the same problem. \n",
    "\n",
    "* Generalized example of computing a number to a power. Computing $a^n$. \n",
    "\n",
    "For even numbers \n",
    "$$ a^n = (a^{n/2})^2 $$\n",
    "For odd numbers\n",
    "$$ a^n = a a^{n-1} = a(a^{(n-1)/2})^2$$"
   ]
  },
  {
   "cell_type": "markdown",
   "metadata": {
    "slideshow": {
     "slide_type": "subslide"
    }
   },
   "source": [
    "# Decrease and Conquer with recursion. \n",
    "\n",
    "$$ a^n = \\begin{cases} (a^{n/2})^2 \\ \\ \\ \\ \\ \\ \\ \\ \\ \\ \\ \\ \\mbox{if } n \\mbox{  is even} \\\\\n",
    "(a^{(n-1)/2})^2 \\ \\ \\ \\ \\ \\ \\mbox{ if } n \\mbox{ is odd and} \\neq 1 \\\\\n",
    "a \\mbox{ if }\\ \\ \\ \\ \\ \\ \\ \\ \\ \\ \\ \\ \\ \\ \\ \\ \\ n \\equiv 1 \\end{cases}\n",
    "$$\n",
    "\n",
    "#### Example when $n=8$ \n",
    "$\\pi^8 = \\pi^4 \\pi^4 = ((\\pi^2)^2)^2$\n",
    "\n",
    "#### Example when $n=9$\n",
    "$\\pi ^9 = \\pi \\pi^8 = \\pi (\\pi^4 \\pi^4) = \\pi ((\\pi^2)^2)^2$\n"
   ]
  },
  {
   "cell_type": "markdown",
   "metadata": {
    "slideshow": {
     "slide_type": "subslide"
    }
   },
   "source": [
    "# Recursive Algorithm\n",
    "\n",
    "Algorithm that calls itself with some modified input. \n",
    "Once modified input meets some criteria; stops calling itself and passes results up the chain."
   ]
  },
  {
   "cell_type": "code",
   "execution_count": 29,
   "metadata": {
    "collapsed": false,
    "slideshow": {
     "slide_type": "fragment"
    }
   },
   "outputs": [
    {
     "name": "stdout",
     "output_type": "stream",
     "text": [
      "Taking 2 to the 6\n",
      "Taking 2 to the 3\n",
      "Taking 2 to the 2\n",
      "Taking 2 to the 1\n",
      "Taking 2 to the 0\n"
     ]
    },
    {
     "data": {
      "text/plain": [
       "64"
      ]
     },
     "execution_count": 29,
     "metadata": {},
     "output_type": "execute_result"
    }
   ],
   "source": [
    "def power(a, n): \n",
    "    print \"Taking %d to the %d\" % (a,n)\n",
    "    if (n == 0):\n",
    "        return(1)\n",
    "    elif ((n % 2) == 0):\n",
    "        result = power(a,n/2)\n",
    "        return(result*result)\n",
    "    else:\n",
    "        return(a*power(a,n-1))\n",
    "    \n",
    "power(2,6)"
   ]
  },
  {
   "cell_type": "markdown",
   "metadata": {
    "collapsed": true,
    "slideshow": {
     "slide_type": "subslide"
    }
   },
   "source": [
    "# Fake coin problem\n",
    "\n",
    "Given $n$ coins, with $n-1$ of them being real, and $1$ being fake, how do you determine which coin is fake given that the fake coin is slightly lighter and you have a balance. \n",
    "\n",
    "#### Brute force: Weigh and record each coin. \n",
    " * Best case: 2 weighs \n",
    " * Worst case, $n$ weighs. \n",
    " * Average case $(n+2)/2$\n",
    "\n"
   ]
  },
  {
   "cell_type": "markdown",
   "metadata": {
    "slideshow": {
     "slide_type": "fragment"
    }
   },
   "source": [
    "#### Decrease and conquer\n",
    "* If n is even, put half the coins on one side, and half on the other. The side which is lighter contains the fake coin. \n",
    "* If n is odd, put take one coin out and do the above. If one side weighs less, it contains the fake coin. If both sides are equal, the fake coin is the removed coin. \n",
    "* Continue by splitting n in half until the fake coin is located. \n"
   ]
  },
  {
   "cell_type": "markdown",
   "metadata": {
    "slideshow": {
     "slide_type": "subslide"
    }
   },
   "source": [
    "# Decrease and conquer example: Fake coin problem\n",
    "\n",
    "Suppose we have 8 coins and we want to find which one is fake. Assume we know the fake coin is lighter than the others. How many steps does it take to ensure you have found the fake coin. \n",
    "\n",
    "1. Put 4 (n/2) coins on each side. Determine which side is heavier, and discard the coints on that side. \n",
    "2. Split the 4 coins on the lighter side and put 2 on each side.  Determine which side is heavier, and discard the coins on that side. \n",
    "3. Split the 2 coins on the lighter side and put 1 on each side.  Determine which side is heavier, and discard the coin on that side. The remaining coin is the fake coin.\n"
   ]
  },
  {
   "cell_type": "markdown",
   "metadata": {
    "slideshow": {
     "slide_type": "subslide"
    }
   },
   "source": [
    "# Decrease and conquer example 2: Fake coin problem\n",
    "\n",
    "Suppose we have 9 coins and we want to find which one is fake. Assume we know the fake coin is lighter than the others. How many steps does it take to ensure you have found the fake coin. \n",
    "\n",
    "1. Remove one coin. Put 4 (n-1)/2 coins on each side. Determine which side is heavier, and discard the coints on that side. \n",
    " * If neither is heavier, the removed coin is the fake one. Stop\n",
    "2. Split the 4 coins on the lighter side and put 2 on each side.  Determine which side is heavier, and discard the coins on that side. \n",
    "3. Split the 2 coins on the lighter side and put 1 on each side.  Determine which side is heavier, and discard the coin on that side. The remaining coin is the fake coin."
   ]
  },
  {
   "cell_type": "markdown",
   "metadata": {
    "slideshow": {
     "slide_type": "subslide"
    }
   },
   "source": [
    "# Decrease and conquer example 2: Fake coin problem\n",
    "\n",
    "Suppose we have 12 coins and we want to find which one is fake. Assume we know the fake coin is lighter than the others. How many steps does it take to ensure you have found the fake coin. \n",
    "\n",
    "1. Remove one coin. Put 6 (n/2) coins on each side. Determine which side is heavier, and discard the coints on that side. \n",
    "2. Split the 6 coins on the lighter side and put 3(n/2/2) on each side.  Determine which side is heavier, and discard the coins on that side. \n",
    "3. Split the 3 coins on the lighter side and put 1 on each side, removing (but not discarding) one  Determine which side is heavier, and discard the coin on that side. The remaining coin is the fake coin. If neither side is heavier, the removed coin is the fake one. \n",
    "\n",
    "Compare the number of steps required between 12 coins and 8 coins. \n"
   ]
  },
  {
   "cell_type": "markdown",
   "metadata": {
    "slideshow": {
     "slide_type": "slide"
    }
   },
   "source": [
    "# Divide and conquer\n",
    "Very similar to decrease and conquer. \n",
    "\n",
    "* Divide the problem up into several smaller problems (ideally until they are the same size)\n",
    "* solve each smaller problem\n",
    "* combine solutions of smaller problems until desired solution is formed. \n",
    "\n",
    "Great for parallel computations. "
   ]
  },
  {
   "cell_type": "markdown",
   "metadata": {
    "slideshow": {
     "slide_type": "subslide"
    }
   },
   "source": [
    "# Divide and Conquer for sorting an array: Mergesort\n",
    "\n",
    "Brute force approaches to sorting were $\\mathcal{O}(n^2)$. Divide and conquer will allow us to do much better than this. \n",
    "\n",
    "### Merge Sort\n",
    "Intuitive way of sorting array a. \n",
    " * Divide a(1:n) into two smaller arrays, a(1:n/2) and a(n/2+1, n)\n",
    " * Each of these two smaller arrays is divided again. Continue dividing arrays until you have n arrays of length 1 instead of 1 array of length n. \n",
    " * Merge smaller arrays into sorter array of length n. "
   ]
  },
  {
   "cell_type": "markdown",
   "metadata": {
    "slideshow": {
     "slide_type": "subslide"
    }
   },
   "source": [
    "# Regularly scheduled muscial interlude. \n",
    "\n"
   ]
  },
  {
   "cell_type": "code",
   "execution_count": 30,
   "metadata": {
    "collapsed": false,
    "slideshow": {
     "slide_type": "fragment"
    }
   },
   "outputs": [
    {
     "data": {
      "image/jpeg": "[encoded data removed]",
      "text/html": [
       "\n",
       "        <iframe\n",
       "            width=\"400\"\n",
       "            height=\"300\"\n",
       "            src=\"https://www.youtube.com/embed/XaqR3G_NVoo\"\n",
       "            frameborder=\"0\"\n",
       "            allowfullscreen\n",
       "        ></iframe>\n",
       "        "
      ],
      "text/plain": [
       "<IPython.lib.display.YouTubeVideo at 0x88dd400>"
      ]
     },
     "execution_count": 30,
     "metadata": {},
     "output_type": "execute_result"
    }
   ],
   "source": [
    "YouTubeVideo('XaqR3G_NVoo')"
   ]
  },
  {
   "cell_type": "markdown",
   "metadata": {
    "slideshow": {
     "slide_type": "subslide"
    }
   },
   "source": [
    "# Merge sort example\n",
    "\n",
    "Consider the array (45, 12, 61, 19, 71, 22, 4, 33)\n",
    "\n",
    "We divide it into 2 arrays. (45, 12, 61, 19)  and (71, 22, 4, 33)\n",
    "\n",
    "Divide these 2 arrays into 4 arrays. (45, 12) and  (61, 19)  and (71, 22) and  (4, 33)\n",
    "\n",
    "Divide these 4 arrays into 8 arrays. (45) and (12) and (61) and (19)  and (71) and (22) and (4) and (33). \n",
    "\n",
    "Now merge these 8 arrays into 4 sorted arrays. (12, 45) and (19,61) and (22,71) and (4,33)\n",
    "\n",
    "Now merge these 4 arrays into 2 sorted arrays. (12,19,45,61) and (4,22,33,71)\n",
    "\n",
    "Now merge these 2 arrays into 1 sorted array. (4,12,19,33,45,61,71). \n"
   ]
  },
  {
   "cell_type": "markdown",
   "metadata": {
    "slideshow": {
     "slide_type": "subslide"
    }
   },
   "source": [
    "# Merge sort chart. \n",
    "<img src=\"http://i.imgur.com/lwerQaX.png\" width=\"500\" heigth=\"500\" \\>\n"
   ]
  },
  {
   "cell_type": "markdown",
   "metadata": {
    "slideshow": {
     "slide_type": "subslide"
    }
   },
   "source": [
    "# Divide and Conquer: Multiplying Large integers\n",
    "\n",
    "Some applications (cyptography) require multiplying integers over 100 digits long. \n",
    "\n",
    "Max integer than can be stored on 64 bit computer in 1 variable is 2^63-1.\n",
    "\n",
    "The brute force method of multiplication for two integers (a,b) of length $n$ is: take the first the first digit of a and multiply it by all digits of b, adding each product to a sum of all preivous products. Then take the second digit of a and multiply it by all digits of b.\n",
    "\n",
    "* Continue this until you have done this for all $n$ digits of a. \n",
    "* $n^2$ mulptiplications followed by $n-1$ additions. \n",
    "* $\\mathcal{O}(n^2)$\n",
    "\n",
    "Try a divide and conquer approach instead."
   ]
  },
  {
   "cell_type": "markdown",
   "metadata": {
    "slideshow": {
     "slide_type": "subslide"
    }
   },
   "source": [
    "# Divide and Conquer: Multiplying Large integers\n",
    "\n",
    "Consider the following now 6 digit integers. \n",
    "\n",
    "$ a = a_5a_4a_3a_2a_1a_0 $ and $b_5b_4b_3b_2b_1b_0$\n",
    "\n",
    "Split each of them in half (NOT divide by 2). Now you have. \n",
    "\n",
    "$\\alpha_1 = a_5a_4a_3$ and $\\alpha_2 =a_2a_1a_0$ and $\\beta_1 = b_5b_4b_3$ and $\\beta_2 = b_2b_1b_0$\n",
    "\n",
    "The resulting sum can be given by: \n",
    "\n",
    "$$ c = ab = (\\alpha_1 * 10^3 + \\alpha_2) * (\\beta_1 * 10^3 +\\beta_0)$$\n",
    "\n",
    "FOIL this and combine your exponents. \n",
    "\n",
    "$$c = (\\alpha_1  \\beta_1) * 10^6 + (\\alpha_1  \\beta_0 +\\alpha_0 \\beta_1)*10^3 + (\\alpha_0  \\beta_0)$$ \n",
    "\n",
    "\n",
    "9 operations as opposed to 36. \n"
   ]
  },
  {
   "cell_type": "markdown",
   "metadata": {},
   "source": [
    "# Divide and Conquer: Matrix multipication\n",
    "\n",
    "Multiplying two matrices, $A$ and $B$ involves taking the dot product of each row of $A$ with each $column$ B. Dotting the first row of $A$ with every column in $B$ involves $n^2$ multiplications and $n(n-1)$ additions. As there are $n$ rows of A, this must be done $n$ times, so the method is $\\mathcal{O}(n^3)$\n",
    "\n",
    "Algorithms have been invented that are less than $\\mathcal{O}(n^3)$. Similar to large integer multiplication, decrease and conquer strategies allow you to do (marginally) better. The Strassen Matrix multiplication algorthim uses a series of intermediate products to compute the matrix product in $\\mathcal{O}(n^2.8)$. It has been further modified to be done in. $\\mathcal{O}(n^2.376)$. \n",
    "\n",
    "For a $1000 \\times 1000$  matrix\n",
    "$$n^3 = 1,000,000,000$$\n",
    "$$n^{2.8} = 251,190,000$$\n",
    "$$n^{2.376} = 13,428,000$$\n",
    "\n",
    "Not often used due to instabilities for certian matrices. "
   ]
  },
  {
   "cell_type": "markdown",
   "metadata": {
    "slideshow": {
     "slide_type": "subslide"
    }
   },
   "source": [
    "# Strassen Matrix algorithm\n",
    "http://i.imgur.com/Q06F0mh.png\n",
    "\n",
    "<img src=\"http://i.imgur.com/Q06F0mh.png\" width=\"500\" heigth=\"500\" \\>\n"
   ]
  },
  {
   "cell_type": "code",
   "execution_count": null,
   "metadata": {
    "collapsed": true
   },
   "outputs": [],
   "source": []
  }
 ],
 "metadata": {
  "celltoolbar": "Slideshow",
  "kernelspec": {
   "display_name": "Python 2",
   "language": "python",
   "name": "python2"
  },
  "language_info": {
   "codemirror_mode": {
    "name": "ipython",
    "version": 2
   },
   "file_extension": ".py",
   "mimetype": "text/x-python",
   "name": "python",
   "nbconvert_exporter": "python",
   "pygments_lexer": "ipython2",
   "version": "2.7.11"
  }
 },
 "nbformat": 4,
 "nbformat_minor": 0
}
