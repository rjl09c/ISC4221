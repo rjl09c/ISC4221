{
 "cells": [
  {
   "cell_type": "markdown",
   "metadata": {
    "slideshow": {
     "slide_type": "slide"
    }
   },
   "source": [
    "# ISC 4221: Algorithms for Science Applications II"
   ]
  },
  {
   "cell_type": "markdown",
   "metadata": {
    "slideshow": {
     "slide_type": "fragment"
    }
   },
   "source": [
    "**Instructor:** Ryan Learn <br\\>\n",
    "\n",
    "\n",
    "**email:** rjl09c@my.fsu.edu    <br\\>\n",
    "\n",
    "\n",
    "**office:** 492H <br\\>\n",
    "\n",
    "**Office Hours:**  TR 12:00-2:00pm or by Appointment<br\\>\n",
    "\n",
    "**Lecture Time:**  MTWTR 11:00am-12:00pm <br\\>\n",
    "\n",
    "**Lab Time: ** M 1:45-4:15pm <br\\>\n",
    "\n",
    "**Prerequisites:** Calculus I + II or Instructor Permission<br\\>\n"
   ]
  },
  {
   "cell_type": "markdown",
   "metadata": {
    "slideshow": {
     "slide_type": "slide"
    }
   },
   "source": [
    "# Course Resources"
   ]
  },
  {
   "cell_type": "markdown",
   "metadata": {
    "collapsed": false,
    "slideshow": {
     "slide_type": "fragment"
    }
   },
   "source": [
    "Blackboard <br\\>\n"
   ]
  },
  {
   "cell_type": "markdown",
   "metadata": {
    "slideshow": {
     "slide_type": "fragment"
    }
   },
   "source": [
    "Slack "
   ]
  },
  {
   "cell_type": "markdown",
   "metadata": {
    "slideshow": {
     "slide_type": "fragment"
    }
   },
   "source": [
    "Jupyter Notebooks"
   ]
  },
  {
   "cell_type": "markdown",
   "metadata": {
    "slideshow": {
     "slide_type": "fragment"
    }
   },
   "source": [
    "Skype"
   ]
  },
  {
   "cell_type": "markdown",
   "metadata": {
    "slideshow": {
     "slide_type": "subslide"
    }
   },
   "source": [
    "# Blackboard <br\\>\n",
    "\n",
    "\n",
    "Assignments will be posted, submitted and graded via Blackboard <br\\>\n",
    "\n",
    "\n",
    "Syllabus/Course info <br\\>\n",
    "\n",
    "\n",
    "Links to presentations <br\\>"
   ]
  },
  {
   "cell_type": "code",
   "execution_count": 7,
   "metadata": {
    "collapsed": false,
    "slideshow": {
     "slide_type": "skip"
    }
   },
   "outputs": [],
   "source": [
    "%matplotlib inline\n"
   ]
  },
  {
   "cell_type": "markdown",
   "metadata": {
    "collapsed": false,
    "slideshow": {
     "slide_type": "subslide"
    }
   },
   "source": [
    "# Slack <br\\>\n",
    "\n",
    "For questions/help on assignments outside of office hours. <br\\>\n",
    "\n",
    "\n",
    "Our channel name is ISC4221Summer2016, and my username is rjl09c. <br\\>\n",
    "\n",
    "Likely to have much faster response time than my email. <br\\>\n"
   ]
  },
  {
   "cell_type": "markdown",
   "metadata": {
    "slideshow": {
     "slide_type": "subslide"
    }
   },
   "source": [
    "# Jupyter Notebooks <br\\>\n",
    "\n",
    "Coding for this course will typically be done using python, both for demonstrations in class and assignments/labs. <br\\>\n",
    "\n",
    "Jupyter notebooks allow integrated markdown/coding. Makes writing up your assignments a breeze. <br\\>\n",
    "\n",
    "It can be installed here:  http://jupyter.org/ "
   ]
  },
  {
   "cell_type": "markdown",
   "metadata": {
    "slideshow": {
     "slide_type": "subslide"
    }
   },
   "source": [
    "# Jupyter Notebook Example"
   ]
  },
  {
   "cell_type": "code",
   "execution_count": 8,
   "metadata": {
    "collapsed": false,
    "slideshow": {
     "slide_type": "fragment"
    }
   },
   "outputs": [
    {
     "data": {
      "image/png": "[encoded data removed]",
      "text/plain": [
       "<matplotlib.figure.Figure at 0x7db07f0>"
      ]
     },
     "metadata": {},
     "output_type": "display_data"
    }
   ],
   "source": [
    "import matplotlib.pyplot as plt\n",
    "import numpy as np\n",
    "\n",
    "x = np.linspace(0, 20, 1000)  # 100 evenly-spaced values from 0 to 50\n",
    "y = np.sin(x)\n",
    "\n",
    "plt.plot(x, y)\n",
    "plt.show()"
   ]
  },
  {
   "cell_type": "markdown",
   "metadata": {
    "slideshow": {
     "slide_type": "subslide"
    }
   },
   "source": [
    "# Skype <br\\>\n",
    "\n",
    "For class away from class. <br\\>\n",
    "\n",
    "Skype username is rjl09c"
   ]
  },
  {
   "cell_type": "markdown",
   "metadata": {
    "collapsed": true,
    "slideshow": {
     "slide_type": "slide"
    }
   },
   "source": [
    "# Course Policies\n",
    "\n",
    "Attendance. \n",
    "\n",
    "Assignments.\n",
    "\n",
    "Grading. \n"
   ]
  },
  {
   "cell_type": "markdown",
   "metadata": {
    "slideshow": {
     "slide_type": "subslide"
    }
   },
   "source": [
    "# Attendance \n",
    "\n",
    "Not mandatory but strongly encouraged. \n",
    "\n",
    "Can be done on skype. "
   ]
  },
  {
   "cell_type": "markdown",
   "metadata": {
    "slideshow": {
     "slide_type": "subslide"
    }
   },
   "source": [
    "# Assignments\n",
    "\n",
    "6 Labs, 6 Homeworks. 1 Midterm. 1 Project\n",
    "\n",
    "Homeworks/Labs are to be turned in as a Jupyter notebook .AND. a PDF, in a zip file LastNameHomeworkX or LastNameLabX. \n",
    "\n",
    "Upload them to blackboard. Do not email them to me.\n",
    "\n",
    "\n"
   ]
  },
  {
   "cell_type": "code",
   "execution_count": 9,
   "metadata": {
    "collapsed": false,
    "slideshow": {
     "slide_type": "fragment"
    }
   },
   "outputs": [
    {
     "name": "stdout",
     "output_type": "stream",
     "text": [
      "Do not email me your assignments\n"
     ]
    }
   ],
   "source": [
    "print \"Do not email me your assignments\""
   ]
  },
  {
   "cell_type": "markdown",
   "metadata": {
    "slideshow": {
     "slide_type": "subslide"
    }
   },
   "source": [
    "# Assignments\n",
    "\n",
    "Do not email me your assignments. "
   ]
  },
  {
   "cell_type": "markdown",
   "metadata": {
    "slideshow": {
     "slide_type": "subslide"
    }
   },
   "source": [
    "# Grading \n",
    "\n",
    "Final Project - 20%  Homework - 35%  Midterm - 15%  Labs - 30%\n",
    "\n",
    "\n",
    "A = 90-100, B = 80-89, C = 70-79, D = 60-69\n",
    "\n",
    "Will use + and - grades as appropriate. \n"
   ]
  },
  {
   "cell_type": "markdown",
   "metadata": {
    "slideshow": {
     "slide_type": "subslide"
    }
   },
   "source": [
    "# Late Policy\n",
    "\n",
    "Homework and Labs can be turned in late as per the sylabus (20% off after 24 hrs late, 50% off after the later of me grading the assignment or a week). \n",
    "\n",
    "Barring documented exigent circumstances, final project can't be turned it late. "
   ]
  },
  {
   "cell_type": "markdown",
   "metadata": {
    "slideshow": {
     "slide_type": "slide"
    }
   },
   "source": [
    "# Course Content\n",
    "\n",
    "• Part I - Introduction to Algorithm Design and Analysis <br\\>\n",
    "\n",
    "• Part II - Random Processes <br\\>\n",
    "\n",
    "• Part III - Graph Theory <br\\>\n",
    "\n",
    "• Part IV - Data Mining <br\\>\n",
    "\n",
    "• Part V - Clustering <br\\>\n",
    "\n",
    "• Part VI - Optimization <br\\>\n",
    "\n",
    "• Part VII - Feature Extraction and Pattern Recognition<br\\>\n",
    "\n",
    "• Part VIII - Computational Geometry <br\\>"
   ]
  },
  {
   "cell_type": "markdown",
   "metadata": {
    "slideshow": {
     "slide_type": "slide"
    }
   },
   "source": [
    "# Boiler Plate\n",
    "\n",
    "**Honor Code:** The Florida State University Academic Honor Policy outlines the Universitys\n",
    "expectations for the integrity of students academic work, the procedures for resolving\n",
    "alleged violations of those expectations, and the rights and responsibilities of students and\n",
    "faculty members throughout the process. Students are responsible for reading the Academic\n",
    "Honor Policy and for living up to their pledge to be honest and truthful andt o\n",
    "strive for personal and institutional integrity at Florida State University. (Florida State\n",
    "University Academic Honor Policy, found at http://dof.fsu.edu/honorpolicy.htm.)\n",
    "\n",
    "\n",
    "**ADA:** Students with disabilities needing academic accommodation should:\n",
    "1. Register with and provide documentation to the Student Disability Resource Center;\n",
    "and\n",
    "2. Bring a letter to the instructor indicating the need for accommodation and what type.\n",
    "This should be done during the first week of class. This syllabus and other class\n",
    "materials are available in alternative format upon request. For more information\n",
    "about services available to FSU students with disabilities, contact the:\n",
    "\n",
    "\n",
    "Student Disability Resource Center<br\\>\n",
    "97 Woodward Avenue, South <br\\>\n",
    "108 Student Services Building <br\\>\n",
    "Florida State University <br\\>\n",
    "Tallahassee, FL 32306-4167 <br\\>\n",
    "(850) 644-9566 (voice) <br\\>\n",
    "(850) 644-8504 (TDD) <br\\>\n",
    "sdrc@admin.fsu.edu <br\\> \n",
    "http://www.disabilitycenter.fsu.edu/ <br\\>\n",
    "\n",
    "\n",
    "**Syllabus Change Policy:** Except for changes that substantially affect implementation\n",
    "of the evaluation (grading) statement, this syllabus is a guide for the course and is subject\n",
    "to change with advance notice.\n"
   ]
  },
  {
   "cell_type": "markdown",
   "metadata": {
    "slideshow": {
     "slide_type": "slide"
    }
   },
   "source": [
    "# Onward onto Algorithm Design and Analysis"
   ]
  }
 ],
 "metadata": {
  "celltoolbar": "Slideshow",
  "kernelspec": {
   "display_name": "Python 2",
   "language": "python",
   "name": "python2"
  },
  "language_info": {
   "codemirror_mode": {
    "name": "ipython",
    "version": 2
   },
   "file_extension": ".py",
   "mimetype": "text/x-python",
   "name": "python",
   "nbconvert_exporter": "python",
   "pygments_lexer": "ipython2",
   "version": "2.7.11"
  }
 },
 "nbformat": 4,
 "nbformat_minor": 0
}
