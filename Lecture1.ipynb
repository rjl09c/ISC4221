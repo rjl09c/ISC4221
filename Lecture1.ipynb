{
 "cells": [
  {
   "cell_type": "markdown",
   "metadata": {
    "slideshow": {
     "slide_type": "slide"
    }
   },
   "source": [
    "# ISC 4221: Algorithms for Science Applications II"
   ]
  },
  {
   "cell_type": "markdown",
   "metadata": {
    "slideshow": {
     "slide_type": "fragment"
    }
   },
   "source": [
    "**Instructor:** Ryan Learn <br\\>\n",
    "\n",
    "\n",
    "**email:** rjl09c@my.fsu.edu    <br\\>\n",
    "\n",
    "\n",
    "**office:** 492H <br\\>\n",
    "\n",
    "**Office Hours:**  TR 12:00-2:00pm or by Appointment<br\\>\n",
    "\n",
    "**Lecture Time:**  MTWTR 11:00am-12:00pm <br\\>\n",
    "\n",
    "**Lab Time: ** M 1:45-4:15pm <br\\>\n",
    "\n",
    "**Prerequisites:** Calculus I + II or Instructor Permission<br\\>\n"
   ]
  },
  {
   "cell_type": "markdown",
   "metadata": {
    "slideshow": {
     "slide_type": "slide"
    }
   },
   "source": [
    "# Course Resources"
   ]
  },
  {
   "cell_type": "markdown",
   "metadata": {
    "collapsed": false,
    "slideshow": {
     "slide_type": "fragment"
    }
   },
   "source": [
    "Blackboard <br\\>\n"
   ]
  },
  {
   "cell_type": "markdown",
   "metadata": {
    "slideshow": {
     "slide_type": "fragment"
    }
   },
   "source": [
    "Slack "
   ]
  },
  {
   "cell_type": "markdown",
   "metadata": {
    "slideshow": {
     "slide_type": "fragment"
    }
   },
   "source": [
    "Jupyter Notebooks"
   ]
  },
  {
   "cell_type": "markdown",
   "metadata": {
    "slideshow": {
     "slide_type": "fragment"
    }
   },
   "source": [
    "Skype"
   ]
  },
  {
   "cell_type": "markdown",
   "metadata": {
    "slideshow": {
     "slide_type": "subslide"
    }
   },
   "source": [
    "# Blackboard <br\\>\n",
    "\n",
    "\n",
    "Assignments will be posted, submitted and graded via Blackboard <br\\>\n",
    "\n",
    "\n",
    "Syllabus/Course info <br\\>\n",
    "\n",
    "\n",
    "Links to presentations <br\\>"
   ]
  },
  {
   "cell_type": "code",
   "execution_count": 3,
   "metadata": {
    "collapsed": false,
    "slideshow": {
     "slide_type": "skip"
    }
   },
   "outputs": [
    {
     "name": "stdout",
     "output_type": "stream",
     "text": [
      "Populating the interactive namespace from numpy and matplotlib\n"
     ]
    }
   ],
   "source": [
    "%pylab inline\n"
   ]
  },
  {
   "cell_type": "markdown",
   "metadata": {
    "collapsed": false,
    "slideshow": {
     "slide_type": "subslide"
    }
   },
   "source": [
    "# Slack <br\\>\n",
    "\n",
    "For questions/help on assignments outside of office hours. <br\\>\n",
    "\n",
    "\n",
    "Our channel name is ISC4221Summer2016, and my username is rjl09c. <br\\>\n",
    "\n",
    "Likely to have much faster response time than my email. <br\\>\n"
   ]
  },
  {
   "cell_type": "markdown",
   "metadata": {
    "slideshow": {
     "slide_type": "subslide"
    }
   },
   "source": [
    "# Jupyter Notebooks <br\\>\n",
    "\n",
    "Coding for this course will typically be done using python, both for demonstrations in class and assignments/labs. <br\\>\n",
    "\n",
    "Jupyter notebooks allow integrated markdown/coding. Makes writing up your assignments a breeze. <br\\>\n",
    "\n",
    "It can be installed here:  http://jupyter.org/ "
   ]
  },
  {
   "cell_type": "markdown",
   "metadata": {
    "slideshow": {
     "slide_type": "subslide"
    }
   },
   "source": [
    "# Jupyter Notebook Example"
   ]
  },
  {
   "cell_type": "code",
   "execution_count": 2,
   "metadata": {
    "collapsed": false,
    "slideshow": {
     "slide_type": "fragment"
    }
   },
   "outputs": [
    {
     "data": {
      "text/plain": [
       "[<matplotlib.lines.Line2D at 0x3f02fd0>]"
      ]
     },
     "execution_count": 2,
     "metadata": {},
     "output_type": "execute_result"
    }
   ],
   "source": [
    "import pylab\n",
    "import numpy as np\n",
    "\n",
    "x = np.linspace(0, 20, 1000)  # 100 evenly-spaced values from 0 to 50\n",
    "y = np.sin(x)\n",
    "\n",
    "pylab.plot(x, y)"
   ]
  },
  {
   "cell_type": "markdown",
   "metadata": {
    "slideshow": {
     "slide_type": "subslide"
    }
   },
   "source": [
    "# Skype <br\\>\n",
    "\n",
    "For class away from class. <br\\>\n",
    "\n",
    "Skype username is rjl09c"
   ]
  },
  {
   "cell_type": "code",
   "execution_count": null,
   "metadata": {
    "collapsed": true
   },
   "outputs": [],
   "source": []
  }
 ],
 "metadata": {
  "celltoolbar": "Slideshow",
  "kernelspec": {
   "display_name": "Python 2",
   "language": "python",
   "name": "python2"
  },
  "language_info": {
   "codemirror_mode": {
    "name": "ipython",
    "version": 2
   },
   "file_extension": ".py",
   "mimetype": "text/x-python",
   "name": "python",
   "nbconvert_exporter": "python",
   "pygments_lexer": "ipython2",
   "version": "2.7.11"
  }
 },
 "nbformat": 4,
 "nbformat_minor": 0
}
