{
 "cells": [
  {
   "cell_type": "markdown",
   "metadata": {
    "slideshow": {
     "slide_type": "slide"
    }
   },
   "source": [
    "# ISC 4221: Algorithms for Science Applications II"
   ]
  },
  {
   "cell_type": "markdown",
   "metadata": {
    "slideshow": {
     "slide_type": "fragment"
    }
   },
   "source": [
    "**Instructor:** Ryan Learn <br\\>\n",
    "<br\\>\n",
    "**email:** rjl09c@my.fsu.edu    <br\\>\n",
    "**office:** 492H <br\\>\n",
    "**Office Hours:**  TR 12:00-2:00pm or by Appointment<br\\>\n",
    "**Lecture Time: **  MTWTR 11:00am-12:00pm <br\\>\n",
    "**Lab Time: ** M 1:45-4:15pm <br\\>\n",
    "**Prerequisites:** Calculus I + II or Instructor Permission<br\\>"
   ]
  },
  {
   "cell_type": "markdown",
   "metadata": {
    "slideshow": {
     "slide_type": "slide"
    }
   },
   "source": [
    "# Course Resources"
   ]
  },
  {
   "cell_type": "markdown",
   "metadata": {
    "collapsed": false,
    "slideshow": {
     "slide_type": "fragment"
    }
   },
   "source": [
    "Blackboard <br\\>\n",
    "Slack <br\\>\n",
    "Jupyter Notebooks <br\\>\n",
    "Skype <br\\>"
   ]
  },
  {
   "cell_type": "markdown",
   "metadata": {
    "slideshow": {
     "slide_type": "subslide"
    }
   },
   "source": [
    "# Blackboard <br\\>\n",
    "\n",
    "Assignments will be posted, submitted and graded via Blackboard <br\\>\n",
    "Syllabus is posted here <br\\>\n",
    "Links to presentations will be placed on here as well"
   ]
  },
  {
   "cell_type": "code",
   "execution_count": 3,
   "metadata": {
    "collapsed": false,
    "slideshow": {
     "slide_type": "skip"
    }
   },
   "outputs": [
    {
     "name": "stdout",
     "output_type": "stream",
     "text": [
      "Populating the interactive namespace from numpy and matplotlib\n"
     ]
    }
   ],
   "source": [
    "%pylab inline\n"
   ]
  },
  {
   "cell_type": "markdown",
   "metadata": {
    "collapsed": false,
    "slideshow": {
     "slide_type": "subslide"
    }
   },
   "source": [
    "# Slack <br\\>\n",
    "\n",
    "For questions/help on assignments outside of office hours. <br\\>\n",
    "Our channel name is ISC4221Summer2016, and my username is rjl09c. <br\\>\n",
    "Likely to have much faster response time than my email. <br\\>\n"
   ]
  },
  {
   "cell_type": "markdown",
   "metadata": {
    "slideshow": {
     "slide_type": "subslide"
    }
   },
   "source": [
    "# Jupyter Notebooks <br\\>\n",
    "\n",
    "Coding for this course will typically be done using python, both for demonstrations in class and assignments/labs. <br\\>\n",
    "Jupyter notebooks allow integrated markdown/coding. Makes writing up your assignments a breeze. <br\\>\n",
    "It can be installed here:  http://jupyter.org/ "
   ]
  },
  {
   "cell_type": "markdown",
   "metadata": {
    "slideshow": {
     "slide_type": "subslide"
    }
   },
   "source": [
    "# Skype <br\\>\n",
    "\n",
    "For class away from class. <br\\>\n",
    "Skype username is rjl09c"
   ]
  },
  {
   "cell_type": "code",
   "execution_count": null,
   "metadata": {
    "collapsed": true
   },
   "outputs": [],
   "source": []
  }
 ],
 "metadata": {
  "celltoolbar": "Slideshow",
  "kernelspec": {
   "display_name": "Python 2",
   "language": "python",
   "name": "python2"
  },
  "language_info": {
   "codemirror_mode": {
    "name": "ipython",
    "version": 2
   },
   "file_extension": ".py",
   "mimetype": "text/x-python",
   "name": "python",
   "nbconvert_exporter": "python",
   "pygments_lexer": "ipython2",
   "version": "2.7.11"
  }
 },
 "nbformat": 4,
 "nbformat_minor": 0
}
