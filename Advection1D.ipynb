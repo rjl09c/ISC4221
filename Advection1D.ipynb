{
 "cells": [
  {
   "cell_type": "markdown",
   "metadata": {},
   "source": [
    "# Intro to Practical FV Codes: 1D Advection\n",
    "\n",
    "This python notebook is designed to serve as an introduction into the development of a Godunov type solver for hyerpobolic methods. It's been done in a modular fashion to allow us to upgrade/switch/deactivate different modules as we deem neccesary, without having to drastically modify the structure and flow of the code ."
   ]
  },
  {
   "cell_type": "markdown",
   "metadata": {},
   "source": [
    "## Driver function\n",
    "\n",
    "The driver function will serve as our catch controller for all physical/numerical operations we seek to compute; When it comes time to solve a finite volume system, it will be the only function directly invoked by the user. "
   ]
  },
  {
   "cell_type": "code",
   "execution_count": 11,
   "metadata": {
    "collapsed": true
   },
   "outputs": [],
   "source": [
    "%matplotlib inline\n",
    "\n",
    "import matplotlib\n",
    "import numpy as np\n",
    "import matplotlib.pyplot as plt"
   ]
  },
  {
   "cell_type": "code",
   "execution_count": 12,
   "metadata": {
    "collapsed": false
   },
   "outputs": [],
   "source": [
    "def advectionDriver():\n",
    "    \n",
    "   return"
   ]
  },
  {
   "cell_type": "markdown",
   "metadata": {},
   "source": [
    "## The necessary components for a numerical solution\n",
    "As you no doubt recall from Dr. Plewa's lecture, having a discrete model for the system of interest you need to solve is not enough to actually generate useful results. Also needed are \n",
    "* A physical domain on which your equation is to be solved\n",
    "* The initial conditions of your solution on that physical domain\n",
    "* Information about what happens on the edges of your physical domain"
   ]
  },
  {
   "cell_type": "code",
   "execution_count": 10,
   "metadata": {
    "collapsed": false
   },
   "outputs": [],
   "source": [
    "def initGrid():\n",
    "    \n",
    "   return\n",
    "\n",
    "def initCond():\n",
    "    \n",
    "    return\n",
    "\n",
    "def boundCond():\n",
    "    \n",
    "    return"
   ]
  },
  {
   "cell_type": "markdown",
   "metadata": {},
   "source": [
    "## From a physical to numerical model\n",
    "Now it's time to move from the physical model of the behaivor we wish to solve (be it diffusion, advection, combustion etc...) to a set of discrete equations that a computer can solve in order to create a discrete solution to the equations of our physical model. As you've probably inferred, the physical phenomena we wish to model today is the advection of some quatity in a fluid flow. This phenomena is described by a  well known and relatively simple mathematical model \n",
    "\n",
    "$$\\frac{\\partial \\rho}{\\partial t} + \\nabla \\cdot (\\vec{u} \\rho) = 0$$\n",
    "\n",
    "Here, $\\rho$ is some scalar quatity and $\\vec{u}$ is the velocity field. \n",
    "\n",
    "In order to simplify matters somewhat, we're going to look at the 1D Advection equation with a constant velocity field, which reduces to \n",
    "\n",
    "$$\\frac{\\partial \\rho}{\\partial t} + u_x \\frac{\\partial\\rho}{\\partial x} = 0$$\n",
    "\n",
    "In order to come up with a discrete solution to this problem on our discrete domain, we have to convert it to a discrete equation. There are a variety of ways to do this; one could convert the differential opertors in the advection equation into into discrete differential opertars using some sort of finite-difference approximation, but it turns out this has some drawbacks with regards things like conservation laws, so insteal we'll use a finite volume scheme. \n",
    "\n",
    "## Finite volume schemes. \n",
    "\n",
    "Taking our 1D advection equation, we can define a quantity $f(x,t) = u_x(x,t)\\rho(x,t)$, this quantity is the flux of our scalar quantity at location $x$ and time $t$. We can thus rewrite our advection equation as \n",
    "\n",
    "$$\\frac{\\partial \\rho}{\\partial t} +  \\frac{\\partial f(x,t)}{\\partial x} = 0$$\n",
    "\n",
    "We now proceed to discretize our equation; we if we split our domain up into a number of volume cells of finite size, we can define the cell average value of our scalar quantity $\\rho$ in cell $i$ at time $t_1$ as \n",
    "\n",
    "$$\\bar{\\rho_i}(t_1) = \\frac{1}{x_{i+1/2}-x_{i-1/2}} \\int_{x_{i-1/2}}^{x_{i+1/2}} \\rho(x,t_1) dx$$ \n",
    "\n",
    "Skipping a few steps, we can write the time evolution of our cell averaged scalar quantity as \n",
    "\n",
    "$$\\bar{\\rho_i}(t_2) = \\frac{1}{\\Delta x_i} \\int_{x_{i-1/2}}^{x_{i+1/2}}[\\rho(x,t_1)  - \\int_{t_1}^{t_2} f_x(x,t)dt]dx$$ \n",
    "\n",
    "As in 1D, $f_x(x,t)$ is equivalent to $\\nabla \\cdot f(x,t)$, we can use the divergene theorem to substitute the volume intergral of the divergence of this flux throughout the cell with the surface integral of the flux along the bounadries of the cell.  \n",
    "\n",
    "\n",
    "This allows us to write, \n",
    "\n",
    "$$\\bar{\\rho_i}(t_2) = \\bar{\\rho_i}(t_1) - \\frac{1}{\\Delta x_i}(\\int_{t_1}^{t_2} f_{i+1/2} dt-\\int_{t_1}^{t_2} f_{i-1/2} dt)$$\n",
    "\n",
    "\n",
    "\n"
   ]
  },
  {
   "cell_type": "code",
   "execution_count": null,
   "metadata": {
    "collapsed": true
   },
   "outputs": [],
   "source": []
  }
 ],
 "metadata": {
  "kernelspec": {
   "display_name": "Python 2",
   "language": "python",
   "name": "python2"
  },
  "language_info": {
   "codemirror_mode": {
    "name": "ipython",
    "version": 2
   },
   "file_extension": ".py",
   "mimetype": "text/x-python",
   "name": "python",
   "nbconvert_exporter": "python",
   "pygments_lexer": "ipython2",
   "version": "2.7.11"
  }
 },
 "nbformat": 4,
 "nbformat_minor": 0
}
