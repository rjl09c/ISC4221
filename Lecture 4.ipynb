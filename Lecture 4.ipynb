{
 "cells": [
  {
   "cell_type": "markdown",
   "metadata": {
    "slideshow": {
     "slide_type": "slide"
    }
   },
   "source": [
    "# Grapth Theory and Graph Algorithms\n",
    "\n"
   ]
  },
  {
   "cell_type": "markdown",
   "metadata": {
    "slideshow": {
     "slide_type": "subslide"
    }
   },
   "source": [
    "# A quick trip to East Prussia \n",
    "\n",
    "Famed Mathematican Leonhard Euler found himself in the city of Konisberg and asked himself the question:\n",
    "\n",
    "IMAGE\n",
    "\n",
    "Is there any path I can take across these seven bridges to end up back where I started, using each bridge once and only once?\n",
    "\n"
   ]
  },
  {
   "cell_type": "markdown",
   "metadata": {
    "slideshow": {
     "slide_type": "subslide"
    }
   },
   "source": [
    "## Konisberg Bridge\n",
    "Abstracting the problem, he was essentially posing the first question in the fild of graph theory. \n",
    "\n",
    "IMAGE\n",
    "\n",
    "He thought about it at length and eventually concluded (correctly), that such a trip was impossible\n",
    "\n"
   ]
  },
  {
   "cell_type": "markdown",
   "metadata": {
    "slideshow": {
     "slide_type": "subslide"
    }
   },
   "source": [
    "## Konisberg Bridge \n",
    "\n",
    "\n",
    "IMAGE\n",
    "\n",
    "Reality doesn't match up so neatly with abstract thought experiments though, with two of the bridges being destroyed and a further two of them being combined, so now it is possible to visit all the land-masses without doubling back, but in this case you don't end up where you started. \n"
   ]
  },
  {
   "cell_type": "markdown",
   "metadata": {
    "slideshow": {
     "slide_type": "subslide"
    }
   },
   "source": [
    "## Graphs\n",
    "\n",
    "The simplest graphs of comprised of two things.\n",
    "* Points, which correspond with the Konisberg landmasses\n",
    "* Edges, wich correspond with the bridges. \n",
    "\n",
    "Edges connect points. At it's very simplest, a graph is merely a list of edges between points. \n",
    "\n",
    "We could summarize our bridge setup in text as \n",
    "\n",
    "{{A,C}, {A,C}, {A,B}, {A,B}, {A,D}, {C,D},{B,D}}"
   ]
  },
  {
   "cell_type": "markdown",
   "metadata": {
    "slideshow": {
     "slide_type": "subslide"
    }
   },
   "source": [
    "## Graphs\n",
    "\n",
    "We can further complicate our graphs by\n",
    "\n",
    "* Allowing repeated edges\n",
    "* Adding directionality to edges (one way bridges)\n",
    "* Allowing edges to connect points to themselves ({A,A})\n",
    "* Giving each edge a scalar length\n",
    "\n"
   ]
  },
  {
   "cell_type": "markdown",
   "metadata": {
    "slideshow": {
     "slide_type": "subslide"
    }
   },
   "source": [
    "## Why Bother With Graphs?\n",
    "\n",
    "For Small problems; graphs can clearly present all the relevant information on relationships between objects with the clutter of geographic reality. \n",
    "\n",
    "For Large Problems, the use of algorithms can allow us to study graphs and make conclusions about specific graphs. \n",
    "\n",
    "Graphs theory is like statistics in that it can be used as a tool to study problems in a wide variety of fields. "
   ]
  },
  {
   "cell_type": "markdown",
   "metadata": {
    "slideshow": {
     "slide_type": "subslide"
    }
   },
   "source": [
    "## Application Example: SciLoc"
   ]
  },
  {
   "cell_type": "markdown",
   "metadata": {
    "slideshow": {
     "slide_type": "subslide"
    }
   },
   "source": [
    "## Application Example: SciLoc"
   ]
  },
  {
   "cell_type": "markdown",
   "metadata": {
    "slideshow": {
     "slide_type": "subslide"
    }
   },
   "source": [
    "## Application Example: Project Management\n"
   ]
  },
  {
   "cell_type": "markdown",
   "metadata": {
    "slideshow": {
     "slide_type": "subslide"
    }
   },
   "source": [
    "## Graph Theory: Representing a graph\n",
    "\n",
    "Obviously, when we want to analyze a graph algorithmically, we can't give an algorithm a picture of the graph and have it handle it.\n",
    "\n",
    "One must select a unified and consistent framework for desbribing a graph.\n",
    "\n",
    "The simplest represantion we saw earlier for this was a list of edges. \n",
    "\n",
    "This is called an edge list. \n",
    "\n"
   ]
  },
  {
   "cell_type": "markdown",
   "metadata": {
    "slideshow": {
     "slide_type": "subslide"
    }
   },
   "source": [
    "## Edge list in Python\n",
    "\n"
   ]
  },
  {
   "cell_type": "code",
   "execution_count": 1,
   "metadata": {
    "collapsed": true,
    "slideshow": {
     "slide_type": "fragment"
    }
   },
   "outputs": [],
   "source": [
    "EdgeList = [['A','B'], ['A','C'], ['B','C'], ['C','D']]"
   ]
  },
  {
   "cell_type": "markdown",
   "metadata": {
    "slideshow": {
     "slide_type": "fragment"
    }
   },
   "source": [
    "Using strings or characters can be a bit tedious though, so you'll ofter see integers used instead. '"
   ]
  },
  {
   "cell_type": "code",
   "execution_count": 2,
   "metadata": {
    "collapsed": true
   },
   "outputs": [],
   "source": [
    "EdgeList = [[1,2], [1,3], [2,3], [3,4]]"
   ]
  },
  {
   "cell_type": "markdown",
   "metadata": {
    "slideshow": {
     "slide_type": "fragment"
    }
   },
   "source": [
    "If the labels are important, you can store them and look them up later. "
   ]
  },
  {
   "cell_type": "markdown",
   "metadata": {
    "slideshow": {
     "slide_type": "subslide"
    }
   },
   "source": [
    "## Graph Theory: Representing a graph\n",
    "\n",
    "Problems with Edgelists;\n",
    " * What if a point has no edges, is it represented in the graph\n",
    " * How do we add things like distances to the edges?\n",
    " * Growths in size a function of edge numbers, not node numbers. \n",
    " \n",
    "First Alternative: Adjancency matrix. For an $n$ node graph, the $n \\times n$ adjancency matrix is given by. \n",
    " \n",
    " $ A_{i,j} = 1 \\text{if nodes } i \\text{ and } j \\text{ are connected} $ \n",
    " \n",
    " $ A_{i,j} = 0 \\text{ otherwise}$\n",
    " "
   ]
  },
  {
   "cell_type": "code",
   "execution_count": null,
   "metadata": {
    "collapsed": true,
    "slideshow": {
     "slide_type": "subslide"
    }
   },
   "outputs": [],
   "source": [
    "#"
   ]
  }
 ],
 "metadata": {
  "celltoolbar": "Slideshow",
  "kernelspec": {
   "display_name": "Python 2",
   "language": "python",
   "name": "python2"
  },
  "language_info": {
   "codemirror_mode": {
    "name": "ipython",
    "version": 2
   },
   "file_extension": ".py",
   "mimetype": "text/x-python",
   "name": "python",
   "nbconvert_exporter": "python",
   "pygments_lexer": "ipython2",
   "version": "2.7.11"
  }
 },
 "nbformat": 4,
 "nbformat_minor": 0
}
